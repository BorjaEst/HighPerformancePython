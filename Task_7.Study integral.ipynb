{
 "cells": [
  {
   "cell_type": "code",
   "execution_count": 1,
   "metadata": {
    "ExecuteTime": {
     "end_time": "2019-11-26T21:41:04.237994Z",
     "start_time": "2019-11-26T21:41:03.217563Z"
    }
   },
   "outputs": [
    {
     "data": {
      "text/html": [
       "<style>.container { width:95% !important; }</style>"
      ],
      "text/plain": [
       "<IPython.core.display.HTML object>"
      ]
     },
     "metadata": {},
     "output_type": "display_data"
    }
   ],
   "source": [
    "import numpy as np\n",
    "import matplotlib.pyplot as plt\n",
    "from tqdm.auto import tqdm\n",
    "\n",
    "from mpi4py import MPI\n",
    "# Wider cells\n",
    "from IPython.core.display import display, HTML\n",
    "display(HTML(\"<style>.container { width:95% !important; }</style>\"))\n",
    "\n",
    "# Make sure folder for images exist\n",
    "import os\n",
    "try:\n",
    "    os.mkdir('imgs/')\n",
    "except FileExistsError as err:\n",
    "    pass\n",
    "\n",
    "# Jupyter magic\n",
    "%reload_ext autoreload\n",
    "%autoreload 2\n",
    "%matplotlib inline"
   ]
  },
  {
   "cell_type": "code",
   "execution_count": null,
   "metadata": {},
   "outputs": [],
   "source": [
    "# Function for which we compute integral\n",
    "def f(x):\n",
    "    return 1 / x\n",
    "\n",
    "# Analytical integral\n",
    "def g(x):\n",
    "    return np.log(x)\n",
    "\n",
    "def integrate(f, g=None, limits=(1, 2), nodes=100):\n",
    "    \"\"\"Compute function integral by using trapezoid rule\n",
    "    Args:\n",
    "        f: function to integrate\n",
    "        g: analytical integral, for self check and error estimation\n",
    "        limits: (a, b)\n",
    "        nodes: # of points to split the limit\n",
    "    \"\"\"\n",
    "    comm = MPI.COMM_WORLD\n",
    "    rank = comm.Get_rank()\n",
    "    size = comm.Get_size()\n",
    "    all_nodes = np.linspace(limits[0], limits[1], num=nodes)\n",
    "    left, right = rank * nodes // size, (rank + 1) * nodes // size\n",
    "    individual_nodes = list(all_nodes[left:right]) # convert to Python object\n",
    "    if rank == size - 1:\n",
    "        individual_nodes = all_nodes[left:] # leftmost process take the rest\n",
    "    print(f'My rank: {rank}, world size: {size}, {individual_nodes}')\n",
    "    comm.Barrier()\n",
    "    partial_result = [(x, f(x)) for x in individual_nodes]\n",
    "    \n",
    "    data = comm.gather(data, root=0)\n",
    "    \n",
    "    sendbuf = np.empty(2, dtype = 'i')\n",
    "    sendbuf[0] = 0\n",
    "    sendbuf[1] = rank\n",
    "    \n",
    "    # Recieve data\n",
    "    if rank == 0:\n",
    "        recvbuf = np.empty(2, dtype = 'i')\n",
    "    else:    \n",
    "        recvbuf = None\n",
    "        \n",
    "    if rank == 0:\n",
    "        printf(f\"{nodes} trapezoids, [a, b] = [{limits}], result = {total_integral}\")\n",
    "\n",
    "\n",
    "#    /* Shut down MPI */\n",
    "#    MPI_Finalize();\n"
   ]
  },
  {
   "cell_type": "code",
   "execution_count": 2,
   "metadata": {
    "ExecuteTime": {
     "end_time": "2019-11-26T22:21:03.583532Z",
     "start_time": "2019-11-26T22:21:03.410348Z"
    }
   },
   "outputs": [
    {
     "name": "stdout",
     "output_type": "stream",
     "text": [
      "/bin/sh: mpirun: command not found\r\n"
     ]
    }
   ],
   "source": [
    "!mpirun -n 10 python scatter.py"
   ]
  },
  {
   "cell_type": "code",
   "execution_count": null,
   "metadata": {},
   "outputs": [],
   "source": []
  }
 ],
 "metadata": {
  "kernelspec": {
   "display_name": "Python 3",
   "language": "python",
   "name": "python3"
  },
  "language_info": {
   "codemirror_mode": {
    "name": "ipython",
    "version": 3
   },
   "file_extension": ".py",
   "mimetype": "text/x-python",
   "name": "python",
   "nbconvert_exporter": "python",
   "pygments_lexer": "ipython3",
   "version": "3.7.5"
  }
 },
 "nbformat": 4,
 "nbformat_minor": 2
}
