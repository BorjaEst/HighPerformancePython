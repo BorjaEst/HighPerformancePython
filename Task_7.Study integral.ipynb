{
 "cells": [
  {
   "cell_type": "code",
   "execution_count": 1,
   "metadata": {
    "ExecuteTime": {
     "end_time": "2019-11-27T21:49:34.285601Z",
     "start_time": "2019-11-27T21:49:32.817643Z"
    }
   },
   "outputs": [
    {
     "data": {
      "text/html": [
       "<style>.container { width:95% !important; }</style>"
      ],
      "text/plain": [
       "<IPython.core.display.HTML object>"
      ]
     },
     "metadata": {},
     "output_type": "display_data"
    }
   ],
   "source": [
    "import numpy as np\n",
    "import matplotlib.pyplot as plt\n",
    "from tqdm.auto import tqdm\n",
    "\n",
    "from mpi4py import MPI\n",
    "# Wider cells\n",
    "from IPython.core.display import display, HTML\n",
    "display(HTML(\"<style>.container { width:95% !important; }</style>\"))\n",
    "\n",
    "# Make sure folder for images exist\n",
    "import os\n",
    "try:\n",
    "    os.mkdir('imgs/')\n",
    "except FileExistsError as err:\n",
    "    pass\n",
    "\n",
    "# Jupyter magic\n",
    "%reload_ext autoreload\n",
    "%autoreload 2\n",
    "%matplotlib inline"
   ]
  },
  {
   "cell_type": "markdown",
   "metadata": {},
   "source": [
    "* <big> $ S = \\displaystyle \\int_a^b  \\displaystyle \\frac{1}{\\sqrt{1 + x^2}} \\, dx$ </big>, where $a = 5$ and $b = 7$\n",
    "\n",
    "1. Provide a parallel numerical computation of the integral $S$ using, for example, the trapezoidal approximation $\\displaystyle \\int_{a}^{b} f(x) \\approx S_D = \\displaystyle \\sum_{k = 1}^{N-1} \\displaystyle \\frac{f\\left(a + k \\,\\tau\\right)+ f\\left(a + \\left(k - 1\\right) \\tau\\right) }{2}\\,\\,\\tau$, where $ a + (N - 1)\\tau = b$"
   ]
  },
  {
   "cell_type": "code",
   "execution_count": 2,
   "metadata": {
    "ExecuteTime": {
     "end_time": "2019-11-27T21:49:35.847178Z",
     "start_time": "2019-11-27T21:49:35.809814Z"
    }
   },
   "outputs": [],
   "source": [
    "from integral import integrate\n",
    "\n",
    "def f(x):\n",
    "    \"\"\" Function to integrate\n",
    "    Args:\n",
    "        x: value to count\n",
    "    \"\"\"\n",
    "    return 1 / np.sqrt(1 + x ** 2)\n",
    "\n",
    "def g(x):\n",
    "    \"\"\" Analytical expression of f(x)\n",
    "    Args:\n",
    "        x: func value\n",
    "    \"\"\"\n",
    "    return np.log(x + np.sqrt(1 + x ** 2))"
   ]
  },
  {
   "cell_type": "code",
   "execution_count": 3,
   "metadata": {
    "ExecuteTime": {
     "end_time": "2019-11-27T21:49:37.804461Z",
     "start_time": "2019-11-27T21:49:36.253918Z"
    }
   },
   "outputs": [],
   "source": [
    "D_range = np.linspace(10, 10000, num=100)\n",
    "limits = [5, 7]\n",
    "S = g(limits[1]) - g(limits[0]) # exact value\n",
    "err = []\n",
    "for D in D_range:\n",
    "    S_d = integrate(f, limits=limits, num_steps=D)\n",
    "    err.append(S - S_d)"
   ]
  },
  {
   "cell_type": "code",
   "execution_count": 9,
   "metadata": {
    "ExecuteTime": {
     "end_time": "2019-11-27T21:51:34.863787Z",
     "start_time": "2019-11-27T21:51:34.405353Z"
    }
   },
   "outputs": [
    {
     "data": {
      "text/plain": [
       "<matplotlib.legend.Legend at 0x120756e50>"
      ]
     },
     "execution_count": 9,
     "metadata": {},
     "output_type": "execute_result"
    },
    {
     "data": {
      "image/png": "[encoded data removed]",
      "text/plain": [
       "<Figure size 432x288 with 1 Axes>"
      ]
     },
     "metadata": {
      "needs_background": "light"
     },
     "output_type": "display_data"
    }
   ],
   "source": [
    "plt.semilogy(D_range, err, label=\"|S_d(D) - S|\")   \n",
    "plt.xlabel(\"# of steps\", fontsize=12)\n",
    "plt.ylabel(\"Err (logscale)\", fontsize=12)\n",
    "plt.legend()"
   ]
  },
  {
   "cell_type": "code",
   "execution_count": null,
   "metadata": {},
   "outputs": [],
   "source": []
  }
 ],
 "metadata": {
  "kernelspec": {
   "display_name": "Python 3",
   "language": "python",
   "name": "python3"
  },
  "language_info": {
   "codemirror_mode": {
    "name": "ipython",
    "version": 3
   },
   "file_extension": ".py",
   "mimetype": "text/x-python",
   "name": "python",
   "nbconvert_exporter": "python",
   "pygments_lexer": "ipython3",
   "version": "3.7.5"
  }
 },
 "nbformat": 4,
 "nbformat_minor": 2
}
