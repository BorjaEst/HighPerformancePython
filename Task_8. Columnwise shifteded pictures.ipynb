{
 "cells": [
  {
   "cell_type": "code",
   "execution_count": 4,
   "metadata": {
    "ExecuteTime": {
     "end_time": "2019-11-26T22:10:29.489112Z",
     "start_time": "2019-11-26T22:10:29.483562Z"
    }
   },
   "outputs": [],
   "source": [
    "import os\n",
    "import subprocess"
   ]
  },
  {
   "cell_type": "code",
   "execution_count": 12,
   "metadata": {
    "ExecuteTime": {
     "end_time": "2019-11-26T22:11:09.947143Z",
     "start_time": "2019-11-26T22:11:09.410512Z"
    }
   },
   "outputs": [],
   "source": [
    "cp = subprocess.run([\"mpirun\",\"-n\",\"4\", \"python3\", \"test.py\"], \n",
    "                    universal_newlines=True, stdout=subprocess.PIPE, stderr=subprocess.PIPE)"
   ]
  },
  {
   "cell_type": "code",
   "execution_count": 16,
   "metadata": {
    "ExecuteTime": {
     "end_time": "2019-11-26T22:11:34.079640Z",
     "start_time": "2019-11-26T22:11:34.071641Z"
    }
   },
   "outputs": [
    {
     "name": "stdout",
     "output_type": "stream",
     "text": [
      "Rank:  0 , recvbuf received:  [ 1.  2.  3.  4.  5.  6.  7.  8.  9. 10.]\n",
      "Rank:  2 , recvbuf received:  [21. 22. 23. 24. 25. 26. 27. 28. 29. 30.]\n",
      "Rank:  3 , recvbuf received:  [31. 32. 33. 34. 35. 36. 37. 38. 39. 40.]\n",
      "Rank:  1 , recvbuf received:  [11. 12. 13. 14. 15. 16. 17. 18. 19. 20.]\n",
      "\n"
     ]
    }
   ],
   "source": [
    "print(cp.stdout)"
   ]
  },
  {
   "cell_type": "code",
   "execution_count": 9,
   "metadata": {
    "ExecuteTime": {
     "end_time": "2019-11-26T22:06:30.396228Z",
     "start_time": "2019-11-26T22:06:30.378415Z"
    }
   },
   "outputs": [
    {
     "name": "stdout",
     "output_type": "stream",
     "text": [
      "total 2,2M\n",
      "drwxrwxr-x  5 emil emil 4,0K ноя 27 01:06 .\n",
      "drwxr-xr-x 26 emil root 4,0K ноя 27 00:19 ..\n",
      "-rw-rw-r--  1 emil emil 1,9K ноя 27 00:19 bifurcation.py\n",
      "-rw-rw-r--  1 emil emil  11K ноя 27 00:19 .DS_Store\n",
      "drwxrwxr-x  8 emil emil 4,0K ноя 27 00:57 .git\n",
      "drwxrwxr-x  2 emil emil 4,0K ноя 27 00:19 imgs\n",
      "drwxrwxr-x  2 emil emil 4,0K ноя 27 00:39 .ipynb_checkpoints\n",
      "-rw-rw-r--  1 emil emil 7,5K ноя 27 00:19 julia.py\n",
      "-rw-rw-r--  1 emil emil 4,0K ноя 27 00:19 README.md\n",
      "-rw-rw-r--  1 emil emil  555 ноя 27 00:19 redoTask3-6.ipynb\n",
      "-rw-rw-r--  1 emil emil 5,8K ноя 27 00:19 schelling_3d.py\n",
      "-rw-rw-r--  1 emil emil 3,4K ноя 27 00:19 schelling.py\n",
      "-rw-rw-r--  1 emil emil  94K ноя 27 00:19 Task_1.ipynb\n",
      "-rw-rw-r--  1 emil emil 435K ноя 27 00:19 Task_2.ipynb\n",
      "-rw-rw-r--  1 emil emil 1,1M ноя 27 00:19 Task_3.ipynb\n",
      "-rw-rw-r--  1 emil emil  63K ноя 27 00:19 Task_4. Spectrogram.ipynb\n",
      "-rw-rw-r--  1 emil emil 414K ноя 27 00:19 Task_5. Matmul & Task 6. Advanced specgram.ipynb\n",
      "-rw-rw-r--  1 emil emil 5,1K ноя 27 01:06 Task_8. Columnwise shifteded pictures.ipynb\n",
      "-rw-rw-r--  1 emil emil  479 ноя 27 00:36 test.py\n",
      "\n"
     ]
    }
   ],
   "source": [
    "cp = subprocess.run([\"ls\",\"-lha\"], universal_newlines=True, stdout=subprocess.PIPE, stderr=subprocess.PIPE)\n",
    "print(cp.stdout)"
   ]
  },
  {
   "cell_type": "code",
   "execution_count": 3,
   "metadata": {
    "ExecuteTime": {
     "end_time": "2019-11-26T21:53:37.719969Z",
     "start_time": "2019-11-26T21:53:37.524103Z"
    }
   },
   "outputs": [
    {
     "name": "stdout",
     "output_type": "stream",
     "text": [
      "-------------------------------------------------------\r\n",
      "Primary job  terminated normally, but 1 process returned\r\n",
      "a non-zero exit code.. Per user-direction, the job has been aborted.\r\n",
      "-------------------------------------------------------\r\n"
     ]
    }
   ],
   "source": [
    "!mpirun -n 4 test"
   ]
  },
  {
   "cell_type": "code",
   "execution_count": 5,
   "metadata": {
    "ExecuteTime": {
     "end_time": "2019-11-26T21:42:13.964826Z",
     "start_time": "2019-11-26T21:42:13.780782Z"
    }
   },
   "outputs": [
    {
     "name": "stdout",
     "output_type": "stream",
     "text": [
      "--------------------------------------------------------------------------\r\n",
      "mpirun was unable to find the specified executable file, and therefore\r\n",
      "did not launch the job.  This error was first reported for process\r\n",
      "rank 0; it may have occurred for other processes as well.\r\n",
      "\r\n",
      "NOTE: A common cause for this error is misspelling a mpirun command\r\n",
      "      line parameter option (remember that mpirun interprets the first\r\n",
      "      unrecognized command line token as the executable).\r\n",
      "\r\n",
      "Node:       emil-lenovo\r\n",
      "Executable: test.py\r\n",
      "--------------------------------------------------------------------------\r\n",
      "4 total processes failed to start\r\n"
     ]
    }
   ],
   "source": [
    "!mpirun -n 4 \"test.py\""
   ]
  },
  {
   "cell_type": "code",
   "execution_count": 2,
   "metadata": {
    "ExecuteTime": {
     "end_time": "2019-11-26T21:40:18.473542Z",
     "start_time": "2019-11-26T21:40:18.466789Z"
    }
   },
   "outputs": [
    {
     "name": "stderr",
     "output_type": "stream",
     "text": [
      "ERROR:root:File `'mpirun -n 4 python3 test.py'` not found.\n"
     ]
    }
   ],
   "source": [
    "%run -i \"mpirun -n 4 python3 test.py\""
   ]
  }
 ],
 "metadata": {
  "kernelspec": {
   "display_name": "Python 3",
   "language": "python",
   "name": "python3"
  },
  "language_info": {
   "codemirror_mode": {
    "name": "ipython",
    "version": 3
   },
   "file_extension": ".py",
   "mimetype": "text/x-python",
   "name": "python",
   "nbconvert_exporter": "python",
   "pygments_lexer": "ipython3",
   "version": "3.5.2"
  }
 },
 "nbformat": 4,
 "nbformat_minor": 2
}
