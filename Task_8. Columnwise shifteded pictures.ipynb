{
 "cells": [
  {
   "cell_type": "code",
   "execution_count": 6,
   "metadata": {
    "ExecuteTime": {
     "end_time": "2019-11-26T23:47:23.081719Z",
     "start_time": "2019-11-26T23:47:23.069417Z"
    }
   },
   "outputs": [],
   "source": [
    "import subprocess\n",
    "import matplotlib.pyplot as plt\n",
    "import tqdm"
   ]
  },
  {
   "cell_type": "code",
   "execution_count": null,
   "metadata": {
    "ExecuteTime": {
     "start_time": "2019-11-26T23:47:26.301Z"
    }
   },
   "outputs": [
    {
     "name": "stderr",
     "output_type": "stream",
     "text": [
      " 43%|████▎     | 6/14 [00:33<00:45,  5.69s/it]"
     ]
    }
   ],
   "source": [
    "means = []\n",
    "stds = []\n",
    "for p in tqdm.trange(2, 16):\n",
    "    o = subprocess.run(\n",
    "        [\"mpirun\",\"-n\", str(p), \"python3\", \"task8.py\", '-s', '8192', '-i', '50'], \n",
    "        universal_newlines=True, \n",
    "        stdout=subprocess.PIPE, \n",
    "        stderr=subprocess.PIPE)\n",
    "    res = list(map(float, o.stdout.strip().split(' ')))\n",
    "    means.append(res[0])\n",
    "    stds.append(res[1])"
   ]
  },
  {
   "cell_type": "code",
   "execution_count": null,
   "metadata": {
    "ExecuteTime": {
     "start_time": "2019-11-26T23:47:44.556Z"
    }
   },
   "outputs": [],
   "source": [
    "plt.plot(means)"
   ]
  },
  {
   "cell_type": "code",
   "execution_count": null,
   "metadata": {},
   "outputs": [],
   "source": []
  }
 ],
 "metadata": {
  "kernelspec": {
   "display_name": "Python 3",
   "language": "python",
   "name": "python3"
  },
  "language_info": {
   "codemirror_mode": {
    "name": "ipython",
    "version": 3
   },
   "file_extension": ".py",
   "mimetype": "text/x-python",
   "name": "python",
   "nbconvert_exporter": "python",
   "pygments_lexer": "ipython3",
   "version": "3.5.2"
  }
 },
 "nbformat": 4,
 "nbformat_minor": 2
}
