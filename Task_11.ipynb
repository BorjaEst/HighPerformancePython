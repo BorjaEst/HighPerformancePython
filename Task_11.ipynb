{
  "nbformat": 4,
  "nbformat_minor": 0,
  "metadata": {
    "kernelspec": {
      "name": "python3",
      "display_name": "Python 3"
    },
    "language_info": {
      "codemirror_mode": {
        "name": "ipython",
        "version": 3
      },
      "file_extension": ".py",
      "mimetype": "text/x-python",
      "name": "python",
      "nbconvert_exporter": "python",
      "pygments_lexer": "ipython3",
      "version": "3.7.5"
    },
    "colab": {
      "name": "Task_11.ipynb",
      "provenance": []
    },
    "accelerator": "GPU",
    "widgets": {
      "application/vnd.jupyter.widget-state+json": {
        "7baa37f8fdcf411f8a0bd8c1d9034991": {
          "model_module": "@jupyter-widgets/controls",
          "model_name": "HBoxModel",
          "state": {
            "_view_name": "HBoxView",
            "_dom_classes": [],
            "_model_name": "HBoxModel",
            "_view_module": "@jupyter-widgets/controls",
            "_model_module_version": "1.5.0",
            "_view_count": null,
            "_view_module_version": "1.5.0",
            "box_style": "",
            "layout": "IPY_MODEL_60b58d55f18f40e39795b49473e43368",
            "_model_module": "@jupyter-widgets/controls",
            "children": [
              "IPY_MODEL_2ec475d741be4e49930fbd52694f1548",
              "IPY_MODEL_ae00446ea5b44086b08b1eb022d984b6"
            ]
          }
        },
        "adb4471c97084d36ba4827841f66a782": {
          "model_module": "@jupyter-widgets/controls",
          "model_name": "HBoxModel",
          "state": {
            "_view_name": "HBoxView",
            "_dom_classes": [],
            "_model_name": "HBoxModel",
            "_view_module": "@jupyter-widgets/controls",
            "_model_module_version": "1.5.0",
            "_view_count": null,
            "_view_module_version": "1.5.0",
            "box_style": "",
            "layout": "IPY_MODEL_ab9ac2c9021d437f9e7da3eafac50b3d",
            "_model_module": "@jupyter-widgets/controls",
            "children": [
              "IPY_MODEL_bf31c2e30916450f8379fd91f7a8812b",
              "IPY_MODEL_4f11886863a147249f39c1332b21fd8f"
            ]
          }
        }
      }
    }
  },
  "cells": [
    {
      "cell_type": "code",
      "metadata": {
        "id": "uKeEzojsHMCl",
        "colab_type": "code",
        "colab": {}
      },
      "source": [
        "!pip install cupy-cuda100 -user"
      ],
      "execution_count": 0,
      "outputs": []
    },
    {
      "cell_type": "markdown",
      "metadata": {
        "id": "ssHOI4AeHMCx",
        "colab_type": "text"
      },
      "source": [
        "# Imports"
      ]
    },
    {
      "cell_type": "code",
      "metadata": {
        "id": "koZ0_COnHMC1",
        "colab_type": "code",
        "colab": {
          "base_uri": "https://localhost:8080/",
          "height": 17
        },
        "outputId": "a35de6a2-3f45-41e1-8a93-9c864fd138ab"
      },
      "source": [
        "import cupy as cp\n",
        "import numpy as np\n",
        "import matplotlib.pyplot as plt\n",
        "from tqdm import tqdm_notebook as tqdm\n",
        "\n",
        "# Wider cells\n",
        "from IPython.core.display import display, HTML\n",
        "display(HTML(\"<style>.container { width:95% !important; }</style>\"))\n",
        "\n",
        "# Make sure folder for images exist\n",
        "import os\n",
        "# try:\n",
        "    # os.mkdir('img/task11')\n",
        "# except FileExistsError as err:\n",
        "#     pass\n",
        "\n",
        "# Jupyter magic\n",
        "%reload_ext autoreload\n",
        "%autoreload 2\n",
        "%matplotlib inline\n",
        "\n",
        "# Autocompletion fix\n",
        "# %config Completer.use_jedi=False"
      ],
      "execution_count": 8,
      "outputs": [
        {
          "output_type": "display_data",
          "data": {
            "text/html": [
              "<style>.container { width:95% !important; }</style>"
            ],
            "text/plain": [
              "<IPython.core.display.HTML object>"
            ]
          },
          "metadata": {
            "tags": []
          }
        }
      ]
    },
    {
      "cell_type": "markdown",
      "metadata": {
        "id": "rIoRSwkxHMDB",
        "colab_type": "text"
      },
      "source": [
        "# T11.1 Bifurcation map is performed using cupy arrays\n",
        "By using <u><i><strong>CuPy</strong></i></u>, reimplement bifurcation map (Task 1)."
      ]
    },
    {
      "cell_type": "code",
      "metadata": {
        "id": "1FI_EyjcHMDF",
        "colab_type": "code",
        "colab": {}
      },
      "source": [
        "def np_fun(r, x):\n",
        "    res = r*x*(1-x)\n",
        "    return res\n",
        "\n",
        "@cp.fuse()\n",
        "def cp_fun(r, x):\n",
        "    res = r*x*(1-x)\n",
        "    return res"
      ],
      "execution_count": 0,
      "outputs": []
    },
    {
      "cell_type": "code",
      "metadata": {
        "id": "XPDW7UwMHMDL",
        "colab_type": "code",
        "colab": {}
      },
      "source": [
        "s = int(1e8)\n",
        "np_r = np.linspace(0, 4, s, dtype='float32')\n",
        "cp_r = cp.linspace(0, 4, s, dtype='float32')\n",
        "x = np.random.rand()\n",
        "cp_x = cp.float32(x)"
      ],
      "execution_count": 0,
      "outputs": []
    },
    {
      "cell_type": "markdown",
      "metadata": {
        "id": "SLBvEee7HMDP",
        "colab_type": "text"
      },
      "source": [
        "# T11.2 Cupy bifurcation map implementation is profiled"
      ]
    },
    {
      "cell_type": "code",
      "metadata": {
        "id": "C4hhUbVnHMDR",
        "colab_type": "code",
        "colab": {
          "base_uri": "https://localhost:8080/",
          "height": 85
        },
        "outputId": "10cf57bd-9468-4050-d1f5-c5c3874b5bb4"
      },
      "source": [
        "%timeit np_fun(np_r, x)\n",
        "%timeit cp_fun(np_r, x)\n",
        "%timeit cp_fun(cp_r, x)"
      ],
      "execution_count": 4,
      "outputs": [
        {
          "output_type": "stream",
          "text": [
            "10 loops, best of 3: 110 ms per loop\n",
            "10 loops, best of 3: 110 ms per loop\n",
            "The slowest run took 8498.91 times longer than the fastest. This could mean that an intermediate result is being cached.\n",
            "1 loop, best of 3: 23.8 µs per loop\n"
          ],
          "name": "stdout"
        }
      ]
    },
    {
      "cell_type": "code",
      "metadata": {
        "id": "C8ov_4X4HMDb",
        "colab_type": "code",
        "colab": {
          "base_uri": "https://localhost:8080/",
          "height": 204
        },
        "outputId": "1a993480-8d88-4332-d593-8afad2aaea58"
      },
      "source": [
        "s = %prun -r np_fun(np_r, x)\n",
        "s.print_stats();"
      ],
      "execution_count": 5,
      "outputs": [
        {
          "output_type": "stream",
          "text": [
            "          4 function calls in 0.118 seconds\n",
            "\n",
            "   Ordered by: internal time\n",
            "\n",
            "   ncalls  tottime  percall  cumtime  percall filename:lineno(function)\n",
            "        1    0.118    0.118    0.118    0.118 <ipython-input-2-1736a7abcc20>:1(np_fun)\n",
            "        1    0.000    0.000    0.118    0.118 <string>:1(<module>)\n",
            "        1    0.000    0.000    0.118    0.118 {built-in method builtins.exec}\n",
            "        1    0.000    0.000    0.000    0.000 {method 'disable' of '_lsprof.Profiler' objects}\n",
            "\n",
            "\n"
          ],
          "name": "stdout"
        }
      ]
    },
    {
      "cell_type": "code",
      "metadata": {
        "id": "l3lLs7I-HMDf",
        "colab_type": "code",
        "colab": {
          "base_uri": "https://localhost:8080/",
          "height": 187
        },
        "outputId": "2ed70a55-9039-4ed5-f727-19f214676ded"
      },
      "source": [
        "s = %prun -r cp_fun(cp_r, x)\n",
        "s.print_stats();"
      ],
      "execution_count": 6,
      "outputs": [
        {
          "output_type": "stream",
          "text": [
            "          3 function calls in 0.000 seconds\n",
            "\n",
            "   Ordered by: internal time\n",
            "\n",
            "   ncalls  tottime  percall  cumtime  percall filename:lineno(function)\n",
            "        1    0.000    0.000    0.000    0.000 <string>:1(<module>)\n",
            "        1    0.000    0.000    0.000    0.000 {built-in method builtins.exec}\n",
            "        1    0.000    0.000    0.000    0.000 {method 'disable' of '_lsprof.Profiler' objects}\n",
            "\n",
            "\n"
          ],
          "name": "stdout"
        }
      ]
    },
    {
      "cell_type": "markdown",
      "metadata": {
        "id": "OC5MAgafHMDk",
        "colab_type": "text"
      },
      "source": [
        "# T11.3 Graph Time( # iterations) is given. Plot cpu, mpi and cupy implementations"
      ]
    },
    {
      "cell_type": "code",
      "metadata": {
        "id": "B6SvV8xzHMDk",
        "colab_type": "code",
        "colab": {
          "base_uri": "https://localhost:8080/",
          "height": 51,
          "referenced_widgets": [
            "7baa37f8fdcf411f8a0bd8c1d9034991",
            "adb4471c97084d36ba4827841f66a782"
          ]
        },
        "outputId": "1e3b9d81-fdba-49ee-9145-ee050a897007"
      },
      "source": [
        "np_res = []\n",
        "for s in tqdm(np.logspace(2, 7, 20)):\n",
        "    s = int(s)\n",
        "    np_r, np_x = np.linspace(0, 4, s).astype(np.float32), np.random.rand(s).astype(np.float32)\n",
        "    t = %timeit -o -q np_fun(np_r, np_x)\n",
        "    np_res.append(t)\n",
        "    \n",
        "cp_res = []\n",
        "for s in tqdm(np.logspace(2, 7, 20)):\n",
        "    s = int(s)\n",
        "    cp_r, cp_x = cp.linspace(0, 4, s, dtype='f'), cp.random.rand(s, dtype='f')\n",
        "    t = %timeit -o -q cp_fun(cp_r, cp_x)\n",
        "    cp_res.append(t)"
      ],
      "execution_count": 10,
      "outputs": [
        {
          "output_type": "display_data",
          "data": {
            "application/vnd.jupyter.widget-view+json": {
              "model_id": "7baa37f8fdcf411f8a0bd8c1d9034991",
              "version_minor": 0,
              "version_major": 2
            },
            "text/plain": [
              "HBox(children=(IntProgress(value=0, max=20), HTML(value='')))"
            ]
          },
          "metadata": {
            "tags": []
          }
        },
        {
          "output_type": "stream",
          "text": [
            "\n"
          ],
          "name": "stdout"
        },
        {
          "output_type": "display_data",
          "data": {
            "application/vnd.jupyter.widget-view+json": {
              "model_id": "adb4471c97084d36ba4827841f66a782",
              "version_minor": 0,
              "version_major": 2
            },
            "text/plain": [
              "HBox(children=(IntProgress(value=0, max=20), HTML(value='')))"
            ]
          },
          "metadata": {
            "tags": []
          }
        },
        {
          "output_type": "stream",
          "text": [
            "\n"
          ],
          "name": "stdout"
        }
      ]
    },
    {
      "cell_type": "code",
      "metadata": {
        "id": "x-9IYTeNHMDm",
        "colab_type": "code",
        "colab": {
          "base_uri": "https://localhost:8080/",
          "height": 408
        },
        "outputId": "95af04d4-a2b3-43b2-eabb-523d34de61ff"
      },
      "source": [
        "plt.figure(figsize=(10,6))\n",
        "plt.plot(np.logspace(2, 7, 20), [i.best for i in np_res])\n",
        "plt.plot(np.logspace(2, 7, 20), [i.best for i in cp_res])\n",
        "plt.title('Bifurcation')\n",
        "plt.yscale('log')\n",
        "plt.xscale('log')\n",
        "plt.xlabel('Array size')\n",
        "plt.ylabel('Time ms')\n",
        "plt.legend(['numpy', 'cupy']);"
      ],
      "execution_count": 11,
      "outputs": [
        {
          "output_type": "display_data",
          "data": {
            "image/png": "[encoded data removed]",
            "text/plain": [
              "<Figure size 720x432 with 1 Axes>"
            ]
          },
          "metadata": {
            "tags": []
          }
        }
      ]
    },
    {
      "cell_type": "code",
      "metadata": {
        "id": "QjxQsasOHzPa",
        "colab_type": "code",
        "colab": {}
      },
      "source": [
        ""
      ],
      "execution_count": 0,
      "outputs": []
    }
  ]
}