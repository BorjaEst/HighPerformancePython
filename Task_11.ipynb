{
 "cells": [
  {
   "cell_type": "code",
   "execution_count": null,
   "metadata": {},
   "outputs": [],
   "source": [
    "!pip install cupy-cuda100 -user"
   ]
  },
  {
   "cell_type": "markdown",
   "metadata": {},
   "source": [
    "# Imports"
   ]
  },
  {
   "cell_type": "code",
   "execution_count": null,
   "metadata": {},
   "outputs": [],
   "source": [
    "import cupy as cp\n",
    "import numpy as np\n",
    "import matplotlib.pyplot as plt\n",
    "from tqdm.auto import tqdm\n",
    "\n",
    "# Wider cells\n",
    "from IPython.core.display import display, HTML\n",
    "display(HTML(\"<style>.container { width:95% !important; }</style>\"))\n",
    "\n",
    "# Make sure folder for images exist\n",
    "import os\n",
    "try:\n",
    "    os.mkdir('img/task10')\n",
    "except FileExistsError as err:\n",
    "    pass\n",
    "\n",
    "# Jupyter magic\n",
    "%reload_ext autoreload\n",
    "%autoreload 2\n",
    "%matplotlib inline\n",
    "\n",
    "# Autocompletion fix\n",
    "# %config Completer.use_jedi=False"
   ]
  },
  {
   "cell_type": "markdown",
   "metadata": {},
   "source": [
    "# T11.1 Bifurcation map is performed using cupy arrays\n",
    "By using <u><i><strong>CuPy</strong></i></u>, reimplement bifurcation map (Task 1)."
   ]
  },
  {
   "cell_type": "code",
   "execution_count": null,
   "metadata": {},
   "outputs": [],
   "source": [
    "def np_fun(r, x):\n",
    "    res = r*x*(1-x)\n",
    "    return res\n",
    "\n",
    "@cp.fuse()\n",
    "def cp_fun(r, x):\n",
    "    res = r*x*(1-x)\n",
    "    return res"
   ]
  },
  {
   "cell_type": "code",
   "execution_count": null,
   "metadata": {},
   "outputs": [],
   "source": [
    "s = int(1e8)\n",
    "np_r = np.linspace(0, 4, s, dtype='float32')\n",
    "cp_r = cp.linspace(0, 4, s, dtype='float32')\n",
    "x = np.random.rand()\n",
    "cp_x = cp.float32(x)"
   ]
  },
  {
   "cell_type": "markdown",
   "metadata": {},
   "source": [
    "# T11.2 Cupy bifurcation map implementation is profiled"
   ]
  },
  {
   "cell_type": "code",
   "execution_count": null,
   "metadata": {},
   "outputs": [],
   "source": [
    "%timeit np_fun(np_r, x)\n",
    "%timeit cp_fun(np_r, x)\n",
    "%timeit cp_fun(cp_r, x)"
   ]
  },
  {
   "cell_type": "code",
   "execution_count": null,
   "metadata": {},
   "outputs": [],
   "source": [
    "s = %prun -r np_fun(np_r, x)\n",
    "s.print_stats();"
   ]
  },
  {
   "cell_type": "code",
   "execution_count": null,
   "metadata": {},
   "outputs": [],
   "source": [
    "s = %prun -r cp_fun(cp_r, x)\n",
    "s.print_stats();"
   ]
  },
  {
   "cell_type": "markdown",
   "metadata": {},
   "source": [
    "# T11.3 Graph Time( # iterations) is given. Plot cpu, mpi and cupy implementations"
   ]
  },
  {
   "cell_type": "code",
   "execution_count": null,
   "metadata": {},
   "outputs": [],
   "source": [
    "np_res = []\n",
    "for s in tqdm.tqdm_notebook(np.logspace(2, 7, 20)):\n",
    "    s = int(s)\n",
    "    np_r, np_x = np.linspace(0, 4, s).astype(np.float32), np.random.rand(s).astype(np.float32)\n",
    "    t = %timeit -o -q np_fun(np_r, np_x)\n",
    "    np_res.append(t)\n",
    "    \n",
    "cp_res = []\n",
    "for s in tqdm.tqdm_notebook(np.logspace(2, 7, 20)):\n",
    "    s = int(s)\n",
    "    cp_r, cp_x = cp.linspace(0, 4, s, dtype='f'), cp.random.rand(s, dtype='f')\n",
    "    t = %timeit -o -q cp_fun(cp_r, cp_x)\n",
    "    cp_res.append(t)"
   ]
  },
  {
   "cell_type": "code",
   "execution_count": null,
   "metadata": {},
   "outputs": [],
   "source": [
    "plt.figure(figsize=(10,6))\n",
    "plt.plot(np.logspace(2, 7, 20), [i.best for i in np_res])\n",
    "plt.plot(np.logspace(2, 7, 20), [i.best for i in cp_res])\n",
    "plt.title('Bifurcation')\n",
    "plt.yscale('log')\n",
    "plt.xscale('log')\n",
    "plt.xlabel('Array size')\n",
    "plt.ylabel('Time ms')\n",
    "plt.legend(['numpy', 'cupy']);"
   ]
  }
 ],
 "metadata": {
  "kernelspec": {
   "display_name": "Python 3",
   "language": "python",
   "name": "python3"
  },
  "language_info": {
   "codemirror_mode": {
    "name": "ipython",
    "version": 3
   },
   "file_extension": ".py",
   "mimetype": "text/x-python",
   "name": "python",
   "nbconvert_exporter": "python",
   "pygments_lexer": "ipython3",
   "version": "3.7.5"
  }
 },
 "nbformat": 4,
 "nbformat_minor": 2
}
