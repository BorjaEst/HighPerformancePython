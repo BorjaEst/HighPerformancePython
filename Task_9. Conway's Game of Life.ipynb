{
 "cells": [
  {
   "cell_type": "code",
   "execution_count": 1,
   "metadata": {
    "ExecuteTime": {
     "end_time": "2019-11-27T21:35:26.512732Z",
     "start_time": "2019-11-27T21:35:25.553521Z"
    }
   },
   "outputs": [],
   "source": [
    "from task9 import step\n",
    "import numpy as np\n",
    "import matplotlib.pyplot as plt\n",
    "import imageio\n",
    "import tqdm\n",
    "from matplotlib.backends.backend_agg import FigureCanvasAgg as FigureCanvas"
   ]
  },
  {
   "cell_type": "code",
   "execution_count": 19,
   "metadata": {
    "ExecuteTime": {
     "end_time": "2019-11-27T21:51:34.678497Z",
     "start_time": "2019-11-27T21:51:34.640695Z"
    }
   },
   "outputs": [],
   "source": [
    "GLIDER_M = np.array(\n",
    "[[0,0,0,0,0,0,0,0,0,0,0,0,0,0,0,0,0,0,0,0,0,0,0,0,1,0,0,0,0,0,0,0,0,0,0,0,0,0,0,0,],\n",
    "[0,0,0,0,0,0,0,0,0,0,0,0,0,0,0,0,0,0,0,0,0,0,1,0,1,0,0,0,0,0,0,0,0,0,0,0,0,0,0,0,],\n",
    "[0,0,0,0,0,0,0,0,0,0,0,0,1,1,0,0,0,0,0,0,1,1,0,0,0,0,0,0,0,0,0,0,0,0,1,1,0,0,0,0,],\n",
    "[0,0,0,0,0,0,0,0,0,0,0,1,0,0,0,1,0,0,0,0,1,1,0,0,0,0,0,0,0,0,0,0,0,0,1,1,0,0,0,0,],\n",
    "[1,1,0,0,0,0,0,0,0,0,1,0,0,0,0,0,1,0,0,0,1,1,0,0,0,0,0,0,0,0,0,0,0,0,0,0,0,0,0,0,],\n",
    "[1,1,0,0,0,0,0,0,0,0,1,0,0,0,1,0,1,1,0,0,0,0,1,0,1,0,0,0,0,0,0,0,0,0,0,0,0,0,0,0,],\n",
    "[0,0,0,0,0,0,0,0,0,0,1,0,0,0,0,0,1,0,0,0,0,0,0,0,1,0,0,0,0,0,0,0,0,0,0,0,0,0,0,0,],\n",
    "[0,0,0,0,0,0,0,0,0,0,0,1,0,0,0,1,0,0,0,0,0,0,0,0,0,0,0,0,0,0,0,0,0,0,0,0,0,0,0,0,],\n",
    "[0,0,0,0,0,0,0,0,0,0,0,0,1,1,0,0,0,0,0,0,0,0,0,0,0,0,0,0,0,0,0,0,0,0,0,0,0,0,0,0,]])\n",
    "GLIDER_M = np.pad(GLIDER_M, ((10,10),(10,10)))"
   ]
  },
  {
   "cell_type": "code",
   "execution_count": 20,
   "metadata": {
    "ExecuteTime": {
     "end_time": "2019-11-27T21:51:35.511804Z",
     "start_time": "2019-11-27T21:51:35.200418Z"
    }
   },
   "outputs": [
    {
     "data": {
      "text/plain": [
       "<matplotlib.image.AxesImage at 0x7fe8bc2d2048>"
      ]
     },
     "execution_count": 20,
     "metadata": {},
     "output_type": "execute_result"
    },
    {
     "data": {
      "image/png": "[encoded data removed]",
      "text/plain": [
       "<Figure size 432x288 with 1 Axes>"
      ]
     },
     "metadata": {
      "needs_background": "light"
     },
     "output_type": "display_data"
    }
   ],
   "source": [
    "plt.imshow(GLIDER_M, cmap='gray')"
   ]
  },
  {
   "cell_type": "code",
   "execution_count": 21,
   "metadata": {
    "ExecuteTime": {
     "end_time": "2019-11-27T21:53:03.831531Z",
     "start_time": "2019-11-27T21:51:46.382821Z"
    }
   },
   "outputs": [
    {
     "name": "stderr",
     "output_type": "stream",
     "text": [
      "100%|██████████| 300/300 [01:17<00:00,  3.87it/s]\n"
     ]
    }
   ],
   "source": [
    "try:\n",
    "    tqdm.tqdm._instances.clear()\n",
    "except:\n",
    "    pass\n",
    "\n",
    "# M = np.random.randint(0, 2, (40,40), dtype=np.uint8)\n",
    "M = GLIDER_M\n",
    "STEPS = 300\n",
    "results = []\n",
    "with imageio.get_writer('convey_glider.gif', mode='I', fps=10) as writer:\n",
    "    for i in tqdm.trange(STEPS):\n",
    "        M, count = step(M)\n",
    "        results.append(count)\n",
    "        fig, axes = plt.subplots(1, 2)\n",
    "        axes[0].imshow(M, cmap='gray')\n",
    "        axes[1].plot(results)\n",
    "        axes[1].set_xlim([0, STEPS])\n",
    "        plt.savefig('tmp.png')\n",
    "        plt.close()\n",
    "        writer.append_data(imageio.imread('tmp.png'))"
   ]
  },
  {
   "cell_type": "code",
   "execution_count": null,
   "metadata": {},
   "outputs": [],
   "source": []
  }
 ],
 "metadata": {
  "kernelspec": {
   "display_name": "Python 3",
   "language": "python",
   "name": "python3"
  },
  "language_info": {
   "codemirror_mode": {
    "name": "ipython",
    "version": 3
   },
   "file_extension": ".py",
   "mimetype": "text/x-python",
   "name": "python",
   "nbconvert_exporter": "python",
   "pygments_lexer": "ipython3",
   "version": "3.7.5"
  }
 },
 "nbformat": 4,
 "nbformat_minor": 2
}
