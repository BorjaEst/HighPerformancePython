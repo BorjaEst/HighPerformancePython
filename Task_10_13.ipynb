{
 "cells": [
  {
   "cell_type": "code",
   "execution_count": 1,
   "metadata": {
    "ExecuteTime": {
     "end_time": "2019-12-08T15:55:39.154934Z",
     "start_time": "2019-12-08T15:55:39.152494Z"
    },
    "colab": {},
    "colab_type": "code",
    "id": "1aGKGhNkAkzX"
   },
   "outputs": [],
   "source": [
    "# !pip install cupy-cuda100 -user"
   ]
  },
  {
   "cell_type": "code",
   "execution_count": 2,
   "metadata": {
    "ExecuteTime": {
     "end_time": "2019-12-08T15:55:39.615866Z",
     "start_time": "2019-12-08T15:55:39.157758Z"
    },
    "colab": {
     "base_uri": "https://localhost:8080/",
     "height": 51
    },
    "colab_type": "code",
    "id": "xHAuBM9sAkzg",
    "outputId": "1e8b8234-b676-46d0-fc63-7ea0c97d47a5"
   },
   "outputs": [],
   "source": [
    "import cupy as cp\n",
    "import numpy as np\n",
    "import matplotlib.pyplot as plt\n",
    "import tqdm\n",
    "%config Completer.use_jedi=False"
   ]
  },
  {
   "cell_type": "markdown",
   "metadata": {
    "colab_type": "text",
    "id": "WgxUyKV8Akzl"
   },
   "source": [
    "# [High performance with <u><i><strong>CUDA</strong></i></u>](https://cupy.chainer.org/)\n",
    "<u><i><strong>CuPy</strong></i></u> is an open-source matrix library accelerated with <u><i><strong>NVIDIA CUDA</strong></i></u>. <u><i><strong>CuPy</strong></i></u> provides GPU accelerated computing with Python. CuPy uses CUDA-related libraries including <u><i><strong>cuBLAS</strong></i></u>, <u><i><strong>cuDNN</strong></i></u>, <u><i><strong>cuRand</strong></i></u>, <u><i><strong>cuSolver</strong></i></u>, <u><i><strong>cuSPARSE</strong></i></u>, <u><i><strong>cuFFT</strong></i></u> and <u><i><strong>NCCL</strong></i></u> to make full use of the <u><i><strong>GPU</strong></i></u> architecture.\n",
    "The figure shows <u><i><strong>CuPy</strong></i></u> speedup over NumPy. Most of them perform well on a <u><i><strong>GPU</strong></i></u> using CuPy out of the box. <u><i><strong>CuPy</strong></i></u> speeds up some operations more than 100X. You can read original benchmark article in [Single-<u><i><strong>GPU</strong></i></u> <u><i><strong>CuPy</strong></i></u> Speedups (RAPIDS AI)](https://medium.com/rapids-ai/single-gpu-cupy-speedups-ea99cbbb0cbb).\n",
    "\n",
    "![CuPy speedup over NumPy](CuPy_Performance.png)"
   ]
  },
  {
   "cell_type": "markdown",
   "metadata": {
    "colab_type": "text",
    "id": "zKG-DzwvAkzm"
   },
   "source": [
    "# [Highly compatible with <u><i><strong>NumPy</strong></i></u>](https://cupy.chainer.org/)\n",
    "<u><i><strong>CuPy</strong></i></u>'s interface is highly compatible with <u><i><strong>NumPy</strong></i></u>; in most cases it can be used as a <strong><i><u>drop-in replacement</u></i></strong>. <i><u>All you need to do</u></i> is just <strong><i><u>replace numpy with cupy</u></i></strong> in your Python code. [Basics of <u><i><strong>CuPy</strong></i></u> (Tutorial)](https://docs-cupy.chainer.org/en/stable/tutorial/basic.html) is usefull to learn first step of <u><i><strong>CuPy</strong></i></u>.\n",
    "<u><i><strong>CuPy</strong></i></u> supports various methods, indexing, data types, broadcasting and more. [Comparison Table (Reference Manual)](https://docs-cupy.chainer.org/en/stable/reference/comparison.html) shows a list of NumPy / <u><i><strong>SciPy</strong></i></u> APIs and its corresponding <u><i><strong>CuPy</strong></i></u> implementations."
   ]
  },
  {
   "cell_type": "code",
   "execution_count": 3,
   "metadata": {
    "ExecuteTime": {
     "end_time": "2019-12-08T15:55:39.918614Z",
     "start_time": "2019-12-08T15:55:39.617683Z"
    },
    "colab": {
     "base_uri": "https://localhost:8080/",
     "height": 102
    },
    "colab_type": "code",
    "id": "ejRQKLUEAkzo",
    "outputId": "43dfd9ee-6ac7-4dba-8c79-3e5f8e462738"
   },
   "outputs": [
    {
     "name": "stdout",
     "output_type": "stream",
     "text": [
      "x =\n",
      " [[0. 1. 2.]\n",
      " [3. 4. 5.]]\n",
      "\n",
      "sum =  [ 3. 12.]\n"
     ]
    }
   ],
   "source": [
    "x = cp.arange(6).reshape(2, 3).astype('f')\n",
    "print(\"x =\\n\", x)\n",
    "\n",
    "sum_result = x.sum(axis=1)\n",
    "print(\"\\nsum = \",sum_result)"
   ]
  },
  {
   "cell_type": "markdown",
   "metadata": {
    "colab_type": "text",
    "id": "VgYMO6ckAkzu"
   },
   "source": [
    "# [Easy to write a custom kernel](https://cupy.chainer.org/)\n",
    "You can easily make a custom <u><i><strong>CUDA</strong></i></u> kernel if you want to make your code run faster, requiring only a small code snippet of <u><i><strong>C++</strong></i></u>. <u><i><strong>CuPy</strong></i></u> automatically wraps and compiles it to make a <u><i><strong>CUDA</strong></i></u> binary. Compiled binaries are cached and reused in subsequent runs. Please read [User-Defined Kernels (Tutorial)](https://docs-cupy.chainer.org/en/latest/tutorial/kernel.html).\n",
    "And, you can also use raw <u><i><strong>CUDA</strong></i></u> kernel via [Raw modules (Tutorial)](https://docs-cupy.chainer.org/en/latest/tutorial/kernel.html#raw-modules).\n"
   ]
  },
  {
   "cell_type": "code",
   "execution_count": 4,
   "metadata": {
    "ExecuteTime": {
     "end_time": "2019-12-08T15:55:39.932432Z",
     "start_time": "2019-12-08T15:55:39.920388Z"
    },
    "colab": {},
    "colab_type": "code",
    "id": "YsgqMowqAkzw",
    "outputId": "49756591-ea21-49ac-f8e6-5c68ba5f5a78"
   },
   "outputs": [
    {
     "name": "stdout",
     "output_type": "stream",
     "text": [
      "Input x = \n",
      " [[0. 1. 2.]\n",
      " [3. 4. 5.]]\n",
      "\n",
      "Input y = \n",
      " [0. 1. 2.]\n",
      "\n",
      "result of the kernel =\n",
      " [[ 0.  2.  4.]\n",
      " [ 0.  4. 10.]]\n"
     ]
    }
   ],
   "source": [
    "x=cp.arange(6, dtype='f').reshape(2, 3)\n",
    "y=cp.arange(3, dtype='f')\n",
    "kernel=cp.ElementwiseKernel(\n",
    "    'float32 x,float32 y','float32 z',\n",
    "        '''if(x-2>y){\n",
    "        z=x*y;\n",
    "        }else{\n",
    "        z=x+y;\n",
    "        }''',\n",
    "    'my_kernel')\n",
    "\n",
    "print(\"Input x = \\n\", x)\n",
    "print(\"\\nInput y = \\n\", y)\n",
    "\n",
    "result = kernel(x, y)\n",
    "\n",
    "print(\"\\nresult of the kernel =\\n\", result)"
   ]
  },
  {
   "cell_type": "markdown",
   "metadata": {
    "colab_type": "text",
    "id": "mCUZc-aTAkz1"
   },
   "source": [
    "## Task 10. Saxpy\n",
    "\n",
    "By using <u><i><strong>CuPy</strong></i></u>, implement SAXPY function. The function is described in the picture.\n",
    "\n",
    "![saxpy](saxpy.jpg)"
   ]
  },
  {
   "cell_type": "code",
   "execution_count": 5,
   "metadata": {
    "ExecuteTime": {
     "end_time": "2019-12-08T15:55:39.936021Z",
     "start_time": "2019-12-08T15:55:39.934199Z"
    },
    "colab": {},
    "colab_type": "code",
    "id": "P382xz9CAkz2"
   },
   "outputs": [],
   "source": [
    "# Cupy uses GPU to perform computation. How is transfer is handled?"
   ]
  },
  {
   "cell_type": "code",
   "execution_count": 6,
   "metadata": {
    "ExecuteTime": {
     "end_time": "2019-12-08T15:55:39.940565Z",
     "start_time": "2019-12-08T15:55:39.937064Z"
    },
    "colab": {},
    "colab_type": "code",
    "id": "IoK1IyiMAkz7"
   },
   "outputs": [],
   "source": [
    "def np_saxpy(x, y, a):\n",
    "    return x*a + y\n",
    "\n",
    "@cp.fuse()\n",
    "def cp_saxpy(x, y, a):\n",
    "    return x*a + y"
   ]
  },
  {
   "cell_type": "code",
   "execution_count": null,
   "metadata": {
    "colab": {},
    "colab_type": "code",
    "id": "oCxfc6LHAk0A"
   },
   "outputs": [],
   "source": []
  },
  {
   "cell_type": "code",
   "execution_count": 7,
   "metadata": {
    "ExecuteTime": {
     "end_time": "2019-12-08T15:57:56.763428Z",
     "start_time": "2019-12-08T15:55:39.941707Z"
    },
    "colab": {
     "referenced_widgets": [
      "1ee28fc326a34292a8012e96468a1f61"
     ]
    },
    "colab_type": "code",
    "id": "e_xxqzYuAk0E",
    "outputId": "0a32ff0d-ca81-4e94-9191-3e3f44b18199"
   },
   "outputs": [
    {
     "data": {
      "application/vnd.jupyter.widget-view+json": {
       "model_id": "0a4fc10d1d664e909e3e4bc0c5b245e1",
       "version_major": 2,
       "version_minor": 0
      },
      "text/plain": [
       "HBox(children=(IntProgress(value=0, max=20), HTML(value='')))"
      ]
     },
     "metadata": {},
     "output_type": "display_data"
    },
    {
     "name": "stdout",
     "output_type": "stream",
     "text": [
      "\n"
     ]
    }
   ],
   "source": [
    "np_res = []\n",
    "for s in tqdm.tqdm_notebook(np.logspace(2, 4, 20)):\n",
    "    s = int(s)\n",
    "    np_x, np_y, np_a = np.random.rand(s,s).astype(np.float32), np.random.rand(s,s).astype(np.float32), np.float32(4.5)\n",
    "    t = %timeit -o -q np_saxpy(np_x, np_y, np_a);\n",
    "    np_res.append(t)"
   ]
  },
  {
   "cell_type": "code",
   "execution_count": 8,
   "metadata": {
    "ExecuteTime": {
     "end_time": "2019-12-08T16:01:10.249228Z",
     "start_time": "2019-12-08T15:57:56.765455Z"
    },
    "colab": {
     "referenced_widgets": [
      "0f234b6d12c04077ac740ea63297c9ed"
     ]
    },
    "colab_type": "code",
    "id": "bFHA4xvHAk0J",
    "outputId": "7396b029-cbad-4864-bda7-09ad467c1cd7"
   },
   "outputs": [
    {
     "data": {
      "application/vnd.jupyter.widget-view+json": {
       "model_id": "2420724b38a5423f9de0c191aa57031e",
       "version_major": 2,
       "version_minor": 0
      },
      "text/plain": [
       "HBox(children=(IntProgress(value=0, max=20), HTML(value='')))"
      ]
     },
     "metadata": {},
     "output_type": "display_data"
    },
    {
     "name": "stdout",
     "output_type": "stream",
     "text": [
      "\n"
     ]
    }
   ],
   "source": [
    "cp_res = []\n",
    "for s in tqdm.tqdm_notebook(np.logspace(2, 4, 20)):\n",
    "    s = int(s)\n",
    "    cp_x, cp_y, cp_a = cp.random.rand(s,s,dtype='f'), cp.random.rand(s,s, dtype='f'), cp.float32(4.5)\n",
    "    t = %timeit -q -o cp_saxpy(cp_x, cp_y, cp_a);\n",
    "    cp_res.append(t)"
   ]
  },
  {
   "cell_type": "code",
   "execution_count": 9,
   "metadata": {
    "ExecuteTime": {
     "end_time": "2019-12-08T16:01:10.800280Z",
     "start_time": "2019-12-08T16:01:10.252340Z"
    },
    "colab": {},
    "colab_type": "code",
    "id": "XsO_XtGdAk0O",
    "outputId": "2fc01857-51af-45a8-ea64-fd375da259fa"
   },
   "outputs": [
    {
     "data": {
      "image/png": "[encoded data removed]",
      "text/plain": [
       "<Figure size 720x432 with 1 Axes>"
      ]
     },
     "metadata": {
      "needs_background": "light"
     },
     "output_type": "display_data"
    }
   ],
   "source": [
    "plt.figure(figsize=(10,6))\n",
    "plt.plot(np.logspace(2, 4, 20), [i.average for i in np_res])\n",
    "plt.plot(np.logspace(2, 4, 20), [i.average for i in cp_res])\n",
    "plt.title('SAXPY')\n",
    "plt.yscale('log')\n",
    "plt.xlabel('Array size')\n",
    "plt.ylabel('Time ms')\n",
    "plt.legend(['numpy', 'cupy']);"
   ]
  },
  {
   "cell_type": "markdown",
   "metadata": {
    "colab_type": "text",
    "id": "oe1nIS4DAk0S"
   },
   "source": [
    "## Task 11. CuPy-based Bifurcation map\n",
    "\n",
    "By using <u><i><strong>CuPy</strong></i></u>, reimplement bifurcation map (Task 1)."
   ]
  },
  {
   "cell_type": "code",
   "execution_count": 10,
   "metadata": {
    "ExecuteTime": {
     "end_time": "2019-12-08T16:01:10.805092Z",
     "start_time": "2019-12-08T16:01:10.802086Z"
    },
    "colab": {},
    "colab_type": "code",
    "id": "Orkt6ywGAk0U"
   },
   "outputs": [],
   "source": [
    "def np_fun(r, x):\n",
    "    res = r*x*(1-x)\n",
    "    return res\n",
    "\n",
    "@cp.fuse()\n",
    "def cp_fun(r, x):\n",
    "    res = r*x*(1-x)\n",
    "    return res"
   ]
  },
  {
   "cell_type": "code",
   "execution_count": 11,
   "metadata": {
    "ExecuteTime": {
     "end_time": "2019-12-08T16:01:11.807901Z",
     "start_time": "2019-12-08T16:01:10.807141Z"
    },
    "colab": {},
    "colab_type": "code",
    "id": "AmKGcU6qAk0Y"
   },
   "outputs": [],
   "source": [
    "s = int(1e8)\n",
    "np_r = np.linspace(0, 4, s, dtype='float32')\n",
    "cp_r = cp.linspace(0, 4, s, dtype='float32')\n",
    "x = np.random.rand()\n",
    "cp_x = cp.float32(x)"
   ]
  },
  {
   "cell_type": "code",
   "execution_count": 12,
   "metadata": {
    "ExecuteTime": {
     "end_time": "2019-12-08T16:01:26.085370Z",
     "start_time": "2019-12-08T16:01:11.809532Z"
    },
    "colab": {
     "base_uri": "https://localhost:8080/",
     "height": 34
    },
    "colab_type": "code",
    "id": "UKngX1XkAk0d",
    "outputId": "93d05bca-3f01-4ab2-ad32-f2a243a44827"
   },
   "outputs": [
    {
     "name": "stdout",
     "output_type": "stream",
     "text": [
      "176 ms ± 229 µs per loop (mean ± std. dev. of 7 runs, 10 loops each)\n"
     ]
    }
   ],
   "source": [
    "%timeit np_fun(np_r, x);"
   ]
  },
  {
   "cell_type": "code",
   "execution_count": 13,
   "metadata": {
    "ExecuteTime": {
     "end_time": "2019-12-08T16:01:42.770333Z",
     "start_time": "2019-12-08T16:01:26.087092Z"
    },
    "colab": {
     "base_uri": "https://localhost:8080/",
     "height": 34
    },
    "colab_type": "code",
    "id": "vYDjrbq1Ak0h",
    "outputId": "1bb1419d-6782-4f14-e458-4212374acc06"
   },
   "outputs": [
    {
     "name": "stdout",
     "output_type": "stream",
     "text": [
      "211 ms ± 40.2 ms per loop (mean ± std. dev. of 7 runs, 10 loops each)\n"
     ]
    }
   ],
   "source": [
    "%timeit cp_fun(np_r, x);"
   ]
  },
  {
   "cell_type": "code",
   "execution_count": 14,
   "metadata": {
    "ExecuteTime": {
     "end_time": "2019-12-08T16:03:11.347951Z",
     "start_time": "2019-12-08T16:01:42.771849Z"
    },
    "colab": {
     "base_uri": "https://localhost:8080/",
     "height": 34
    },
    "colab_type": "code",
    "id": "6YNY0HqyAk0m",
    "outputId": "bda96a1e-c8f1-45b0-fe8f-6cde3e8f31ca"
   },
   "outputs": [
    {
     "name": "stdout",
     "output_type": "stream",
     "text": [
      "1.11 ms ± 31.7 ns per loop (mean ± std. dev. of 7 runs, 10000 loops each)\n"
     ]
    }
   ],
   "source": [
    "%timeit cp_fun(cp_r, x);"
   ]
  },
  {
   "cell_type": "code",
   "execution_count": 15,
   "metadata": {
    "ExecuteTime": {
     "end_time": "2019-12-08T16:03:11.530821Z",
     "start_time": "2019-12-08T16:03:11.350370Z"
    },
    "colab": {
     "base_uri": "https://localhost:8080/",
     "height": 204
    },
    "colab_type": "code",
    "id": "1uTBQ2ZqAk0q",
    "outputId": "b41a655a-2f0a-408f-8528-93eb2d8bbe4e"
   },
   "outputs": [
    {
     "name": "stdout",
     "output_type": "stream",
     "text": [
      "          4 function calls in 0.175 seconds\n",
      "\n",
      "   Ordered by: internal time\n",
      "\n",
      "   ncalls  tottime  percall  cumtime  percall filename:lineno(function)\n",
      "        1    0.174    0.174    0.174    0.174 <ipython-input-10-1736a7abcc20>:1(np_fun)\n",
      "        1    0.001    0.001    0.175    0.175 <string>:1(<module>)\n",
      "        1    0.000    0.000    0.175    0.175 {built-in method builtins.exec}\n",
      "        1    0.000    0.000    0.000    0.000 {method 'disable' of '_lsprof.Profiler' objects}\n",
      "\n",
      "\n"
     ]
    }
   ],
   "source": [
    "s = %prun -r np_fun(np_r, x)\n",
    "s.print_stats();"
   ]
  },
  {
   "cell_type": "code",
   "execution_count": 16,
   "metadata": {
    "ExecuteTime": {
     "end_time": "2019-12-08T16:03:11.536874Z",
     "start_time": "2019-12-08T16:03:11.532607Z"
    },
    "colab": {
     "base_uri": "https://localhost:8080/",
     "height": 187
    },
    "colab_type": "code",
    "id": "mO_XLpqOAk0v",
    "outputId": "c1696668-495f-40cf-a265-75772054b473"
   },
   "outputs": [
    {
     "name": "stdout",
     "output_type": "stream",
     "text": [
      "          3 function calls in 0.000 seconds\n",
      "\n",
      "   Ordered by: internal time\n",
      "\n",
      "   ncalls  tottime  percall  cumtime  percall filename:lineno(function)\n",
      "        1    0.000    0.000    0.000    0.000 <string>:1(<module>)\n",
      "        1    0.000    0.000    0.000    0.000 {built-in method builtins.exec}\n",
      "        1    0.000    0.000    0.000    0.000 {method 'disable' of '_lsprof.Profiler' objects}\n",
      "\n",
      "\n"
     ]
    }
   ],
   "source": [
    "s = %prun -r cp_fun(cp_r, x)\n",
    "s.print_stats();"
   ]
  },
  {
   "cell_type": "code",
   "execution_count": 17,
   "metadata": {
    "ExecuteTime": {
     "end_time": "2019-12-08T16:05:19.471399Z",
     "start_time": "2019-12-08T16:03:11.538155Z"
    },
    "colab": {
     "base_uri": "https://localhost:8080/",
     "height": 66,
     "referenced_widgets": [
      "89f28435ad3f4eb6a11298cc73c69a4e",
      "d25668612d2048f4acf960e44fecd925",
      "3241add6817b451ab4c62e0a6fb3778e",
      "7ea9c944bddd48d68ef9a4a54485c894",
      "02fe30ede2bd441883779d179d193b74",
      "9d0e6efc3cfa4acab93da0cd313146e9",
      "b0331b7d4df94e06a9fd47ba44643072",
      "524295f2994f464893fd7a047871ca71"
     ]
    },
    "colab_type": "code",
    "id": "n_nH-uWmAk00",
    "outputId": "990a8983-31c9-4880-8148-e900d9ca44f4"
   },
   "outputs": [
    {
     "data": {
      "application/vnd.jupyter.widget-view+json": {
       "model_id": "174b43f13a7542eeb794d76951db3d61",
       "version_major": 2,
       "version_minor": 0
      },
      "text/plain": [
       "HBox(children=(IntProgress(value=0, max=20), HTML(value='')))"
      ]
     },
     "metadata": {},
     "output_type": "display_data"
    },
    {
     "name": "stdout",
     "output_type": "stream",
     "text": [
      "\n"
     ]
    }
   ],
   "source": [
    "np_res = []\n",
    "for s in tqdm.tqdm_notebook(np.logspace(2, 7, 20)):\n",
    "    s = int(s)\n",
    "    np_r, np_x = np.linspace(0, 4, s).astype(np.float32), np.random.rand(s).astype(np.float32)\n",
    "    t = %timeit -o -q np_fun(np_r, np_x)\n",
    "    np_res.append(t)"
   ]
  },
  {
   "cell_type": "code",
   "execution_count": 18,
   "metadata": {
    "ExecuteTime": {
     "end_time": "2019-12-08T16:08:38.101593Z",
     "start_time": "2019-12-08T16:05:19.473133Z"
    },
    "colab": {
     "base_uri": "https://localhost:8080/",
     "height": 66,
     "referenced_widgets": [
      "b8697957469b44629196bcd7c0f35c5e",
      "98d5a6cb474d41d7b23d190b755c8ffc",
      "ce2bc9f5635a472abc0ad6bf9743259f",
      "4c8f9819ead544ce9c4a01531a671170",
      "a6f990f8b3d041eb917663082fc6d9e1",
      "04c1e399a61a41829479f79b35f8424e",
      "3003dab3d69345a18b638cbf42b28f1e",
      "06f0b11a4f294090a7d8b619cbbe339c"
     ]
    },
    "colab_type": "code",
    "id": "e4LmLp9jCgGm",
    "outputId": "94cd1a3f-1cc1-49b0-d300-6298088bb996"
   },
   "outputs": [
    {
     "data": {
      "application/vnd.jupyter.widget-view+json": {
       "model_id": "ba9fd934f2ad416e8637ab8acbdd4469",
       "version_major": 2,
       "version_minor": 0
      },
      "text/plain": [
       "HBox(children=(IntProgress(value=0, max=20), HTML(value='')))"
      ]
     },
     "metadata": {},
     "output_type": "display_data"
    },
    {
     "name": "stdout",
     "output_type": "stream",
     "text": [
      "\n"
     ]
    }
   ],
   "source": [
    "cp_res = []\n",
    "for s in tqdm.tqdm_notebook(np.logspace(2, 7, 20)):\n",
    "    s = int(s)\n",
    "    cp_r, cp_x = cp.linspace(0, 4, s, dtype='f'), cp.random.rand(s, dtype='f')\n",
    "    t = %timeit -o -q cp_fun(cp_r, cp_x)\n",
    "    cp_res.append(t)"
   ]
  },
  {
   "cell_type": "code",
   "execution_count": 19,
   "metadata": {
    "ExecuteTime": {
     "end_time": "2019-12-08T16:08:38.718523Z",
     "start_time": "2019-12-08T16:08:38.103519Z"
    },
    "colab": {
     "base_uri": "https://localhost:8080/",
     "height": 408
    },
    "colab_type": "code",
    "id": "1fu0Dh0cCwD-",
    "outputId": "3942bb91-e67c-46a0-c60a-cf9282343601"
   },
   "outputs": [
    {
     "data": {
      "image/png": "[encoded data removed]",
      "text/plain": [
       "<Figure size 720x432 with 1 Axes>"
      ]
     },
     "metadata": {
      "needs_background": "light"
     },
     "output_type": "display_data"
    }
   ],
   "source": [
    "plt.figure(figsize=(10,6))\n",
    "plt.plot(np.logspace(2, 7, 20), [i.best for i in np_res])\n",
    "plt.plot(np.logspace(2, 7, 20), [i.best for i in cp_res])\n",
    "plt.title('Bifurcation')\n",
    "plt.yscale('log')\n",
    "plt.xscale('log')\n",
    "plt.xlabel('Array size')\n",
    "plt.ylabel('Time ms')\n",
    "plt.legend(['numpy', 'cupy']);"
   ]
  },
  {
   "cell_type": "markdown",
   "metadata": {
    "colab_type": "text",
    "id": "IZNtoVK6Ak04"
   },
   "source": [
    "## Task 12. Histogram\n",
    "\n",
    "\n",
    "<u>By using <i><strong>CuPy</strong></i>:</u>\n",
    "* Implement the suggested function:\n",
    "$$\n",
    " f(x) = (z^2(x) + z^3(x) - 200 \\,\\, z^4(x) )\\,\\,\\sin(\\,\\,100000\\,\\,(x + 0.5)\\,\\,),\n",
    " \\\\\n",
    " \\text{where    }\\:\\:\\: z(x) = \\sin(3\\,\\,x)-0.5\n",
    "$$\n",
    "* Plot function on the $x$ interval $[0,\\,\\, 1]$. Number of points = 10000000.\n",
    "* Get minimal and maximal values of function on the interval $[0,\\,\\, 1]$: $f_{min}$ and $f_{max}$.\n",
    "* Divide $y=f(x), \\: (x \\in [0,\\,\\, 1]) \\:$ interval $[f_{min}, f_{max}]$ into $10$ $y=f(x)$ subintervals of length $\\delta$ equal to $0.1 \\,\\, (f_{max}-f_{min})$: $[f_{min},\\,\\, f_{min} + \\delta],\\,\\, [f_{min}+ \\delta,\\,\\, f_{min} + 2 \\,\\, \\delta],\\,\\, \\dots,\\,\\, [f_{max}- \\delta,\\,\\, f_{max}]$.\n",
    "* Compute number of $y=f(x), \\: (x \\in [0,\\,\\, 1]) \\:$ values in each subinterval. Use $\\operatorname{cp.sum(\\dots)}$\n",
    "* Plot histogram. <strong>[Hint: how to represent the histogram](https://cdn.datamentor.io/wp-content/uploads/2017/11/r-histogram.png)</strong>\n",
    "\n",
    "<strong >Hint about function $f(x)$ appearance:</strong>\n",
    "    ![Hint](Hint.png)"
   ]
  },
  {
   "cell_type": "code",
   "execution_count": 20,
   "metadata": {
    "ExecuteTime": {
     "end_time": "2019-12-08T16:08:38.751557Z",
     "start_time": "2019-12-08T16:08:38.720027Z"
    },
    "colab": {},
    "colab_type": "code",
    "id": "VExxacz5Ak05",
    "outputId": "9aa6a0c8-a8ea-4093-efea-4cf517c0a60e"
   },
   "outputs": [
    {
     "name": "stdout",
     "output_type": "stream",
     "text": [
      "Min: -12.365544666168107. Max 12.374912294071224.\n"
     ]
    }
   ],
   "source": [
    "@cp.fuse()\n",
    "def z(x):\n",
    "    return cp.sin(3*x) - 0.5\n",
    "\n",
    "@cp.fuse()\n",
    "def f(x):\n",
    "    return (cp.power(z(x),2)+cp.power(z(x),3)-200*cp.power(z(x),4))*cp.sin(1e5*(x+0.5))\n",
    "\n",
    "x = cp.linspace(0,1, int(1e7))\n",
    "y = f(x)\n",
    "f_min = y.min()\n",
    "f_max = y.max()\n",
    "delta = 0.1 * (f_max - f_min)\n",
    "print('Min: {}. Max {}.'.format(f_min, f_max))"
   ]
  },
  {
   "cell_type": "code",
   "execution_count": 21,
   "metadata": {
    "ExecuteTime": {
     "end_time": "2019-12-08T16:08:39.660833Z",
     "start_time": "2019-12-08T16:08:38.752877Z"
    },
    "colab": {},
    "colab_type": "code",
    "id": "kW3-6nkFAk1C",
    "outputId": "0b9440cf-9e44-4fe8-ce0e-df628fad5dc8"
   },
   "outputs": [
    {
     "data": {
      "text/plain": [
       "<matplotlib.collections.LineCollection at 0x7fdcecf01a90>"
      ]
     },
     "execution_count": 21,
     "metadata": {},
     "output_type": "execute_result"
    },
    {
     "data": {
      "image/png": "[encoded data removed]",
      "text/plain": [
       "<Figure size 1080x576 with 1 Axes>"
      ]
     },
     "metadata": {
      "needs_background": "light"
     },
     "output_type": "display_data"
    }
   ],
   "source": [
    "plt.figure(figsize=(15, 8))\n",
    "plt.plot(x.tolist()[::10000], y.tolist()[::10000]);\n",
    "plt.hlines([np.float(f_min + i*delta) for i in range(11)], 0, 1, linestyles='dashed')"
   ]
  },
  {
   "cell_type": "code",
   "execution_count": 22,
   "metadata": {
    "ExecuteTime": {
     "end_time": "2019-12-08T16:08:59.044276Z",
     "start_time": "2019-12-08T16:08:39.662453Z"
    },
    "colab": {},
    "colab_type": "code",
    "id": "YEAvm5mNAk1H",
    "outputId": "7a67ff17-aee4-4106-803d-f0b4047e8de5"
   },
   "outputs": [
    {
     "name": "stdout",
     "output_type": "stream",
     "text": [
      "670 µs ± 56.7 ns per loop (mean ± std. dev. of 7 runs, 1000 loops each)\n",
      "17.1 ms ± 80.2 µs per loop (mean ± std. dev. of 7 runs, 100 loops each)\n"
     ]
    }
   ],
   "source": [
    "np_y = cp.asnumpy(y)\n",
    "%timeit y[y>5]\n",
    "%timeit np_y[np_y>5]"
   ]
  },
  {
   "cell_type": "code",
   "execution_count": 23,
   "metadata": {
    "ExecuteTime": {
     "end_time": "2019-12-08T16:08:59.277794Z",
     "start_time": "2019-12-08T16:08:59.046210Z"
    },
    "colab": {},
    "colab_type": "code",
    "id": "43R79PjCAk1L",
    "outputId": "ba2d53a0-a7f6-42bc-827f-60bf8d67b6a1"
   },
   "outputs": [
    {
     "data": {
      "image/png": "[encoded data removed]",
      "text/plain": [
       "<Figure size 432x288 with 1 Axes>"
      ]
     },
     "metadata": {
      "needs_background": "light"
     },
     "output_type": "display_data"
    }
   ],
   "source": [
    "res = []\n",
    "for i in range(10):\n",
    "#     cp.logical_and((f_min + (i+1)*delta) > y, y > (f_min + i*delta))\n",
    "    r = ((f_min + (i+1)*delta) > y) & (y > (f_min + i*delta))\n",
    "    r = cp.sum(r)\n",
    "    res.append(cp.asnumpy(r))\n",
    "res = np.array(res)\n",
    "plt.bar(np.arange(10),res)\n",
    "plt.title('Histogram of sums')\n",
    "plt.xlabel('Bin number')\n",
    "plt.ylabel('Number of points in the bin');"
   ]
  },
  {
   "cell_type": "code",
   "execution_count": 24,
   "metadata": {
    "ExecuteTime": {
     "end_time": "2019-12-08T16:08:59.285370Z",
     "start_time": "2019-12-08T16:08:59.280436Z"
    },
    "colab": {},
    "colab_type": "code",
    "id": "FeIaW4C0Ak1P"
   },
   "outputs": [],
   "source": [
    "# select points in the interval\n",
    "sub_y = ((f_min + delta) > y) & (y > f_min)\n",
    "np_sub_y = cp.asnumpy(sub_y)"
   ]
  },
  {
   "cell_type": "code",
   "execution_count": 25,
   "metadata": {
    "ExecuteTime": {
     "end_time": "2019-12-08T16:08:59.304535Z",
     "start_time": "2019-12-08T16:08:59.286796Z"
    },
    "colab": {},
    "colab_type": "code",
    "id": "2_I7rbADAk1T",
    "outputId": "db803d1d-6192-4304-9291-bf731ff3b6be"
   },
   "outputs": [
    {
     "name": "stdout",
     "output_type": "stream",
     "text": [
      "16.8 µs ± 2.47 µs per loop (mean ± std. dev. of 7 runs, 100 loops each)\n"
     ]
    }
   ],
   "source": [
    "%timeit -n 100 cp.sum(sub_y)"
   ]
  },
  {
   "cell_type": "code",
   "execution_count": 26,
   "metadata": {
    "ExecuteTime": {
     "end_time": "2019-12-08T16:09:05.468922Z",
     "start_time": "2019-12-08T16:08:59.305901Z"
    },
    "colab": {},
    "colab_type": "code",
    "id": "hYdNVWYIAk1W",
    "outputId": "21e40b19-af15-4dbd-fe79-715db51f7024"
   },
   "outputs": [
    {
     "name": "stdout",
     "output_type": "stream",
     "text": [
      "8.8 ms ± 6.61 µs per loop (mean ± std. dev. of 7 runs, 100 loops each)\n"
     ]
    }
   ],
   "source": [
    "%timeit -n 100 np.sum(np_sub_y)"
   ]
  },
  {
   "cell_type": "markdown",
   "metadata": {
    "colab_type": "text",
    "id": "ieF5UJrlAk1a"
   },
   "source": [
    "## Task 13. Image blur\n",
    "\n",
    "\n",
    "<u>By using <i><strong>CuPy</strong></i>:</u>\n",
    "* Implement the gpu version of the image blur algorithm. What you need to do is calculate convolution some image and some blur filter on every pixel. You should compute convolutions in parallel for every pixel using gpu cores.\n",
    "* Take any 100x100 image and \n",
    "\n",
    "<strong >Example of a blurred image:</strong>\n",
    "    ![Blur](blur.jpg)"
   ]
  },
  {
   "cell_type": "code",
   "execution_count": 27,
   "metadata": {
    "ExecuteTime": {
     "end_time": "2019-12-08T16:09:05.554134Z",
     "start_time": "2019-12-08T16:09:05.470546Z"
    },
    "colab": {},
    "colab_type": "code",
    "id": "_EJV0Hq0Ak1b"
   },
   "outputs": [],
   "source": [
    "#!wget -q https://quintagroup.com/cms/python/images/opencv-logo.png/@@images/image.png\n",
    "from PIL import Image\n",
    "im_s = 100\n",
    "pil_img = Image.open('image.png').resize((im_s,im_s)).convert('L')\n",
    "img = np.array(pil_img)\n",
    "k_hs = 3\n",
    "k_s = 2 * k_hs + 1\n",
    "kernel = np.ones((k_s,k_s))\n",
    "kernel /= kernel.sum()\n",
    "cp_img = cp.array(img)\n",
    "cp_kernel = cp.array(kernel)"
   ]
  },
  {
   "cell_type": "code",
   "execution_count": 28,
   "metadata": {
    "ExecuteTime": {
     "end_time": "2019-12-08T16:09:05.572240Z",
     "start_time": "2019-12-08T16:09:05.555798Z"
    },
    "colab": {},
    "colab_type": "code",
    "id": "b9rnt2PhDc4G"
   },
   "outputs": [],
   "source": [
    "big_img = np.empty((im_s*im_s, k_s*k_s), dtype='float32')\n",
    "for i in range(k_hs, im_s-k_hs):\n",
    "  for j in range(k_hs, im_s-k_hs):\n",
    "    big_img[i*im_s + j] = img[i-k_hs:i+k_hs+1, j-k_hs:j+k_hs+1].flatten()"
   ]
  },
  {
   "cell_type": "code",
   "execution_count": 29,
   "metadata": {
    "ExecuteTime": {
     "end_time": "2019-12-08T16:09:05.581075Z",
     "start_time": "2019-12-08T16:09:05.573729Z"
    },
    "colab": {},
    "colab_type": "code",
    "id": "gY0jHqS6Ak1f"
   },
   "outputs": [],
   "source": [
    "def np_blur_loop(img, kernel):\n",
    "    res = np.empty_like(img)\n",
    "    for i in range(k_hs, im_s-k_hs):\n",
    "        for j in range(k_hs, im_s-k_hs):\n",
    "          res[i, j] = (img[i-k_hs:i+k_hs+1, j-k_hs:j+k_hs+1] * kernel).sum()\n",
    "\n",
    "def np_blur(big_img, kernel):\n",
    "  f_kernel = np.ravel(kernel)\n",
    "  res = np.dot(big_img, f_kernel)\n",
    "  return np.reshape(res, (im_s, im_s))\n",
    "\n",
    "np_res = np_blur(big_img, kernel)\n",
    "    "
   ]
  },
  {
   "cell_type": "code",
   "execution_count": 30,
   "metadata": {
    "ExecuteTime": {
     "end_time": "2019-12-08T16:09:05.871884Z",
     "start_time": "2019-12-08T16:09:05.582262Z"
    },
    "colab": {},
    "colab_type": "code",
    "id": "cN4HRVUuAk1m"
   },
   "outputs": [],
   "source": [
    "def cp_blur(big_img, kernel):\n",
    "  f_kernel = cp.ravel(kernel)\n",
    "  res = cp.dot(big_img, f_kernel)\n",
    "  return cp.reshape(res, (im_s, im_s))\n",
    "\n",
    "def cp_blur_loop(img, kernel):\n",
    "    res = cp.empty_like(img)\n",
    "    for i in range(k_hs, im_s-k_hs):\n",
    "        for j in range(k_hs, im_s-k_hs):\n",
    "          res[i, j] = (img[i-k_hs:i+k_hs+1, j-k_hs:j+k_hs+1] * kernel).sum()\n",
    "   \n",
    "cp_big_img = cp.array(big_img)          \n",
    "cp_res = cp_blur(cp_big_img, cp_kernel)\n",
    "cp_res = cp.asnumpy(cp_res)"
   ]
  },
  {
   "cell_type": "code",
   "execution_count": 31,
   "metadata": {
    "ExecuteTime": {
     "end_time": "2019-12-08T16:09:05.878557Z",
     "start_time": "2019-12-08T16:09:05.873478Z"
    }
   },
   "outputs": [],
   "source": [
    "np_blur(big_img, kernel);"
   ]
  },
  {
   "cell_type": "code",
   "execution_count": 32,
   "metadata": {
    "ExecuteTime": {
     "end_time": "2019-12-08T16:09:17.733642Z",
     "start_time": "2019-12-08T16:09:05.879718Z"
    },
    "colab": {
     "base_uri": "https://localhost:8080/",
     "height": 51
    },
    "colab_type": "code",
    "id": "20z5HvVrK5Ef",
    "outputId": "02b3ef72-ed91-43a5-fceb-8de4452d1a06"
   },
   "outputs": [
    {
     "name": "stdout",
     "output_type": "stream",
     "text": [
      "1.44 ms ± 304 µs per loop (mean ± std. dev. of 7 runs, 1000 loops each)\n"
     ]
    }
   ],
   "source": [
    "%timeit np_blur(big_img, kernel)"
   ]
  },
  {
   "cell_type": "code",
   "execution_count": 33,
   "metadata": {
    "ExecuteTime": {
     "end_time": "2019-12-08T16:09:17.741330Z",
     "start_time": "2019-12-08T16:09:17.736445Z"
    }
   },
   "outputs": [],
   "source": [
    "cp_blur(cp_big_img, cp_kernel);"
   ]
  },
  {
   "cell_type": "code",
   "execution_count": 34,
   "metadata": {
    "ExecuteTime": {
     "end_time": "2019-12-08T16:09:17.809075Z",
     "start_time": "2019-12-08T16:09:17.742842Z"
    },
    "colab": {
     "base_uri": "https://localhost:8080/",
     "height": 34
    },
    "colab_type": "code",
    "id": "cNt0wqWhK8Q_",
    "outputId": "8e180939-95b4-4540-8892-1368c4b38d6c"
   },
   "outputs": [
    {
     "name": "stdout",
     "output_type": "stream",
     "text": [
      "88 µs ± 45.5 µs per loop (mean ± std. dev. of 7 runs, 100 loops each)\n"
     ]
    }
   ],
   "source": [
    "%timeit -n 100 cp_blur(cp_big_img, cp_kernel)"
   ]
  },
  {
   "cell_type": "code",
   "execution_count": 35,
   "metadata": {
    "ExecuteTime": {
     "end_time": "2019-12-08T16:09:18.258090Z",
     "start_time": "2019-12-08T16:09:17.810717Z"
    }
   },
   "outputs": [],
   "source": [
    "np_blur_loop(img, kernel);\n",
    "cp_blur_loop(cp_img, cp_kernel);"
   ]
  },
  {
   "cell_type": "code",
   "execution_count": 36,
   "metadata": {
    "ExecuteTime": {
     "end_time": "2019-12-08T16:09:21.157858Z",
     "start_time": "2019-12-08T16:09:18.259624Z"
    }
   },
   "outputs": [
    {
     "name": "stdout",
     "output_type": "stream",
     "text": [
      "36.4 ms ± 5.31 ms per loop (mean ± std. dev. of 7 runs, 10 loops each)\n"
     ]
    }
   ],
   "source": [
    "%timeit np_blur_loop(img, kernel)"
   ]
  },
  {
   "cell_type": "code",
   "execution_count": 37,
   "metadata": {
    "ExecuteTime": {
     "end_time": "2019-12-08T16:09:24.424419Z",
     "start_time": "2019-12-08T16:09:21.159813Z"
    }
   },
   "outputs": [
    {
     "name": "stdout",
     "output_type": "stream",
     "text": [
      "407 ms ± 1 ms per loop (mean ± std. dev. of 7 runs, 1 loop each)\n"
     ]
    }
   ],
   "source": [
    "%timeit cp_blur_loop(cp_img, cp_kernel)"
   ]
  },
  {
   "cell_type": "code",
   "execution_count": 38,
   "metadata": {
    "ExecuteTime": {
     "end_time": "2019-12-08T16:09:24.737220Z",
     "start_time": "2019-12-08T16:09:24.425869Z"
    },
    "colab": {
     "base_uri": "https://localhost:8080/",
     "height": 773
    },
    "colab_type": "code",
    "id": "k5H9Q6SfAk1q",
    "outputId": "88dc6524-9f65-452e-b6f7-222f0318979a"
   },
   "outputs": [
    {
     "data": {
      "image/png": "[encoded data removed]",
      "text/plain": [
       "<Figure size 432x288 with 1 Axes>"
      ]
     },
     "metadata": {
      "needs_background": "light"
     },
     "output_type": "display_data"
    },
    {
     "data": {
      "image/png": "[encoded data removed]",
      "text/plain": [
       "<Figure size 432x288 with 1 Axes>"
      ]
     },
     "metadata": {
      "needs_background": "light"
     },
     "output_type": "display_data"
    },
    {
     "data": {
      "image/png": "[encoded data removed]",
      "text/plain": [
       "<Figure size 432x288 with 1 Axes>"
      ]
     },
     "metadata": {
      "needs_background": "light"
     },
     "output_type": "display_data"
    }
   ],
   "source": [
    "plt.imshow(img, cmap='gray')\n",
    "plt.show()\n",
    "plt.imshow(np_res.astype(np.uint8), cmap='gray')\n",
    "plt.show()\n",
    "plt.imshow(cp_res.astype(np.uint8), cmap='gray');"
   ]
  },
  {
   "cell_type": "code",
   "execution_count": 0,
   "metadata": {
    "colab": {},
    "colab_type": "code",
    "id": "7hOsw2WvAk1u"
   },
   "outputs": [],
   "source": []
  },
  {
   "cell_type": "code",
   "execution_count": 0,
   "metadata": {
    "colab": {},
    "colab_type": "code",
    "id": "JMtZlMP4Ak1y"
   },
   "outputs": [],
   "source": []
  }
 ],
 "metadata": {
  "accelerator": "GPU",
  "colab": {
   "collapsed_sections": [],
   "name": "Task_10-13.ipynb",
   "provenance": []
  },
  "kernelspec": {
   "display_name": "Python 3",
   "language": "python",
   "name": "python3"
  },
  "language_info": {
   "codemirror_mode": {
    "name": "ipython",
    "version": 3
   },
   "file_extension": ".py",
   "mimetype": "text/x-python",
   "name": "python",
   "nbconvert_exporter": "python",
   "pygments_lexer": "ipython3",
   "version": "3.6.8"
  },
  "widgets": {
   "application/vnd.jupyter.widget-state+json": {
    "02fe30ede2bd441883779d179d193b74": {
     "model_module": "@jupyter-widgets/controls",
     "model_name": "ProgressStyleModel",
     "state": {
      "_model_module": "@jupyter-widgets/controls",
      "_model_module_version": "1.5.0",
      "_model_name": "ProgressStyleModel",
      "_view_count": null,
      "_view_module": "@jupyter-widgets/base",
      "_view_module_version": "1.2.0",
      "_view_name": "StyleView",
      "bar_color": null,
      "description_width": ""
     }
    },
    "04c1e399a61a41829479f79b35f8424e": {
     "model_module": "@jupyter-widgets/base",
     "model_name": "LayoutModel",
     "state": {
      "_model_module": "@jupyter-widgets/base",
      "_model_module_version": "1.2.0",
      "_model_name": "LayoutModel",
      "_view_count": null,
      "_view_module": "@jupyter-widgets/base",
      "_view_module_version": "1.2.0",
      "_view_name": "LayoutView",
      "align_content": null,
      "align_items": null,
      "align_self": null,
      "border": null,
      "bottom": null,
      "display": null,
      "flex": null,
      "flex_flow": null,
      "grid_area": null,
      "grid_auto_columns": null,
      "grid_auto_flow": null,
      "grid_auto_rows": null,
      "grid_column": null,
      "grid_gap": null,
      "grid_row": null,
      "grid_template_areas": null,
      "grid_template_columns": null,
      "grid_template_rows": null,
      "height": null,
      "justify_content": null,
      "justify_items": null,
      "left": null,
      "margin": null,
      "max_height": null,
      "max_width": null,
      "min_height": null,
      "min_width": null,
      "object_fit": null,
      "object_position": null,
      "order": null,
      "overflow": null,
      "overflow_x": null,
      "overflow_y": null,
      "padding": null,
      "right": null,
      "top": null,
      "visibility": null,
      "width": null
     }
    },
    "06f0b11a4f294090a7d8b619cbbe339c": {
     "model_module": "@jupyter-widgets/base",
     "model_name": "LayoutModel",
     "state": {
      "_model_module": "@jupyter-widgets/base",
      "_model_module_version": "1.2.0",
      "_model_name": "LayoutModel",
      "_view_count": null,
      "_view_module": "@jupyter-widgets/base",
      "_view_module_version": "1.2.0",
      "_view_name": "LayoutView",
      "align_content": null,
      "align_items": null,
      "align_self": null,
      "border": null,
      "bottom": null,
      "display": null,
      "flex": null,
      "flex_flow": null,
      "grid_area": null,
      "grid_auto_columns": null,
      "grid_auto_flow": null,
      "grid_auto_rows": null,
      "grid_column": null,
      "grid_gap": null,
      "grid_row": null,
      "grid_template_areas": null,
      "grid_template_columns": null,
      "grid_template_rows": null,
      "height": null,
      "justify_content": null,
      "justify_items": null,
      "left": null,
      "margin": null,
      "max_height": null,
      "max_width": null,
      "min_height": null,
      "min_width": null,
      "object_fit": null,
      "object_position": null,
      "order": null,
      "overflow": null,
      "overflow_x": null,
      "overflow_y": null,
      "padding": null,
      "right": null,
      "top": null,
      "visibility": null,
      "width": null
     }
    },
    "3003dab3d69345a18b638cbf42b28f1e": {
     "model_module": "@jupyter-widgets/controls",
     "model_name": "DescriptionStyleModel",
     "state": {
      "_model_module": "@jupyter-widgets/controls",
      "_model_module_version": "1.5.0",
      "_model_name": "DescriptionStyleModel",
      "_view_count": null,
      "_view_module": "@jupyter-widgets/base",
      "_view_module_version": "1.2.0",
      "_view_name": "StyleView",
      "description_width": ""
     }
    },
    "3241add6817b451ab4c62e0a6fb3778e": {
     "model_module": "@jupyter-widgets/controls",
     "model_name": "IntProgressModel",
     "state": {
      "_dom_classes": [],
      "_model_module": "@jupyter-widgets/controls",
      "_model_module_version": "1.5.0",
      "_model_name": "IntProgressModel",
      "_view_count": null,
      "_view_module": "@jupyter-widgets/controls",
      "_view_module_version": "1.5.0",
      "_view_name": "ProgressView",
      "bar_style": "success",
      "description": "",
      "description_tooltip": null,
      "layout": "IPY_MODEL_9d0e6efc3cfa4acab93da0cd313146e9",
      "max": 20,
      "min": 0,
      "orientation": "horizontal",
      "style": "IPY_MODEL_02fe30ede2bd441883779d179d193b74",
      "value": 20
     }
    },
    "4c8f9819ead544ce9c4a01531a671170": {
     "model_module": "@jupyter-widgets/controls",
     "model_name": "HTMLModel",
     "state": {
      "_dom_classes": [],
      "_model_module": "@jupyter-widgets/controls",
      "_model_module_version": "1.5.0",
      "_model_name": "HTMLModel",
      "_view_count": null,
      "_view_module": "@jupyter-widgets/controls",
      "_view_module_version": "1.5.0",
      "_view_name": "HTMLView",
      "description": "",
      "description_tooltip": null,
      "layout": "IPY_MODEL_06f0b11a4f294090a7d8b619cbbe339c",
      "placeholder": "​",
      "style": "IPY_MODEL_3003dab3d69345a18b638cbf42b28f1e",
      "value": "100% 20/20 [01:39&lt;00:00,  4.05s/it]"
     }
    },
    "524295f2994f464893fd7a047871ca71": {
     "model_module": "@jupyter-widgets/base",
     "model_name": "LayoutModel",
     "state": {
      "_model_module": "@jupyter-widgets/base",
      "_model_module_version": "1.2.0",
      "_model_name": "LayoutModel",
      "_view_count": null,
      "_view_module": "@jupyter-widgets/base",
      "_view_module_version": "1.2.0",
      "_view_name": "LayoutView",
      "align_content": null,
      "align_items": null,
      "align_self": null,
      "border": null,
      "bottom": null,
      "display": null,
      "flex": null,
      "flex_flow": null,
      "grid_area": null,
      "grid_auto_columns": null,
      "grid_auto_flow": null,
      "grid_auto_rows": null,
      "grid_column": null,
      "grid_gap": null,
      "grid_row": null,
      "grid_template_areas": null,
      "grid_template_columns": null,
      "grid_template_rows": null,
      "height": null,
      "justify_content": null,
      "justify_items": null,
      "left": null,
      "margin": null,
      "max_height": null,
      "max_width": null,
      "min_height": null,
      "min_width": null,
      "object_fit": null,
      "object_position": null,
      "order": null,
      "overflow": null,
      "overflow_x": null,
      "overflow_y": null,
      "padding": null,
      "right": null,
      "top": null,
      "visibility": null,
      "width": null
     }
    },
    "7ea9c944bddd48d68ef9a4a54485c894": {
     "model_module": "@jupyter-widgets/controls",
     "model_name": "HTMLModel",
     "state": {
      "_dom_classes": [],
      "_model_module": "@jupyter-widgets/controls",
      "_model_module_version": "1.5.0",
      "_model_name": "HTMLModel",
      "_view_count": null,
      "_view_module": "@jupyter-widgets/controls",
      "_view_module_version": "1.5.0",
      "_view_name": "HTMLView",
      "description": "",
      "description_tooltip": null,
      "layout": "IPY_MODEL_524295f2994f464893fd7a047871ca71",
      "placeholder": "​",
      "style": "IPY_MODEL_b0331b7d4df94e06a9fd47ba44643072",
      "value": "100% 20/20 [00:48&lt;00:00,  3.25s/it]"
     }
    },
    "89f28435ad3f4eb6a11298cc73c69a4e": {
     "model_module": "@jupyter-widgets/controls",
     "model_name": "HBoxModel",
     "state": {
      "_dom_classes": [],
      "_model_module": "@jupyter-widgets/controls",
      "_model_module_version": "1.5.0",
      "_model_name": "HBoxModel",
      "_view_count": null,
      "_view_module": "@jupyter-widgets/controls",
      "_view_module_version": "1.5.0",
      "_view_name": "HBoxView",
      "box_style": "",
      "children": [
       "IPY_MODEL_3241add6817b451ab4c62e0a6fb3778e",
       "IPY_MODEL_7ea9c944bddd48d68ef9a4a54485c894"
      ],
      "layout": "IPY_MODEL_d25668612d2048f4acf960e44fecd925"
     }
    },
    "98d5a6cb474d41d7b23d190b755c8ffc": {
     "model_module": "@jupyter-widgets/base",
     "model_name": "LayoutModel",
     "state": {
      "_model_module": "@jupyter-widgets/base",
      "_model_module_version": "1.2.0",
      "_model_name": "LayoutModel",
      "_view_count": null,
      "_view_module": "@jupyter-widgets/base",
      "_view_module_version": "1.2.0",
      "_view_name": "LayoutView",
      "align_content": null,
      "align_items": null,
      "align_self": null,
      "border": null,
      "bottom": null,
      "display": null,
      "flex": null,
      "flex_flow": null,
      "grid_area": null,
      "grid_auto_columns": null,
      "grid_auto_flow": null,
      "grid_auto_rows": null,
      "grid_column": null,
      "grid_gap": null,
      "grid_row": null,
      "grid_template_areas": null,
      "grid_template_columns": null,
      "grid_template_rows": null,
      "height": null,
      "justify_content": null,
      "justify_items": null,
      "left": null,
      "margin": null,
      "max_height": null,
      "max_width": null,
      "min_height": null,
      "min_width": null,
      "object_fit": null,
      "object_position": null,
      "order": null,
      "overflow": null,
      "overflow_x": null,
      "overflow_y": null,
      "padding": null,
      "right": null,
      "top": null,
      "visibility": null,
      "width": null
     }
    },
    "9d0e6efc3cfa4acab93da0cd313146e9": {
     "model_module": "@jupyter-widgets/base",
     "model_name": "LayoutModel",
     "state": {
      "_model_module": "@jupyter-widgets/base",
      "_model_module_version": "1.2.0",
      "_model_name": "LayoutModel",
      "_view_count": null,
      "_view_module": "@jupyter-widgets/base",
      "_view_module_version": "1.2.0",
      "_view_name": "LayoutView",
      "align_content": null,
      "align_items": null,
      "align_self": null,
      "border": null,
      "bottom": null,
      "display": null,
      "flex": null,
      "flex_flow": null,
      "grid_area": null,
      "grid_auto_columns": null,
      "grid_auto_flow": null,
      "grid_auto_rows": null,
      "grid_column": null,
      "grid_gap": null,
      "grid_row": null,
      "grid_template_areas": null,
      "grid_template_columns": null,
      "grid_template_rows": null,
      "height": null,
      "justify_content": null,
      "justify_items": null,
      "left": null,
      "margin": null,
      "max_height": null,
      "max_width": null,
      "min_height": null,
      "min_width": null,
      "object_fit": null,
      "object_position": null,
      "order": null,
      "overflow": null,
      "overflow_x": null,
      "overflow_y": null,
      "padding": null,
      "right": null,
      "top": null,
      "visibility": null,
      "width": null
     }
    },
    "a6f990f8b3d041eb917663082fc6d9e1": {
     "model_module": "@jupyter-widgets/controls",
     "model_name": "ProgressStyleModel",
     "state": {
      "_model_module": "@jupyter-widgets/controls",
      "_model_module_version": "1.5.0",
      "_model_name": "ProgressStyleModel",
      "_view_count": null,
      "_view_module": "@jupyter-widgets/base",
      "_view_module_version": "1.2.0",
      "_view_name": "StyleView",
      "bar_color": null,
      "description_width": ""
     }
    },
    "b0331b7d4df94e06a9fd47ba44643072": {
     "model_module": "@jupyter-widgets/controls",
     "model_name": "DescriptionStyleModel",
     "state": {
      "_model_module": "@jupyter-widgets/controls",
      "_model_module_version": "1.5.0",
      "_model_name": "DescriptionStyleModel",
      "_view_count": null,
      "_view_module": "@jupyter-widgets/base",
      "_view_module_version": "1.2.0",
      "_view_name": "StyleView",
      "description_width": ""
     }
    },
    "b8697957469b44629196bcd7c0f35c5e": {
     "model_module": "@jupyter-widgets/controls",
     "model_name": "HBoxModel",
     "state": {
      "_dom_classes": [],
      "_model_module": "@jupyter-widgets/controls",
      "_model_module_version": "1.5.0",
      "_model_name": "HBoxModel",
      "_view_count": null,
      "_view_module": "@jupyter-widgets/controls",
      "_view_module_version": "1.5.0",
      "_view_name": "HBoxView",
      "box_style": "",
      "children": [
       "IPY_MODEL_ce2bc9f5635a472abc0ad6bf9743259f",
       "IPY_MODEL_4c8f9819ead544ce9c4a01531a671170"
      ],
      "layout": "IPY_MODEL_98d5a6cb474d41d7b23d190b755c8ffc"
     }
    },
    "ce2bc9f5635a472abc0ad6bf9743259f": {
     "model_module": "@jupyter-widgets/controls",
     "model_name": "IntProgressModel",
     "state": {
      "_dom_classes": [],
      "_model_module": "@jupyter-widgets/controls",
      "_model_module_version": "1.5.0",
      "_model_name": "IntProgressModel",
      "_view_count": null,
      "_view_module": "@jupyter-widgets/controls",
      "_view_module_version": "1.5.0",
      "_view_name": "ProgressView",
      "bar_style": "success",
      "description": "",
      "description_tooltip": null,
      "layout": "IPY_MODEL_04c1e399a61a41829479f79b35f8424e",
      "max": 20,
      "min": 0,
      "orientation": "horizontal",
      "style": "IPY_MODEL_a6f990f8b3d041eb917663082fc6d9e1",
      "value": 20
     }
    },
    "d25668612d2048f4acf960e44fecd925": {
     "model_module": "@jupyter-widgets/base",
     "model_name": "LayoutModel",
     "state": {
      "_model_module": "@jupyter-widgets/base",
      "_model_module_version": "1.2.0",
      "_model_name": "LayoutModel",
      "_view_count": null,
      "_view_module": "@jupyter-widgets/base",
      "_view_module_version": "1.2.0",
      "_view_name": "LayoutView",
      "align_content": null,
      "align_items": null,
      "align_self": null,
      "border": null,
      "bottom": null,
      "display": null,
      "flex": null,
      "flex_flow": null,
      "grid_area": null,
      "grid_auto_columns": null,
      "grid_auto_flow": null,
      "grid_auto_rows": null,
      "grid_column": null,
      "grid_gap": null,
      "grid_row": null,
      "grid_template_areas": null,
      "grid_template_columns": null,
      "grid_template_rows": null,
      "height": null,
      "justify_content": null,
      "justify_items": null,
      "left": null,
      "margin": null,
      "max_height": null,
      "max_width": null,
      "min_height": null,
      "min_width": null,
      "object_fit": null,
      "object_position": null,
      "order": null,
      "overflow": null,
      "overflow_x": null,
      "overflow_y": null,
      "padding": null,
      "right": null,
      "top": null,
      "visibility": null,
      "width": null
     }
    }
   }
  }
 },
 "nbformat": 4,
 "nbformat_minor": 1
}
