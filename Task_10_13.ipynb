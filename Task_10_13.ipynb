{
  "nbformat": 4,
  "nbformat_minor": 0,
  "metadata": {
    "kernelspec": {
      "name": "python3",
      "display_name": "Python 3"
    },
    "language_info": {
      "codemirror_mode": {
        "name": "ipython",
        "version": 3
      },
      "file_extension": ".py",
      "mimetype": "text/x-python",
      "name": "python",
      "nbconvert_exporter": "python",
      "pygments_lexer": "ipython3",
      "version": "3.5.2"
    },
    "colab": {
      "name": "Task_10-13.ipynb",
      "provenance": [],
      "collapsed_sections": []
    },
    "accelerator": "GPU",
    "widgets": {
      "application/vnd.jupyter.widget-state+json": {
        "89f28435ad3f4eb6a11298cc73c69a4e": {
          "model_module": "@jupyter-widgets/controls",
          "model_name": "HBoxModel",
          "state": {
            "_view_name": "HBoxView",
            "_dom_classes": [],
            "_model_name": "HBoxModel",
            "_view_module": "@jupyter-widgets/controls",
            "_model_module_version": "1.5.0",
            "_view_count": null,
            "_view_module_version": "1.5.0",
            "box_style": "",
            "layout": "IPY_MODEL_d25668612d2048f4acf960e44fecd925",
            "_model_module": "@jupyter-widgets/controls",
            "children": [
              "IPY_MODEL_3241add6817b451ab4c62e0a6fb3778e",
              "IPY_MODEL_7ea9c944bddd48d68ef9a4a54485c894"
            ]
          }
        },
        "d25668612d2048f4acf960e44fecd925": {
          "model_module": "@jupyter-widgets/base",
          "model_name": "LayoutModel",
          "state": {
            "_view_name": "LayoutView",
            "grid_template_rows": null,
            "right": null,
            "justify_content": null,
            "_view_module": "@jupyter-widgets/base",
            "overflow": null,
            "_model_module_version": "1.2.0",
            "_view_count": null,
            "flex_flow": null,
            "width": null,
            "min_width": null,
            "border": null,
            "align_items": null,
            "bottom": null,
            "_model_module": "@jupyter-widgets/base",
            "top": null,
            "grid_column": null,
            "overflow_y": null,
            "overflow_x": null,
            "grid_auto_flow": null,
            "grid_area": null,
            "grid_template_columns": null,
            "flex": null,
            "_model_name": "LayoutModel",
            "justify_items": null,
            "grid_row": null,
            "max_height": null,
            "align_content": null,
            "visibility": null,
            "align_self": null,
            "height": null,
            "min_height": null,
            "padding": null,
            "grid_auto_rows": null,
            "grid_gap": null,
            "max_width": null,
            "order": null,
            "_view_module_version": "1.2.0",
            "grid_template_areas": null,
            "object_position": null,
            "object_fit": null,
            "grid_auto_columns": null,
            "margin": null,
            "display": null,
            "left": null
          }
        },
        "3241add6817b451ab4c62e0a6fb3778e": {
          "model_module": "@jupyter-widgets/controls",
          "model_name": "IntProgressModel",
          "state": {
            "_view_name": "ProgressView",
            "style": "IPY_MODEL_02fe30ede2bd441883779d179d193b74",
            "_dom_classes": [],
            "description": "",
            "_model_name": "IntProgressModel",
            "bar_style": "success",
            "max": 20,
            "_view_module": "@jupyter-widgets/controls",
            "_model_module_version": "1.5.0",
            "value": 20,
            "_view_count": null,
            "_view_module_version": "1.5.0",
            "orientation": "horizontal",
            "min": 0,
            "description_tooltip": null,
            "_model_module": "@jupyter-widgets/controls",
            "layout": "IPY_MODEL_9d0e6efc3cfa4acab93da0cd313146e9"
          }
        },
        "7ea9c944bddd48d68ef9a4a54485c894": {
          "model_module": "@jupyter-widgets/controls",
          "model_name": "HTMLModel",
          "state": {
            "_view_name": "HTMLView",
            "style": "IPY_MODEL_b0331b7d4df94e06a9fd47ba44643072",
            "_dom_classes": [],
            "description": "",
            "_model_name": "HTMLModel",
            "placeholder": "​",
            "_view_module": "@jupyter-widgets/controls",
            "_model_module_version": "1.5.0",
            "value": "100% 20/20 [00:48&lt;00:00,  3.25s/it]",
            "_view_count": null,
            "_view_module_version": "1.5.0",
            "description_tooltip": null,
            "_model_module": "@jupyter-widgets/controls",
            "layout": "IPY_MODEL_524295f2994f464893fd7a047871ca71"
          }
        },
        "02fe30ede2bd441883779d179d193b74": {
          "model_module": "@jupyter-widgets/controls",
          "model_name": "ProgressStyleModel",
          "state": {
            "_view_name": "StyleView",
            "_model_name": "ProgressStyleModel",
            "description_width": "",
            "_view_module": "@jupyter-widgets/base",
            "_model_module_version": "1.5.0",
            "_view_count": null,
            "_view_module_version": "1.2.0",
            "bar_color": null,
            "_model_module": "@jupyter-widgets/controls"
          }
        },
        "9d0e6efc3cfa4acab93da0cd313146e9": {
          "model_module": "@jupyter-widgets/base",
          "model_name": "LayoutModel",
          "state": {
            "_view_name": "LayoutView",
            "grid_template_rows": null,
            "right": null,
            "justify_content": null,
            "_view_module": "@jupyter-widgets/base",
            "overflow": null,
            "_model_module_version": "1.2.0",
            "_view_count": null,
            "flex_flow": null,
            "width": null,
            "min_width": null,
            "border": null,
            "align_items": null,
            "bottom": null,
            "_model_module": "@jupyter-widgets/base",
            "top": null,
            "grid_column": null,
            "overflow_y": null,
            "overflow_x": null,
            "grid_auto_flow": null,
            "grid_area": null,
            "grid_template_columns": null,
            "flex": null,
            "_model_name": "LayoutModel",
            "justify_items": null,
            "grid_row": null,
            "max_height": null,
            "align_content": null,
            "visibility": null,
            "align_self": null,
            "height": null,
            "min_height": null,
            "padding": null,
            "grid_auto_rows": null,
            "grid_gap": null,
            "max_width": null,
            "order": null,
            "_view_module_version": "1.2.0",
            "grid_template_areas": null,
            "object_position": null,
            "object_fit": null,
            "grid_auto_columns": null,
            "margin": null,
            "display": null,
            "left": null
          }
        },
        "b0331b7d4df94e06a9fd47ba44643072": {
          "model_module": "@jupyter-widgets/controls",
          "model_name": "DescriptionStyleModel",
          "state": {
            "_view_name": "StyleView",
            "_model_name": "DescriptionStyleModel",
            "description_width": "",
            "_view_module": "@jupyter-widgets/base",
            "_model_module_version": "1.5.0",
            "_view_count": null,
            "_view_module_version": "1.2.0",
            "_model_module": "@jupyter-widgets/controls"
          }
        },
        "524295f2994f464893fd7a047871ca71": {
          "model_module": "@jupyter-widgets/base",
          "model_name": "LayoutModel",
          "state": {
            "_view_name": "LayoutView",
            "grid_template_rows": null,
            "right": null,
            "justify_content": null,
            "_view_module": "@jupyter-widgets/base",
            "overflow": null,
            "_model_module_version": "1.2.0",
            "_view_count": null,
            "flex_flow": null,
            "width": null,
            "min_width": null,
            "border": null,
            "align_items": null,
            "bottom": null,
            "_model_module": "@jupyter-widgets/base",
            "top": null,
            "grid_column": null,
            "overflow_y": null,
            "overflow_x": null,
            "grid_auto_flow": null,
            "grid_area": null,
            "grid_template_columns": null,
            "flex": null,
            "_model_name": "LayoutModel",
            "justify_items": null,
            "grid_row": null,
            "max_height": null,
            "align_content": null,
            "visibility": null,
            "align_self": null,
            "height": null,
            "min_height": null,
            "padding": null,
            "grid_auto_rows": null,
            "grid_gap": null,
            "max_width": null,
            "order": null,
            "_view_module_version": "1.2.0",
            "grid_template_areas": null,
            "object_position": null,
            "object_fit": null,
            "grid_auto_columns": null,
            "margin": null,
            "display": null,
            "left": null
          }
        },
        "b8697957469b44629196bcd7c0f35c5e": {
          "model_module": "@jupyter-widgets/controls",
          "model_name": "HBoxModel",
          "state": {
            "_view_name": "HBoxView",
            "_dom_classes": [],
            "_model_name": "HBoxModel",
            "_view_module": "@jupyter-widgets/controls",
            "_model_module_version": "1.5.0",
            "_view_count": null,
            "_view_module_version": "1.5.0",
            "box_style": "",
            "layout": "IPY_MODEL_98d5a6cb474d41d7b23d190b755c8ffc",
            "_model_module": "@jupyter-widgets/controls",
            "children": [
              "IPY_MODEL_ce2bc9f5635a472abc0ad6bf9743259f",
              "IPY_MODEL_4c8f9819ead544ce9c4a01531a671170"
            ]
          }
        },
        "98d5a6cb474d41d7b23d190b755c8ffc": {
          "model_module": "@jupyter-widgets/base",
          "model_name": "LayoutModel",
          "state": {
            "_view_name": "LayoutView",
            "grid_template_rows": null,
            "right": null,
            "justify_content": null,
            "_view_module": "@jupyter-widgets/base",
            "overflow": null,
            "_model_module_version": "1.2.0",
            "_view_count": null,
            "flex_flow": null,
            "width": null,
            "min_width": null,
            "border": null,
            "align_items": null,
            "bottom": null,
            "_model_module": "@jupyter-widgets/base",
            "top": null,
            "grid_column": null,
            "overflow_y": null,
            "overflow_x": null,
            "grid_auto_flow": null,
            "grid_area": null,
            "grid_template_columns": null,
            "flex": null,
            "_model_name": "LayoutModel",
            "justify_items": null,
            "grid_row": null,
            "max_height": null,
            "align_content": null,
            "visibility": null,
            "align_self": null,
            "height": null,
            "min_height": null,
            "padding": null,
            "grid_auto_rows": null,
            "grid_gap": null,
            "max_width": null,
            "order": null,
            "_view_module_version": "1.2.0",
            "grid_template_areas": null,
            "object_position": null,
            "object_fit": null,
            "grid_auto_columns": null,
            "margin": null,
            "display": null,
            "left": null
          }
        },
        "ce2bc9f5635a472abc0ad6bf9743259f": {
          "model_module": "@jupyter-widgets/controls",
          "model_name": "IntProgressModel",
          "state": {
            "_view_name": "ProgressView",
            "style": "IPY_MODEL_a6f990f8b3d041eb917663082fc6d9e1",
            "_dom_classes": [],
            "description": "",
            "_model_name": "IntProgressModel",
            "bar_style": "success",
            "max": 20,
            "_view_module": "@jupyter-widgets/controls",
            "_model_module_version": "1.5.0",
            "value": 20,
            "_view_count": null,
            "_view_module_version": "1.5.0",
            "orientation": "horizontal",
            "min": 0,
            "description_tooltip": null,
            "_model_module": "@jupyter-widgets/controls",
            "layout": "IPY_MODEL_04c1e399a61a41829479f79b35f8424e"
          }
        },
        "4c8f9819ead544ce9c4a01531a671170": {
          "model_module": "@jupyter-widgets/controls",
          "model_name": "HTMLModel",
          "state": {
            "_view_name": "HTMLView",
            "style": "IPY_MODEL_3003dab3d69345a18b638cbf42b28f1e",
            "_dom_classes": [],
            "description": "",
            "_model_name": "HTMLModel",
            "placeholder": "​",
            "_view_module": "@jupyter-widgets/controls",
            "_model_module_version": "1.5.0",
            "value": "100% 20/20 [01:39&lt;00:00,  4.05s/it]",
            "_view_count": null,
            "_view_module_version": "1.5.0",
            "description_tooltip": null,
            "_model_module": "@jupyter-widgets/controls",
            "layout": "IPY_MODEL_06f0b11a4f294090a7d8b619cbbe339c"
          }
        },
        "a6f990f8b3d041eb917663082fc6d9e1": {
          "model_module": "@jupyter-widgets/controls",
          "model_name": "ProgressStyleModel",
          "state": {
            "_view_name": "StyleView",
            "_model_name": "ProgressStyleModel",
            "description_width": "",
            "_view_module": "@jupyter-widgets/base",
            "_model_module_version": "1.5.0",
            "_view_count": null,
            "_view_module_version": "1.2.0",
            "bar_color": null,
            "_model_module": "@jupyter-widgets/controls"
          }
        },
        "04c1e399a61a41829479f79b35f8424e": {
          "model_module": "@jupyter-widgets/base",
          "model_name": "LayoutModel",
          "state": {
            "_view_name": "LayoutView",
            "grid_template_rows": null,
            "right": null,
            "justify_content": null,
            "_view_module": "@jupyter-widgets/base",
            "overflow": null,
            "_model_module_version": "1.2.0",
            "_view_count": null,
            "flex_flow": null,
            "width": null,
            "min_width": null,
            "border": null,
            "align_items": null,
            "bottom": null,
            "_model_module": "@jupyter-widgets/base",
            "top": null,
            "grid_column": null,
            "overflow_y": null,
            "overflow_x": null,
            "grid_auto_flow": null,
            "grid_area": null,
            "grid_template_columns": null,
            "flex": null,
            "_model_name": "LayoutModel",
            "justify_items": null,
            "grid_row": null,
            "max_height": null,
            "align_content": null,
            "visibility": null,
            "align_self": null,
            "height": null,
            "min_height": null,
            "padding": null,
            "grid_auto_rows": null,
            "grid_gap": null,
            "max_width": null,
            "order": null,
            "_view_module_version": "1.2.0",
            "grid_template_areas": null,
            "object_position": null,
            "object_fit": null,
            "grid_auto_columns": null,
            "margin": null,
            "display": null,
            "left": null
          }
        },
        "3003dab3d69345a18b638cbf42b28f1e": {
          "model_module": "@jupyter-widgets/controls",
          "model_name": "DescriptionStyleModel",
          "state": {
            "_view_name": "StyleView",
            "_model_name": "DescriptionStyleModel",
            "description_width": "",
            "_view_module": "@jupyter-widgets/base",
            "_model_module_version": "1.5.0",
            "_view_count": null,
            "_view_module_version": "1.2.0",
            "_model_module": "@jupyter-widgets/controls"
          }
        },
        "06f0b11a4f294090a7d8b619cbbe339c": {
          "model_module": "@jupyter-widgets/base",
          "model_name": "LayoutModel",
          "state": {
            "_view_name": "LayoutView",
            "grid_template_rows": null,
            "right": null,
            "justify_content": null,
            "_view_module": "@jupyter-widgets/base",
            "overflow": null,
            "_model_module_version": "1.2.0",
            "_view_count": null,
            "flex_flow": null,
            "width": null,
            "min_width": null,
            "border": null,
            "align_items": null,
            "bottom": null,
            "_model_module": "@jupyter-widgets/base",
            "top": null,
            "grid_column": null,
            "overflow_y": null,
            "overflow_x": null,
            "grid_auto_flow": null,
            "grid_area": null,
            "grid_template_columns": null,
            "flex": null,
            "_model_name": "LayoutModel",
            "justify_items": null,
            "grid_row": null,
            "max_height": null,
            "align_content": null,
            "visibility": null,
            "align_self": null,
            "height": null,
            "min_height": null,
            "padding": null,
            "grid_auto_rows": null,
            "grid_gap": null,
            "max_width": null,
            "order": null,
            "_view_module_version": "1.2.0",
            "grid_template_areas": null,
            "object_position": null,
            "object_fit": null,
            "grid_auto_columns": null,
            "margin": null,
            "display": null,
            "left": null
          }
        }
      }
    }
  },
  "cells": [
    {
      "cell_type": "code",
      "metadata": {
        "ExecuteTime": {
          "end_time": "2019-12-04T23:52:59.488086Z",
          "start_time": "2019-12-04T23:52:59.485545Z"
        },
        "id": "1aGKGhNkAkzX",
        "colab_type": "code",
        "colab": {}
      },
      "source": [
        "# !pip install cupy-cuda100 -user"
      ],
      "execution_count": 0,
      "outputs": []
    },
    {
      "cell_type": "code",
      "metadata": {
        "ExecuteTime": {
          "end_time": "2019-12-04T23:52:59.926352Z",
          "start_time": "2019-12-04T23:52:59.504838Z"
        },
        "id": "xHAuBM9sAkzg",
        "colab_type": "code",
        "outputId": "1e8b8234-b676-46d0-fc63-7ea0c97d47a5",
        "colab": {
          "base_uri": "https://localhost:8080/",
          "height": 51
        }
      },
      "source": [
        "import cupy as cp\n",
        "import numpy as np\n",
        "import matplotlib.pyplot as plt\n",
        "import tqdm\n",
        "%config Completer.use_jedi=False"
      ],
      "execution_count": 0,
      "outputs": [
        {
          "output_type": "stream",
          "text": [
            "/usr/local/lib/python3.6/dist-packages/ipykernel_launcher.py:5: UserWarning: Config option `use_jedi` not recognized by `IPCompleter`.\n",
            "  \"\"\"\n"
          ],
          "name": "stderr"
        }
      ]
    },
    {
      "cell_type": "markdown",
      "metadata": {
        "id": "WgxUyKV8Akzl",
        "colab_type": "text"
      },
      "source": [
        "# [High performance with <u><i><strong>CUDA</strong></i></u>](https://cupy.chainer.org/)\n",
        "<u><i><strong>CuPy</strong></i></u> is an open-source matrix library accelerated with <u><i><strong>NVIDIA CUDA</strong></i></u>. <u><i><strong>CuPy</strong></i></u> provides GPU accelerated computing with Python. CuPy uses CUDA-related libraries including <u><i><strong>cuBLAS</strong></i></u>, <u><i><strong>cuDNN</strong></i></u>, <u><i><strong>cuRand</strong></i></u>, <u><i><strong>cuSolver</strong></i></u>, <u><i><strong>cuSPARSE</strong></i></u>, <u><i><strong>cuFFT</strong></i></u> and <u><i><strong>NCCL</strong></i></u> to make full use of the <u><i><strong>GPU</strong></i></u> architecture.\n",
        "The figure shows <u><i><strong>CuPy</strong></i></u> speedup over NumPy. Most of them perform well on a <u><i><strong>GPU</strong></i></u> using CuPy out of the box. <u><i><strong>CuPy</strong></i></u> speeds up some operations more than 100X. You can read original benchmark article in [Single-<u><i><strong>GPU</strong></i></u> <u><i><strong>CuPy</strong></i></u> Speedups (RAPIDS AI)](https://medium.com/rapids-ai/single-gpu-cupy-speedups-ea99cbbb0cbb).\n",
        "\n",
        "![CuPy speedup over NumPy](CuPy_Performance.png)"
      ]
    },
    {
      "cell_type": "markdown",
      "metadata": {
        "id": "zKG-DzwvAkzm",
        "colab_type": "text"
      },
      "source": [
        "# [Highly compatible with <u><i><strong>NumPy</strong></i></u>](https://cupy.chainer.org/)\n",
        "<u><i><strong>CuPy</strong></i></u>'s interface is highly compatible with <u><i><strong>NumPy</strong></i></u>; in most cases it can be used as a <strong><i><u>drop-in replacement</u></i></strong>. <i><u>All you need to do</u></i> is just <strong><i><u>replace numpy with cupy</u></i></strong> in your Python code. [Basics of <u><i><strong>CuPy</strong></i></u> (Tutorial)](https://docs-cupy.chainer.org/en/stable/tutorial/basic.html) is usefull to learn first step of <u><i><strong>CuPy</strong></i></u>.\n",
        "<u><i><strong>CuPy</strong></i></u> supports various methods, indexing, data types, broadcasting and more. [Comparison Table (Reference Manual)](https://docs-cupy.chainer.org/en/stable/reference/comparison.html) shows a list of NumPy / <u><i><strong>SciPy</strong></i></u> APIs and its corresponding <u><i><strong>CuPy</strong></i></u> implementations."
      ]
    },
    {
      "cell_type": "code",
      "metadata": {
        "ExecuteTime": {
          "end_time": "2019-12-04T21:36:38.064131Z",
          "start_time": "2019-12-04T21:36:38.056877Z"
        },
        "id": "ejRQKLUEAkzo",
        "colab_type": "code",
        "outputId": "43dfd9ee-6ac7-4dba-8c79-3e5f8e462738",
        "colab": {
          "base_uri": "https://localhost:8080/",
          "height": 102
        }
      },
      "source": [
        "x = cp.arange(6).reshape(2, 3).astype('f')\n",
        "print(\"x =\\n\", x)\n",
        "\n",
        "sum_result = x.sum(axis=1)\n",
        "print(\"\\nsum = \",sum_result)"
      ],
      "execution_count": 0,
      "outputs": [
        {
          "output_type": "stream",
          "text": [
            "x =\n",
            " [[0. 1. 2.]\n",
            " [3. 4. 5.]]\n",
            "\n",
            "sum =  [ 3. 12.]\n"
          ],
          "name": "stdout"
        }
      ]
    },
    {
      "cell_type": "markdown",
      "metadata": {
        "id": "VgYMO6ckAkzu",
        "colab_type": "text"
      },
      "source": [
        "# [Easy to write a custom kernel](https://cupy.chainer.org/)\n",
        "You can easily make a custom <u><i><strong>CUDA</strong></i></u> kernel if you want to make your code run faster, requiring only a small code snippet of <u><i><strong>C++</strong></i></u>. <u><i><strong>CuPy</strong></i></u> automatically wraps and compiles it to make a <u><i><strong>CUDA</strong></i></u> binary. Compiled binaries are cached and reused in subsequent runs. Please read [User-Defined Kernels (Tutorial)](https://docs-cupy.chainer.org/en/latest/tutorial/kernel.html).\n",
        "And, you can also use raw <u><i><strong>CUDA</strong></i></u> kernel via [Raw modules (Tutorial)](https://docs-cupy.chainer.org/en/latest/tutorial/kernel.html#raw-modules).\n"
      ]
    },
    {
      "cell_type": "code",
      "metadata": {
        "ExecuteTime": {
          "end_time": "2019-12-04T21:36:38.910355Z",
          "start_time": "2019-12-04T21:36:38.900822Z"
        },
        "id": "YsgqMowqAkzw",
        "colab_type": "code",
        "outputId": "49756591-ea21-49ac-f8e6-5c68ba5f5a78",
        "colab": {}
      },
      "source": [
        "x=cp.arange(6, dtype='f').reshape(2, 3)\n",
        "y=cp.arange(3, dtype='f')\n",
        "kernel=cp.ElementwiseKernel(\n",
        "    'float32 x,float32 y','float32 z',\n",
        "        '''if(x-2>y){\n",
        "        z=x*y;\n",
        "        }else{\n",
        "        z=x+y;\n",
        "        }''',\n",
        "    'my_kernel')\n",
        "\n",
        "print(\"Input x = \\n\", x)\n",
        "print(\"\\nInput y = \\n\", y)\n",
        "\n",
        "result = kernel(x, y)\n",
        "\n",
        "print(\"\\nresult of the kernel =\\n\", result)"
      ],
      "execution_count": 0,
      "outputs": [
        {
          "output_type": "stream",
          "text": [
            "Input x = \n",
            " [[0. 1. 2.]\n",
            " [3. 4. 5.]]\n",
            "\n",
            "Input y = \n",
            " [0. 1. 2.]\n",
            "\n",
            "result of the kernel =\n",
            " [[ 0.  2.  4.]\n",
            " [ 0.  4. 10.]]\n"
          ],
          "name": "stdout"
        }
      ]
    },
    {
      "cell_type": "markdown",
      "metadata": {
        "id": "mCUZc-aTAkz1",
        "colab_type": "text"
      },
      "source": [
        "## Task 10. Saxpy\n",
        "\n",
        "By using <u><i><strong>CuPy</strong></i></u>, implement SAXPY function. The function is described in the picture.\n",
        "\n",
        "![saxpy](saxpy.jpg)"
      ]
    },
    {
      "cell_type": "code",
      "metadata": {
        "ExecuteTime": {
          "end_time": "2019-12-04T21:36:40.299114Z",
          "start_time": "2019-12-04T21:36:40.297092Z"
        },
        "id": "P382xz9CAkz2",
        "colab_type": "code",
        "colab": {}
      },
      "source": [
        "# Cupy uses GPU to perform computation. How is transfer is handled?"
      ],
      "execution_count": 0,
      "outputs": []
    },
    {
      "cell_type": "code",
      "metadata": {
        "ExecuteTime": {
          "end_time": "2019-12-04T21:36:40.759044Z",
          "start_time": "2019-12-04T21:36:40.756459Z"
        },
        "id": "IoK1IyiMAkz7",
        "colab_type": "code",
        "colab": {}
      },
      "source": [
        "def np_saxpy(x, y, a):\n",
        "    return x*a + y\n",
        "\n",
        "@cp.fuse()\n",
        "def cp_saxpy(x, y, a):\n",
        "    return x*a + y"
      ],
      "execution_count": 0,
      "outputs": []
    },
    {
      "cell_type": "code",
      "metadata": {
        "id": "oCxfc6LHAk0A",
        "colab_type": "code",
        "colab": {}
      },
      "source": [
        ""
      ],
      "execution_count": 0,
      "outputs": []
    },
    {
      "cell_type": "code",
      "metadata": {
        "ExecuteTime": {
          "end_time": "2019-12-04T21:39:05.301457Z",
          "start_time": "2019-12-04T21:36:42.963068Z"
        },
        "id": "e_xxqzYuAk0E",
        "colab_type": "code",
        "outputId": "0a32ff0d-ca81-4e94-9191-3e3f44b18199",
        "colab": {
          "referenced_widgets": [
            "1ee28fc326a34292a8012e96468a1f61"
          ]
        }
      },
      "source": [
        "np_res = []\n",
        "for s in tqdm.tqdm_notebook(np.logspace(2, 4, 20)):\n",
        "    s = int(s)\n",
        "    np_x, np_y, np_a = np.random.rand(s,s).astype(np.float32), np.random.rand(s,s).astype(np.float32), np.float32(4.5)\n",
        "    t = %timeit -o -q np_saxpy(np_x, np_y, np_a);\n",
        "    np_res.append(t)"
      ],
      "execution_count": 0,
      "outputs": [
        {
          "output_type": "display_data",
          "data": {
            "application/vnd.jupyter.widget-view+json": {
              "model_id": "1ee28fc326a34292a8012e96468a1f61",
              "version_major": 2,
              "version_minor": 0
            },
            "text/plain": [
              "HBox(children=(IntProgress(value=0, max=20), HTML(value='')))"
            ]
          },
          "metadata": {
            "tags": []
          }
        },
        {
          "output_type": "stream",
          "text": [
            "\n"
          ],
          "name": "stdout"
        }
      ]
    },
    {
      "cell_type": "code",
      "metadata": {
        "ExecuteTime": {
          "end_time": "2019-12-04T21:43:25.289678Z",
          "start_time": "2019-12-04T21:40:28.337490Z"
        },
        "id": "bFHA4xvHAk0J",
        "colab_type": "code",
        "outputId": "7396b029-cbad-4864-bda7-09ad467c1cd7",
        "colab": {
          "referenced_widgets": [
            "0f234b6d12c04077ac740ea63297c9ed"
          ]
        }
      },
      "source": [
        "cp_res = []\n",
        "for s in tqdm.tqdm_notebook(np.logspace(2, 4, 20)):\n",
        "    s = int(s)\n",
        "    cp_x, cp_y, cp_a = cp.random.rand(s,s,dtype='f'), cp.random.rand(s,s, dtype='f'), cp.float32(4.5)\n",
        "    t = %timeit -q -o cp_saxpy(cp_x, cp_y, cp_a);\n",
        "    cp_res.append(t)"
      ],
      "execution_count": 0,
      "outputs": [
        {
          "output_type": "display_data",
          "data": {
            "application/vnd.jupyter.widget-view+json": {
              "model_id": "0f234b6d12c04077ac740ea63297c9ed",
              "version_major": 2,
              "version_minor": 0
            },
            "text/plain": [
              "HBox(children=(IntProgress(value=0, max=20), HTML(value='')))"
            ]
          },
          "metadata": {
            "tags": []
          }
        },
        {
          "output_type": "stream",
          "text": [
            "\n"
          ],
          "name": "stdout"
        }
      ]
    },
    {
      "cell_type": "code",
      "metadata": {
        "ExecuteTime": {
          "end_time": "2019-12-04T21:47:01.715342Z",
          "start_time": "2019-12-04T21:47:01.243993Z"
        },
        "id": "XsO_XtGdAk0O",
        "colab_type": "code",
        "outputId": "2fc01857-51af-45a8-ea64-fd375da259fa",
        "colab": {}
      },
      "source": [
        "plt.figure(figsize=(10,6))\n",
        "plt.plot(np.logspace(2, 4, 20), [i.average for i in np_res])\n",
        "plt.plot(np.logspace(2, 4, 20), [i.average for i in cp_res])\n",
        "plt.title('SAXPY')\n",
        "plt.yscale('log')\n",
        "plt.xlabel('Array size')\n",
        "plt.ylabel('Time ms')\n",
        "plt.legend(['numpy', 'cupy']);"
      ],
      "execution_count": 0,
      "outputs": [
        {
          "output_type": "display_data",
          "data": {
            "image/png": "[encoded data removed]",
            "text/plain": [
              "<Figure size 720x432 with 1 Axes>"
            ]
          },
          "metadata": {
            "tags": [],
            "needs_background": "light"
          }
        }
      ]
    },
    {
      "cell_type": "markdown",
      "metadata": {
        "id": "oe1nIS4DAk0S",
        "colab_type": "text"
      },
      "source": [
        "## Task 11. CuPy-based Bifurcation map\n",
        "\n",
        "By using <u><i><strong>CuPy</strong></i></u>, reimplement bifurcation map (Task 1)."
      ]
    },
    {
      "cell_type": "code",
      "metadata": {
        "ExecuteTime": {
          "end_time": "2019-12-04T23:42:27.000418Z",
          "start_time": "2019-12-04T23:42:26.997527Z"
        },
        "id": "Orkt6ywGAk0U",
        "colab_type": "code",
        "colab": {}
      },
      "source": [
        "def np_fun(r, x):\n",
        "    res = r*x*(1-x)\n",
        "    return res\n",
        "\n",
        "@cp.fuse()\n",
        "def cp_fun(r, x):\n",
        "    res = r*x*(1-x)\n",
        "    return res"
      ],
      "execution_count": 0,
      "outputs": []
    },
    {
      "cell_type": "code",
      "metadata": {
        "ExecuteTime": {
          "end_time": "2019-12-04T23:42:30.293700Z",
          "start_time": "2019-12-04T23:42:28.781063Z"
        },
        "id": "AmKGcU6qAk0Y",
        "colab_type": "code",
        "colab": {}
      },
      "source": [
        "s = int(1e8)\n",
        "np_r = np.linspace(0, 4, s, dtype='float32')\n",
        "cp_r = cp.linspace(0, 4, s, dtype='float32')\n",
        "x = np.random.rand()\n",
        "cp_x = cp.float32(x)"
      ],
      "execution_count": 0,
      "outputs": []
    },
    {
      "cell_type": "code",
      "metadata": {
        "ExecuteTime": {
          "end_time": "2019-12-04T22:09:35.992403Z",
          "start_time": "2019-12-04T22:09:20.213383Z"
        },
        "id": "UKngX1XkAk0d",
        "colab_type": "code",
        "outputId": "93d05bca-3f01-4ab2-ad32-f2a243a44827",
        "colab": {
          "base_uri": "https://localhost:8080/",
          "height": 34
        }
      },
      "source": [
        "%timeit np_fun(np_r, x);"
      ],
      "execution_count": 0,
      "outputs": [
        {
          "output_type": "stream",
          "text": [
            "10 loops, best of 3: 166 ms per loop\n"
          ],
          "name": "stdout"
        }
      ]
    },
    {
      "cell_type": "code",
      "metadata": {
        "ExecuteTime": {
          "end_time": "2019-12-04T22:09:38.243579Z",
          "start_time": "2019-12-04T22:09:35.994578Z"
        },
        "id": "vYDjrbq1Ak0h",
        "colab_type": "code",
        "outputId": "1bb1419d-6782-4f14-e458-4212374acc06",
        "colab": {
          "base_uri": "https://localhost:8080/",
          "height": 34
        }
      },
      "source": [
        "%timeit cp_fun(np_r, x);"
      ],
      "execution_count": 0,
      "outputs": [
        {
          "output_type": "stream",
          "text": [
            "10 loops, best of 3: 163 ms per loop\n"
          ],
          "name": "stdout"
        }
      ]
    },
    {
      "cell_type": "code",
      "metadata": {
        "ExecuteTime": {
          "end_time": "2019-12-04T22:09:56.369342Z",
          "start_time": "2019-12-04T22:09:38.245865Z"
        },
        "id": "6YNY0HqyAk0m",
        "colab_type": "code",
        "outputId": "bda96a1e-c8f1-45b0-fe8f-6cde3e8f31ca",
        "colab": {
          "base_uri": "https://localhost:8080/",
          "height": 34
        }
      },
      "source": [
        "%timeit cp_fun(cp_r, x);"
      ],
      "execution_count": 0,
      "outputs": [
        {
          "output_type": "stream",
          "text": [
            "1000 loops, best of 3: 5.79 ms per loop\n"
          ],
          "name": "stdout"
        }
      ]
    },
    {
      "cell_type": "code",
      "metadata": {
        "ExecuteTime": {
          "end_time": "2019-12-04T22:14:27.950427Z",
          "start_time": "2019-12-04T22:14:27.693088Z"
        },
        "id": "1uTBQ2ZqAk0q",
        "colab_type": "code",
        "outputId": "b41a655a-2f0a-408f-8528-93eb2d8bbe4e",
        "colab": {
          "base_uri": "https://localhost:8080/",
          "height": 204
        }
      },
      "source": [
        "s = %prun -r np_fun(np_r, x)\n",
        "s.print_stats();"
      ],
      "execution_count": 0,
      "outputs": [
        {
          "output_type": "stream",
          "text": [
            "          4 function calls in 0.171 seconds\n",
            "\n",
            "   Ordered by: internal time\n",
            "\n",
            "   ncalls  tottime  percall  cumtime  percall filename:lineno(function)\n",
            "        1    0.171    0.171    0.171    0.171 <ipython-input-15-1736a7abcc20>:1(np_fun)\n",
            "        1    0.000    0.000    0.171    0.171 <string>:1(<module>)\n",
            "        1    0.000    0.000    0.171    0.171 {built-in method builtins.exec}\n",
            "        1    0.000    0.000    0.000    0.000 {method 'disable' of '_lsprof.Profiler' objects}\n",
            "\n",
            "\n"
          ],
          "name": "stdout"
        }
      ]
    },
    {
      "cell_type": "code",
      "metadata": {
        "ExecuteTime": {
          "end_time": "2019-12-04T22:14:30.226641Z",
          "start_time": "2019-12-04T22:14:30.199613Z"
        },
        "id": "mO_XLpqOAk0v",
        "colab_type": "code",
        "outputId": "c1696668-495f-40cf-a265-75772054b473",
        "colab": {
          "base_uri": "https://localhost:8080/",
          "height": 187
        }
      },
      "source": [
        "s = %prun -r cp_fun(cp_r, x)\n",
        "s.print_stats();"
      ],
      "execution_count": 0,
      "outputs": [
        {
          "output_type": "stream",
          "text": [
            "          3 function calls in 0.001 seconds\n",
            "\n",
            "   Ordered by: internal time\n",
            "\n",
            "   ncalls  tottime  percall  cumtime  percall filename:lineno(function)\n",
            "        1    0.001    0.001    0.001    0.001 <string>:1(<module>)\n",
            "        1    0.000    0.000    0.001    0.001 {built-in method builtins.exec}\n",
            "        1    0.000    0.000    0.000    0.000 {method 'disable' of '_lsprof.Profiler' objects}\n",
            "\n",
            "\n"
          ],
          "name": "stdout"
        }
      ]
    },
    {
      "cell_type": "code",
      "metadata": {
        "id": "n_nH-uWmAk00",
        "colab_type": "code",
        "outputId": "990a8983-31c9-4880-8148-e900d9ca44f4",
        "colab": {
          "base_uri": "https://localhost:8080/",
          "height": 66,
          "referenced_widgets": [
            "89f28435ad3f4eb6a11298cc73c69a4e",
            "d25668612d2048f4acf960e44fecd925",
            "3241add6817b451ab4c62e0a6fb3778e",
            "7ea9c944bddd48d68ef9a4a54485c894",
            "02fe30ede2bd441883779d179d193b74",
            "9d0e6efc3cfa4acab93da0cd313146e9",
            "b0331b7d4df94e06a9fd47ba44643072",
            "524295f2994f464893fd7a047871ca71"
          ]
        }
      },
      "source": [
        "np_res = []\n",
        "for s in tqdm.tqdm_notebook(np.logspace(2, 7, 20)):\n",
        "    s = int(s)\n",
        "    np_r, np_x = np.linspace(0, 4, s).astype(np.float32), np.random.rand(s).astype(np.float32)\n",
        "    t = %timeit -o -q np_fun(np_r, np_x)\n",
        "    np_res.append(t)"
      ],
      "execution_count": 0,
      "outputs": [
        {
          "output_type": "display_data",
          "data": {
            "application/vnd.jupyter.widget-view+json": {
              "model_id": "89f28435ad3f4eb6a11298cc73c69a4e",
              "version_minor": 0,
              "version_major": 2
            },
            "text/plain": [
              "HBox(children=(IntProgress(value=0, max=20), HTML(value='')))"
            ]
          },
          "metadata": {
            "tags": []
          }
        },
        {
          "output_type": "stream",
          "text": [
            "\n"
          ],
          "name": "stdout"
        }
      ]
    },
    {
      "cell_type": "code",
      "metadata": {
        "id": "e4LmLp9jCgGm",
        "colab_type": "code",
        "outputId": "94cd1a3f-1cc1-49b0-d300-6298088bb996",
        "colab": {
          "base_uri": "https://localhost:8080/",
          "height": 66,
          "referenced_widgets": [
            "b8697957469b44629196bcd7c0f35c5e",
            "98d5a6cb474d41d7b23d190b755c8ffc",
            "ce2bc9f5635a472abc0ad6bf9743259f",
            "4c8f9819ead544ce9c4a01531a671170",
            "a6f990f8b3d041eb917663082fc6d9e1",
            "04c1e399a61a41829479f79b35f8424e",
            "3003dab3d69345a18b638cbf42b28f1e",
            "06f0b11a4f294090a7d8b619cbbe339c"
          ]
        }
      },
      "source": [
        "cp_res = []\n",
        "for s in tqdm.tqdm_notebook(np.logspace(2, 7, 20)):\n",
        "    s = int(s)\n",
        "    cp_r, cp_x = cp.linspace(0, 4, s, dtype='f'), cp.random.rand(s, dtype='f')\n",
        "    t = %timeit -o -q cp_fun(cp_r, cp_x)\n",
        "    cp_res.append(t)"
      ],
      "execution_count": 0,
      "outputs": [
        {
          "output_type": "display_data",
          "data": {
            "application/vnd.jupyter.widget-view+json": {
              "model_id": "b8697957469b44629196bcd7c0f35c5e",
              "version_minor": 0,
              "version_major": 2
            },
            "text/plain": [
              "HBox(children=(IntProgress(value=0, max=20), HTML(value='')))"
            ]
          },
          "metadata": {
            "tags": []
          }
        },
        {
          "output_type": "stream",
          "text": [
            "\n"
          ],
          "name": "stdout"
        }
      ]
    },
    {
      "cell_type": "code",
      "metadata": {
        "id": "1fu0Dh0cCwD-",
        "colab_type": "code",
        "outputId": "3942bb91-e67c-46a0-c60a-cf9282343601",
        "colab": {
          "base_uri": "https://localhost:8080/",
          "height": 408
        }
      },
      "source": [
        "plt.figure(figsize=(10,6))\n",
        "plt.plot(np.logspace(2, 7, 20), [i.best for i in np_res])\n",
        "plt.plot(np.logspace(2, 7, 20), [i.best for i in cp_res])\n",
        "plt.title('Bifurcation')\n",
        "plt.yscale('log')\n",
        "plt.xscale('log')\n",
        "plt.xlabel('Array size')\n",
        "plt.ylabel('Time ms')\n",
        "plt.legend(['numpy', 'cupy']);"
      ],
      "execution_count": 0,
      "outputs": [
        {
          "output_type": "display_data",
          "data": {
            "image/png": "[encoded data removed]",
            "text/plain": [
              "<Figure size 720x432 with 1 Axes>"
            ]
          },
          "metadata": {
            "tags": []
          }
        }
      ]
    },
    {
      "cell_type": "markdown",
      "metadata": {
        "id": "IZNtoVK6Ak04",
        "colab_type": "text"
      },
      "source": [
        "## Task 12. Histogram\n",
        "\n",
        "\n",
        "<u>By using <i><strong>CuPy</strong></i>:</u>\n",
        "* Implement the suggested function:\n",
        "$$\n",
        " f(x) = (z^2(x) + z^3(x) - 200 \\,\\, z^4(x) )\\,\\,\\sin(\\,\\,100000\\,\\,(x + 0.5)\\,\\,),\n",
        " \\\\\n",
        " \\text{where    }\\:\\:\\: z(x) = \\sin(3\\,\\,x)-0.5\n",
        "$$\n",
        "* Plot function on the $x$ interval $[0,\\,\\, 1]$. Number of points = 10000000.\n",
        "* Get minimal and maximal values of function on the interval $[0,\\,\\, 1]$: $f_{min}$ and $f_{max}$.\n",
        "* Divide $y=f(x), \\: (x \\in [0,\\,\\, 1]) \\:$ interval $[f_{min}, f_{max}]$ into $10$ $y=f(x)$ subintervals of length $\\delta$ equal to $0.1 \\,\\, (f_{max}-f_{min})$: $[f_{min},\\,\\, f_{min} + \\delta],\\,\\, [f_{min}+ \\delta,\\,\\, f_{min} + 2 \\,\\, \\delta],\\,\\, \\dots,\\,\\, [f_{max}- \\delta,\\,\\, f_{max}]$.\n",
        "* Compute number of $y=f(x), \\: (x \\in [0,\\,\\, 1]) \\:$ values in each subinterval. Use $\\operatorname{cp.sum(\\dots)}$\n",
        "* Plot histogram. <strong>[Hint: how to represent the histogram](https://cdn.datamentor.io/wp-content/uploads/2017/11/r-histogram.png)</strong>\n",
        "\n",
        "<strong >Hint about function $f(x)$ appearance:</strong>\n",
        "    ![Hint](Hint.png)"
      ]
    },
    {
      "cell_type": "code",
      "metadata": {
        "ExecuteTime": {
          "end_time": "2019-12-05T00:45:21.912331Z",
          "start_time": "2019-12-05T00:45:21.861173Z"
        },
        "id": "VExxacz5Ak05",
        "colab_type": "code",
        "outputId": "9aa6a0c8-a8ea-4093-efea-4cf517c0a60e",
        "colab": {}
      },
      "source": [
        "@cp.fuse()\n",
        "def z(x):\n",
        "    return cp.sin(3*x) - 0.5\n",
        "\n",
        "@cp.fuse()\n",
        "def f(x):\n",
        "    return (cp.power(z(x),2)+cp.power(z(x),3)-200*cp.power(z(x),4))*cp.sin(1e5*(x+0.5))\n",
        "\n",
        "x = cp.linspace(0,1, int(1e7))\n",
        "y = f(x)\n",
        "f_min = y.min()\n",
        "f_max = y.max()\n",
        "delta = 0.1 * (f_max - f_min)\n",
        "print('Min: {}. Max {}.'.format(f_min, f_max))"
      ],
      "execution_count": 0,
      "outputs": [
        {
          "output_type": "stream",
          "text": [
            "Min: -12.365544666168107. Max 12.374912294071224.\n"
          ],
          "name": "stdout"
        }
      ]
    },
    {
      "cell_type": "code",
      "metadata": {
        "ExecuteTime": {
          "end_time": "2019-12-05T00:46:35.242042Z",
          "start_time": "2019-12-05T00:46:34.493776Z"
        },
        "id": "kW3-6nkFAk1C",
        "colab_type": "code",
        "outputId": "0b9440cf-9e44-4fe8-ce0e-df628fad5dc8",
        "colab": {}
      },
      "source": [
        "plt.figure(figsize=(15, 8))\n",
        "plt.plot(x.tolist()[::10000], y.tolist()[::10000]);\n",
        "plt.hlines([np.float(f_min + i*delta) for i in range(11)], 0, 1, linestyles='dashed')"
      ],
      "execution_count": 0,
      "outputs": [
        {
          "output_type": "execute_result",
          "data": {
            "text/plain": [
              "<matplotlib.collections.LineCollection at 0x7fb90869c7b8>"
            ]
          },
          "metadata": {
            "tags": []
          },
          "execution_count": 49
        },
        {
          "output_type": "display_data",
          "data": {
            "image/png": "[encoded data removed]",
            "text/plain": [
              "<Figure size 1080x576 with 1 Axes>"
            ]
          },
          "metadata": {
            "tags": [],
            "needs_background": "light"
          }
        }
      ]
    },
    {
      "cell_type": "code",
      "metadata": {
        "ExecuteTime": {
          "end_time": "2019-12-04T23:42:53.797680Z",
          "start_time": "2019-12-04T23:42:39.445460Z"
        },
        "id": "YEAvm5mNAk1H",
        "colab_type": "code",
        "outputId": "7a67ff17-aee4-4106-803d-f0b4047e8de5",
        "colab": {}
      },
      "source": [
        "np_y = cp.asnumpy(y)\n",
        "%timeit y[y>5]\n",
        "%timeit np_y[np_y>5]"
      ],
      "execution_count": 0,
      "outputs": [
        {
          "output_type": "stream",
          "text": [
            "2.95 ms ± 28.6 µs per loop (mean ± std. dev. of 7 runs, 100 loops each)\n",
            "14.5 ms ± 496 µs per loop (mean ± std. dev. of 7 runs, 100 loops each)\n"
          ],
          "name": "stdout"
        }
      ]
    },
    {
      "cell_type": "code",
      "metadata": {
        "ExecuteTime": {
          "end_time": "2019-12-05T00:44:42.239603Z",
          "start_time": "2019-12-05T00:44:42.083900Z"
        },
        "id": "43R79PjCAk1L",
        "colab_type": "code",
        "outputId": "ba2d53a0-a7f6-42bc-827f-60bf8d67b6a1",
        "colab": {}
      },
      "source": [
        "res = []\n",
        "for i in range(10):\n",
        "#     cp.logical_and((f_min + (i+1)*delta) > y, y > (f_min + i*delta))\n",
        "    r = ((f_min + (i+1)*delta) > y) & (y > (f_min + i*delta))\n",
        "    r = cp.sum(r)\n",
        "    res.append(cp.asnumpy(r))\n",
        "res = np.array(res)\n",
        "plt.bar(np.arange(10),res)\n",
        "plt.title('Histogram of sums')\n",
        "plt.xlabel('Bin number')\n",
        "plt.ylabel('Number of points in the bin');"
      ],
      "execution_count": 0,
      "outputs": [
        {
          "output_type": "display_data",
          "data": {
            "image/png": "[encoded data removed]",
            "text/plain": [
              "<Figure size 432x288 with 1 Axes>"
            ]
          },
          "metadata": {
            "tags": [],
            "needs_background": "light"
          }
        }
      ]
    },
    {
      "cell_type": "code",
      "metadata": {
        "ExecuteTime": {
          "end_time": "2019-12-04T23:53:28.195587Z",
          "start_time": "2019-12-04T23:53:28.186883Z"
        },
        "id": "FeIaW4C0Ak1P",
        "colab_type": "code",
        "colab": {}
      },
      "source": [
        "# select points in the interval\n",
        "sub_y = ((f_min + delta) > y) & (y > f_min)\n",
        "np_sub_y = cp.asnumpy(sub_y)"
      ],
      "execution_count": 0,
      "outputs": []
    },
    {
      "cell_type": "code",
      "metadata": {
        "ExecuteTime": {
          "end_time": "2019-12-04T23:55:42.939658Z",
          "start_time": "2019-12-04T23:55:42.922586Z"
        },
        "id": "2_I7rbADAk1T",
        "colab_type": "code",
        "outputId": "db803d1d-6192-4304-9291-bf731ff3b6be",
        "colab": {}
      },
      "source": [
        "%timeit -n 100 cp.sum(sub_y)"
      ],
      "execution_count": 0,
      "outputs": [
        {
          "output_type": "stream",
          "text": [
            "19.4 µs ± 1.8 µs per loop (mean ± std. dev. of 7 runs, 100 loops each)\n"
          ],
          "name": "stdout"
        }
      ]
    },
    {
      "cell_type": "code",
      "metadata": {
        "ExecuteTime": {
          "end_time": "2019-12-04T23:54:23.150612Z",
          "start_time": "2019-12-04T23:54:16.848200Z"
        },
        "id": "hYdNVWYIAk1W",
        "colab_type": "code",
        "outputId": "21e40b19-af15-4dbd-fe79-715db51f7024",
        "colab": {}
      },
      "source": [
        "%timeit -n 100 np.sum(np_sub_y)"
      ],
      "execution_count": 0,
      "outputs": [
        {
          "output_type": "stream",
          "text": [
            "8.99 ms ± 186 µs per loop (mean ± std. dev. of 7 runs, 100 loops each)\n"
          ],
          "name": "stdout"
        }
      ]
    },
    {
      "cell_type": "markdown",
      "metadata": {
        "id": "ieF5UJrlAk1a",
        "colab_type": "text"
      },
      "source": [
        "## Task 13. Image blur\n",
        "\n",
        "\n",
        "<u>By using <i><strong>CuPy</strong></i>:</u>\n",
        "* Implement the gpu version of the image blur algorithm. What you need to do is calculate convolution some image and some blur filter on every pixel. You should compute convolutions in parallel for every pixel using gpu cores.\n",
        "* Take any 100x100 image and \n",
        "\n",
        "<strong >Example of a blurred image:</strong>\n",
        "    ![Blur](blur.jpg)"
      ]
    },
    {
      "cell_type": "code",
      "metadata": {
        "ExecuteTime": {
          "end_time": "2019-12-05T00:52:23.763706Z",
          "start_time": "2019-12-05T00:52:22.719523Z"
        },
        "id": "_EJV0Hq0Ak1b",
        "colab_type": "code",
        "colab": {}
      },
      "source": [
        "#!wget -q https://quintagroup.com/cms/python/images/opencv-logo.png/@@images/image.png\n",
        "from PIL import Image\n",
        "im_s = 100\n",
        "pil_img = Image.open('image.png').resize((im_s,im_s)).convert('L')\n",
        "img = np.array(pil_img)\n",
        "k_hs = 3\n",
        "k_s = 2 * k_hs + 1\n",
        "kernel = np.ones((k_s,k_s))\n",
        "kernel /= kernel.sum()\n",
        "cp_img = cp.array(img)\n",
        "cp_kernel = cp.array(kernel)"
      ],
      "execution_count": 0,
      "outputs": []
    },
    {
      "cell_type": "code",
      "metadata": {
        "id": "b9rnt2PhDc4G",
        "colab_type": "code",
        "colab": {}
      },
      "source": [
        "big_img = np.empty((im_s*im_s, k_s*k_s), dtype='float32')\n",
        "for i in range(k_hs, im_s-k_hs):\n",
        "  for j in range(k_hs, im_s-k_hs):\n",
        "    big_img[i*im_s + j] = img[i-k_hs:i+k_hs+1, j-k_hs:j+k_hs+1].flatten()"
      ],
      "execution_count": 0,
      "outputs": []
    },
    {
      "cell_type": "code",
      "metadata": {
        "ExecuteTime": {
          "end_time": "2019-12-05T00:52:27.425653Z",
          "start_time": "2019-12-05T00:52:23.765585Z"
        },
        "id": "gY0jHqS6Ak1f",
        "colab_type": "code",
        "colab": {}
      },
      "source": [
        "def np_blur_loop(img, kernel, res):\n",
        "    for i in range(k_hs, im_s-k_hs):\n",
        "        for j in range(k_hs, im_s-k_hs):\n",
        "          res[i, j] = (img[i-k_hs:i+k_hs+1, j-k_hs:j+k_hs+1] * kernel).sum()\n",
        "\n",
        "def np_blur(big_img, kernel):\n",
        "  f_kernel = np.ravel(kernel)\n",
        "  res = np.dot(big_img, f_kernel)\n",
        "  return np.reshape(res, (im_s, im_s))\n",
        "\n",
        "np_res = np_blur(big_img, kernel)\n",
        "    "
      ],
      "execution_count": 0,
      "outputs": []
    },
    {
      "cell_type": "code",
      "metadata": {
        "ExecuteTime": {
          "end_time": "2019-12-05T00:52:28.706985Z",
          "start_time": "2019-12-05T00:52:28.687152Z"
        },
        "id": "cN4HRVUuAk1m",
        "colab_type": "code",
        "colab": {}
      },
      "source": [
        "def cp_blur(big_img, kernel):\n",
        "  f_kernel = cp.ravel(kernel)\n",
        "  res = cp.dot(big_img, f_kernel)\n",
        "  return cp.reshape(res, (im_s, im_s))\n",
        "   \n",
        "cp_big_img = cp.array(big_img)          \n",
        "cp_res = cp_blur(cp_big_img, cp_kernel)\n",
        "cp_res = cp.asnumpy(cp_res)"
      ],
      "execution_count": 0,
      "outputs": []
    },
    {
      "cell_type": "code",
      "metadata": {
        "id": "20z5HvVrK5Ef",
        "colab_type": "code",
        "outputId": "02b3ef72-ed91-43a5-fceb-8de4452d1a06",
        "colab": {
          "base_uri": "https://localhost:8080/",
          "height": 51
        }
      },
      "source": [
        "%timeit np_blur(big_img, kernel)"
      ],
      "execution_count": 0,
      "outputs": [
        {
          "output_type": "stream",
          "text": [
            "The slowest run took 7.46 times longer than the fastest. This could mean that an intermediate result is being cached.\n",
            "1000 loops, best of 3: 901 µs per loop\n"
          ],
          "name": "stdout"
        }
      ]
    },
    {
      "cell_type": "code",
      "metadata": {
        "id": "cNt0wqWhK8Q_",
        "colab_type": "code",
        "outputId": "8e180939-95b4-4540-8892-1368c4b38d6c",
        "colab": {
          "base_uri": "https://localhost:8080/",
          "height": 34
        }
      },
      "source": [
        "%timeit -n 100 cp_blur(cp_big_img, cp_kernel)"
      ],
      "execution_count": 0,
      "outputs": [
        {
          "output_type": "stream",
          "text": [
            "100 loops, best of 3: 73.9 µs per loop\n"
          ],
          "name": "stdout"
        }
      ]
    },
    {
      "cell_type": "code",
      "metadata": {
        "ExecuteTime": {
          "end_time": "2019-12-04T22:51:07.478270Z",
          "start_time": "2019-12-04T22:51:07.266654Z"
        },
        "id": "k5H9Q6SfAk1q",
        "colab_type": "code",
        "outputId": "88dc6524-9f65-452e-b6f7-222f0318979a",
        "colab": {
          "base_uri": "https://localhost:8080/",
          "height": 773
        }
      },
      "source": [
        "plt.imshow(img, cmap='gray')\n",
        "plt.show()\n",
        "plt.imshow(np_res.astype(np.uint8), cmap='gray')\n",
        "plt.show()\n",
        "plt.imshow(cp_res.astype(np.uint8), cmap='gray');"
      ],
      "execution_count": 0,
      "outputs": [
        {
          "output_type": "display_data",
          "data": {
            "image/png": "[encoded data removed]",
            "text/plain": [
              "<Figure size 432x288 with 1 Axes>"
            ]
          },
          "metadata": {
            "tags": []
          }
        },
        {
          "output_type": "display_data",
          "data": {
            "image/png": "[encoded data removed]",
            "text/plain": [
              "<Figure size 432x288 with 1 Axes>"
            ]
          },
          "metadata": {
            "tags": []
          }
        },
        {
          "output_type": "display_data",
          "data": {
            "image/png": "[encoded data removed]",
            "text/plain": [
              "<Figure size 432x288 with 1 Axes>"
            ]
          },
          "metadata": {
            "tags": []
          }
        }
      ]
    },
    {
      "cell_type": "code",
      "metadata": {
        "id": "7hOsw2WvAk1u",
        "colab_type": "code",
        "colab": {}
      },
      "source": [
        ""
      ],
      "execution_count": 0,
      "outputs": []
    },
    {
      "cell_type": "code",
      "metadata": {
        "id": "JMtZlMP4Ak1y",
        "colab_type": "code",
        "colab": {}
      },
      "source": [
        ""
      ],
      "execution_count": 0,
      "outputs": []
    }
  ]
}