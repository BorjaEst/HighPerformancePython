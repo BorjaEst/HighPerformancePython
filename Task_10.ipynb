{
  "nbformat": 4,
  "nbformat_minor": 0,
  "metadata": {
    "accelerator": "GPU",
    "colab": {
      "name": "Task_10-13.ipynb",
      "provenance": [],
      "collapsed_sections": []
    },
    "kernelspec": {
      "display_name": "Python 3",
      "language": "python",
      "name": "python3"
    },
    "language_info": {
      "codemirror_mode": {
        "name": "ipython",
        "version": 3
      },
      "file_extension": ".py",
      "mimetype": "text/x-python",
      "name": "python",
      "nbconvert_exporter": "python",
      "pygments_lexer": "ipython3",
      "version": "3.7.5"
    },
    "widgets": {
      "application/vnd.jupyter.widget-state+json": {
        "499fbac9b46a4b388f7d6e8eb5db2c64": {
          "model_module": "@jupyter-widgets/controls",
          "model_name": "HBoxModel",
          "state": {
            "_view_name": "HBoxView",
            "_dom_classes": [],
            "_model_name": "HBoxModel",
            "_view_module": "@jupyter-widgets/controls",
            "_model_module_version": "1.5.0",
            "_view_count": null,
            "_view_module_version": "1.5.0",
            "box_style": "",
            "layout": "IPY_MODEL_127145e8af074d3eb24b61f103ac5081",
            "_model_module": "@jupyter-widgets/controls",
            "children": [
              "IPY_MODEL_bd0e1acf88234446bc9bd86094d70539",
              "IPY_MODEL_b2b64ed68e6b4d4999c826faa0bf4517"
            ]
          }
        }
      }
    }
  },
  "cells": [
    {
      "cell_type": "code",
      "metadata": {
        "ExecuteTime": {
          "end_time": "2019-12-17T22:13:10.198686Z",
          "start_time": "2019-12-17T22:13:09.187006Z"
        },
        "colab_type": "code",
        "id": "1aGKGhNkAkzX",
        "colab": {},
        "outputId": "7c9aab6d-8895-4b6b-e169-8fd1bd8909d8"
      },
      "source": [
        "!pip install cupy-cuda100 -user"
      ],
      "execution_count": 0,
      "outputs": [
        {
          "output_type": "stream",
          "text": [
            "\r\n",
            "Usage:   \r\n",
            "  pip install [options] <requirement specifier> [package-index-options] ...\r\n",
            "  pip install [options] -r <requirements file> [package-index-options] ...\r\n",
            "  pip install [options] [-e] <vcs project url> ...\r\n",
            "  pip install [options] [-e] <local project path> ...\r\n",
            "  pip install [options] <archive url/path> ...\r\n",
            "\r\n",
            "no such option: -u\r\n"
          ],
          "name": "stdout"
        }
      ]
    },
    {
      "cell_type": "markdown",
      "metadata": {
        "id": "xkWn1fClD4wV",
        "colab_type": "text"
      },
      "source": [
        "# Imports"
      ]
    },
    {
      "cell_type": "code",
      "metadata": {
        "ExecuteTime": {
          "end_time": "2019-12-17T22:13:04.277151Z",
          "start_time": "2019-12-17T22:13:04.142616Z"
        },
        "colab_type": "code",
        "id": "xHAuBM9sAkzg",
        "outputId": "b850a175-dfba-4102-d3ec-5fe45ccbe9dc",
        "colab": {
          "base_uri": "https://localhost:8080/",
          "height": 17
        }
      },
      "source": [
        "import cupy as cp\n",
        "import numpy as np\n",
        "import matplotlib.pyplot as plt\n",
        "from tqdm.auto import tqdm\n",
        "\n",
        "# Wider cells\n",
        "from IPython.core.display import display, HTML\n",
        "display(HTML(\"<style>.container { width:95% !important; }</style>\"))\n",
        "\n",
        "# Make sure folder for images exist\n",
        "import os\n",
        "# try:\n",
        "#     os.mkdir('img/task10')\n",
        "# except FileExistsError as err:\n",
        "#     pass\n",
        "\n",
        "# Jupyter magic\n",
        "%reload_ext autoreload\n",
        "%autoreload 2\n",
        "%matplotlib inline\n",
        "\n",
        "# Autocompletion fix\n",
        "# %config Completer.use_jedi=False"
      ],
      "execution_count": 2,
      "outputs": [
        {
          "output_type": "display_data",
          "data": {
            "text/html": [
              "<style>.container { width:95% !important; }</style>"
            ],
            "text/plain": [
              "<IPython.core.display.HTML object>"
            ]
          },
          "metadata": {
            "tags": []
          }
        }
      ]
    },
    {
      "cell_type": "markdown",
      "metadata": {
        "colab_type": "text",
        "heading_collapsed": true,
        "id": "WgxUyKV8Akzl"
      },
      "source": [
        "# [High performance with <u><i><strong>CUDA</strong></i></u>](https://cupy.chainer.org/)\n",
        "<u><i><strong>CuPy</strong></i></u> is an open-source matrix library accelerated with <u><i><strong>NVIDIA CUDA</strong></i></u>. <u><i><strong>CuPy</strong></i></u> provides GPU accelerated computing with Python. CuPy uses CUDA-related libraries including <u><i><strong>cuBLAS</strong></i></u>, <u><i><strong>cuDNN</strong></i></u>, <u><i><strong>cuRand</strong></i></u>, <u><i><strong>cuSolver</strong></i></u>, <u><i><strong>cuSPARSE</strong></i></u>, <u><i><strong>cuFFT</strong></i></u> and <u><i><strong>NCCL</strong></i></u> to make full use of the <u><i><strong>GPU</strong></i></u> architecture.\n",
        "The figure shows <u><i><strong>CuPy</strong></i></u> speedup over NumPy. Most of them perform well on a <u><i><strong>GPU</strong></i></u> using CuPy out of the box. <u><i><strong>CuPy</strong></i></u> speeds up some operations more than 100X. You can read original benchmark article in [Single-<u><i><strong>GPU</strong></i></u> <u><i><strong>CuPy</strong></i></u> Speedups (RAPIDS AI)](https://medium.com/rapids-ai/single-gpu-cupy-speedups-ea99cbbb0cbb).\n",
        "\n",
        "![CuPy speedup over NumPy](https://github.com/zakajd/HighPerformancePython/blob/master/img/misc/CuPy_Performance.png?raw=1)"
      ]
    },
    {
      "cell_type": "markdown",
      "metadata": {
        "colab_type": "text",
        "heading_collapsed": true,
        "id": "zKG-DzwvAkzm"
      },
      "source": [
        "# [Highly compatible with <u><i><strong>NumPy</strong></i></u>](https://cupy.chainer.org/)\n",
        "<u><i><strong>CuPy</strong></i></u>'s interface is highly compatible with <u><i><strong>NumPy</strong></i></u>; in most cases it can be used as a <strong><i><u>drop-in replacement</u></i></strong>. <i><u>All you need to do</u></i> is just <strong><i><u>replace numpy with cupy</u></i></strong> in your Python code. [Basics of <u><i><strong>CuPy</strong></i></u> (Tutorial)](https://docs-cupy.chainer.org/en/stable/tutorial/basic.html) is usefull to learn first step of <u><i><strong>CuPy</strong></i></u>.\n",
        "<u><i><strong>CuPy</strong></i></u> supports various methods, indexing, data types, broadcasting and more. [Comparison Table (Reference Manual)](https://docs-cupy.chainer.org/en/stable/reference/comparison.html) shows a list of NumPy / <u><i><strong>SciPy</strong></i></u> APIs and its corresponding <u><i><strong>CuPy</strong></i></u> implementations."
      ]
    },
    {
      "cell_type": "code",
      "metadata": {
        "ExecuteTime": {
          "end_time": "2019-12-08T15:55:39.918614Z",
          "start_time": "2019-12-08T15:55:39.617683Z"
        },
        "colab_type": "code",
        "hidden": true,
        "id": "ejRQKLUEAkzo",
        "outputId": "f7e809b8-e99c-4aee-b5a1-ae2cd6b0b4e2",
        "colab": {
          "base_uri": "https://localhost:8080/",
          "height": 102
        }
      },
      "source": [
        "x = cp.arange(6).reshape(2, 3).astype('f')\n",
        "print(\"x =\\n\", x)\n",
        "\n",
        "sum_result = x.sum(axis=1)\n",
        "print(\"\\nsum = \",sum_result)"
      ],
      "execution_count": 3,
      "outputs": [
        {
          "output_type": "stream",
          "text": [
            "x =\n",
            " [[0. 1. 2.]\n",
            " [3. 4. 5.]]\n",
            "\n",
            "sum =  [ 3. 12.]\n"
          ],
          "name": "stdout"
        }
      ]
    },
    {
      "cell_type": "markdown",
      "metadata": {
        "colab_type": "text",
        "id": "VgYMO6ckAkzu"
      },
      "source": [
        "# [Easy to write a custom kernel](https://cupy.chainer.org/)\n",
        "You can easily make a custom <u><i><strong>CUDA</strong></i></u> kernel if you want to make your code run faster, requiring only a small code snippet of <u><i><strong>C++</strong></i></u>. <u><i><strong>CuPy</strong></i></u> automatically wraps and compiles it to make a <u><i><strong>CUDA</strong></i></u> binary. Compiled binaries are cached and reused in subsequent runs. Please read [User-Defined Kernels (Tutorial)](https://docs-cupy.chainer.org/en/latest/tutorial/kernel.html).\n",
        "And, you can also use raw <u><i><strong>CUDA</strong></i></u> kernel via [Raw modules (Tutorial)](https://docs-cupy.chainer.org/en/latest/tutorial/kernel.html#raw-modules).\n"
      ]
    },
    {
      "cell_type": "code",
      "metadata": {
        "ExecuteTime": {
          "end_time": "2019-12-08T15:55:39.932432Z",
          "start_time": "2019-12-08T15:55:39.920388Z"
        },
        "colab_type": "code",
        "id": "YsgqMowqAkzw",
        "outputId": "9b5d9e2d-6a54-4b3c-ec38-14d8ea3a8a28",
        "colab": {
          "base_uri": "https://localhost:8080/",
          "height": 187
        }
      },
      "source": [
        "x=cp.arange(6, dtype='f').reshape(2, 3)\n",
        "y=cp.arange(3, dtype='f')\n",
        "kernel=cp.ElementwiseKernel(\n",
        "    'float32 x,float32 y','float32 z',\n",
        "        '''if(x-2>y){\n",
        "        z=x*y;\n",
        "        }else{\n",
        "        z=x+y;\n",
        "        }''',\n",
        "    'my_kernel')\n",
        "\n",
        "print(\"Input x = \\n\", x)\n",
        "print(\"\\nInput y = \\n\", y)\n",
        "\n",
        "result = kernel(x, y)\n",
        "\n",
        "print(\"\\nresult of the kernel =\\n\", result)"
      ],
      "execution_count": 4,
      "outputs": [
        {
          "output_type": "stream",
          "text": [
            "Input x = \n",
            " [[0. 1. 2.]\n",
            " [3. 4. 5.]]\n",
            "\n",
            "Input y = \n",
            " [0. 1. 2.]\n",
            "\n",
            "result of the kernel =\n",
            " [[ 0.  2.  4.]\n",
            " [ 0.  4. 10.]]\n"
          ],
          "name": "stdout"
        }
      ]
    },
    {
      "cell_type": "markdown",
      "metadata": {
        "colab_type": "text",
        "id": "mCUZc-aTAkz1"
      },
      "source": [
        "# Task 10. Saxpy\n",
        "\n",
        "By using <u><i><strong>CuPy</strong></i></u>, implement SAXPY function. The function is described in the picture.\n",
        "\n",
        "![saxpy](https://github.com/zakajd/HighPerformancePython/blob/master/img/misc/saxpy.jpg?raw=1)"
      ]
    },
    {
      "cell_type": "markdown",
      "metadata": {
        "id": "Gtdu8afbD4wv",
        "colab_type": "text"
      },
      "source": [
        "# T10.1 Explain difference between cupy and numpy. CPU -> GPU data transfer using CuPy"
      ]
    },
    {
      "cell_type": "code",
      "metadata": {
        "ExecuteTime": {
          "end_time": "2019-12-08T15:55:39.936021Z",
          "start_time": "2019-12-08T15:55:39.934199Z"
        },
        "colab_type": "code",
        "id": "P382xz9CAkz2",
        "colab": {}
      },
      "source": [
        "# Cupy uses GPU to perform computation. How is transfer is handled?"
      ],
      "execution_count": 0,
      "outputs": []
    },
    {
      "cell_type": "markdown",
      "metadata": {
        "id": "VXi-jGZhD4w2",
        "colab_type": "text"
      },
      "source": [
        "# T10.2 Function saxpy that runs on GPU using cupy is provided"
      ]
    },
    {
      "cell_type": "code",
      "metadata": {
        "ExecuteTime": {
          "end_time": "2019-12-08T15:55:39.940565Z",
          "start_time": "2019-12-08T15:55:39.937064Z"
        },
        "colab_type": "code",
        "id": "IoK1IyiMAkz7",
        "colab": {}
      },
      "source": [
        "def np_saxpy(x, y, a):\n",
        "    return x*a + y\n",
        "\n",
        "@cp.fuse()\n",
        "def cp_saxpy(x, y, a):\n",
        "    return x*a + y"
      ],
      "execution_count": 0,
      "outputs": []
    },
    {
      "cell_type": "code",
      "metadata": {
        "ExecuteTime": {
          "end_time": "2019-12-08T15:57:56.763428Z",
          "start_time": "2019-12-08T15:55:39.941707Z"
        },
        "colab_type": "code",
        "id": "e_xxqzYuAk0E",
        "outputId": "6c987de3-5d45-490d-d5a5-8895f46be77b",
        "colab": {
          "base_uri": "https://localhost:8080/",
          "height": 34
        }
      },
      "source": [
        "np_res = []\n",
        "for s in tqdm(np.logspace(2, 4, 20)):\n",
        "    s = int(s)\n",
        "    np_x, np_y, np_a = np.random.rand(s,s).astype(np.float32), np.random.rand(s,s).astype(np.float32), np.float32(4.5)\n",
        "    t = %timeit -o -q np_saxpy(np_x, np_y, np_a);\n",
        "    np_res.append(t)"
      ],
      "execution_count": 7,
      "outputs": [
        {
          "output_type": "stream",
          "text": [
            "\n"
          ],
          "name": "stdout"
        }
      ]
    },
    {
      "cell_type": "code",
      "metadata": {
        "ExecuteTime": {
          "end_time": "2019-12-08T16:01:10.249228Z",
          "start_time": "2019-12-08T15:57:56.765455Z"
        },
        "colab_type": "code",
        "id": "bFHA4xvHAk0J",
        "outputId": "be0e1206-8728-4319-f08f-81caac0285ba",
        "colab": {
          "base_uri": "https://localhost:8080/",
          "height": 34,
          "referenced_widgets": [
            "499fbac9b46a4b388f7d6e8eb5db2c64"
          ]
        }
      },
      "source": [
        "cp_res = []\n",
        "for s in tqdm(np.logspace(2, 4, 20)):\n",
        "    s = int(s)\n",
        "    cp_x, cp_y, cp_a = cp.random.rand(s,s,dtype='f'), cp.random.rand(s,s, dtype='f'), cp.float32(4.5)\n",
        "    t = %timeit -q -o cp_saxpy(cp_x, cp_y, cp_a);\n",
        "    cp_res.append(t)"
      ],
      "execution_count": 8,
      "outputs": [
        {
          "output_type": "display_data",
          "data": {
            "application/vnd.jupyter.widget-view+json": {
              "model_id": "499fbac9b46a4b388f7d6e8eb5db2c64",
              "version_minor": 0,
              "version_major": 2
            },
            "text/plain": [
              "HBox(children=(IntProgress(value=0, max=20), HTML(value='')))"
            ]
          },
          "metadata": {
            "tags": []
          }
        },
        {
          "output_type": "stream",
          "text": [
            "\n"
          ],
          "name": "stdout"
        }
      ]
    },
    {
      "cell_type": "markdown",
      "metadata": {
        "id": "5MZ2qza0D4w_",
        "colab_type": "text"
      },
      "source": [
        "# T10.3 Graph time(arrays_size) is given. \n",
        "Plot numpy and cupy implementations"
      ]
    },
    {
      "cell_type": "code",
      "metadata": {
        "id": "GBlIO-mlE4nj",
        "colab_type": "code",
        "colab": {
          "base_uri": "https://localhost:8080/",
          "height": 34
        },
        "outputId": "afe0656a-11e2-48b5-a34b-8fb774f8a34a"
      },
      "source": [
        "np_res[0].best"
      ],
      "execution_count": 15,
      "outputs": [
        {
          "output_type": "execute_result",
          "data": {
            "text/plain": [
              "8.063579530000027e-06"
            ]
          },
          "metadata": {
            "tags": []
          },
          "execution_count": 15
        }
      ]
    },
    {
      "cell_type": "code",
      "metadata": {
        "ExecuteTime": {
          "end_time": "2019-12-08T16:01:10.800280Z",
          "start_time": "2019-12-08T16:01:10.252340Z"
        },
        "colab_type": "code",
        "id": "XsO_XtGdAk0O",
        "outputId": "4729a8f8-4c03-41af-8234-857f86e32326",
        "colab": {
          "base_uri": "https://localhost:8080/",
          "height": 404
        }
      },
      "source": [
        "plt.figure(figsize=(10,6))\n",
        "plt.plot(np.logspace(2, 4, 20), [i.best for i in np_res])\n",
        "plt.plot(np.logspace(2, 4, 20), [i.best for i in cp_res])\n",
        "plt.title('SAXPY')\n",
        "plt.yscale('log')\n",
        "plt.xlabel('Array size')\n",
        "plt.ylabel('Time ms')\n",
        "plt.legend(['numpy', 'cupy']);"
      ],
      "execution_count": 16,
      "outputs": [
        {
          "output_type": "display_data",
          "data": {
            "image/png": "[encoded data removed]",
            "text/plain": [
              "<Figure size 720x432 with 1 Axes>"
            ]
          },
          "metadata": {
            "tags": []
          }
        }
      ]
    },
    {
      "cell_type": "code",
      "metadata": {
        "id": "r7nspC5EEVLk",
        "colab_type": "code",
        "colab": {}
      },
      "source": [
        ""
      ],
      "execution_count": 0,
      "outputs": []
    }
  ]
}