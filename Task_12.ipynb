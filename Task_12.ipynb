{
 "cells": [
  {
   "cell_type": "code",
   "execution_count": null,
   "metadata": {},
   "outputs": [],
   "source": [
    "!pip install cupy-cuda100 -user"
   ]
  },
  {
   "cell_type": "markdown",
   "metadata": {},
   "source": [
    "# Task 12. Histogram\n",
    "\n",
    "\n",
    "<u>By using <i><strong>CuPy</strong></i>:</u>\n",
    "* Implement the suggested function:\n",
    "$$\n",
    " f(x) = (z^2(x) + z^3(x) - 200 \\,\\, z^4(x) )\\,\\,\\sin(\\,\\,100000\\,\\,(x + 0.5)\\,\\,),\n",
    " \\\\\n",
    " \\text{where    }\\:\\:\\: z(x) = \\sin(3\\,\\,x)-0.5\n",
    "$$\n",
    "* Plot function on the $x$ interval $[0,\\,\\, 1]$. Number of points = 10000000.\n",
    "* Get minimal and maximal values of function on the interval $[0,\\,\\, 1]$: $f_{min}$ and $f_{max}$.\n",
    "* Divide $y=f(x), \\: (x \\in [0,\\,\\, 1]) \\:$ interval $[f_{min}, f_{max}]$ into $10$ $y=f(x)$ subintervals of length $\\delta$ equal to $0.1 \\,\\, (f_{max}-f_{min})$: $[f_{min},\\,\\, f_{min} + \\delta],\\,\\, [f_{min}+ \\delta,\\,\\, f_{min} + 2 \\,\\, \\delta],\\,\\, \\dots,\\,\\, [f_{max}- \\delta,\\,\\, f_{max}]$.\n",
    "* Compute number of $y=f(x), \\: (x \\in [0,\\,\\, 1]) \\:$ values in each subinterval. Use $\\operatorname{cp.sum(\\dots)}$\n",
    "* Plot histogram. <strong>[Hint: how to represent the histogram](https://cdn.datamentor.io/wp-content/uploads/2017/11/r-histogram.png)</strong>\n",
    "\n",
    "<strong >Hint about function $f(x)$ appearance:</strong>\n",
    "    ![Hint](img/misc/Hint.png)"
   ]
  },
  {
   "cell_type": "markdown",
   "metadata": {},
   "source": [
    "# Imports"
   ]
  },
  {
   "cell_type": "code",
   "execution_count": null,
   "metadata": {},
   "outputs": [],
   "source": [
    "import cupy as cp\n",
    "import numpy as np\n",
    "import matplotlib.pyplot as plt\n",
    "from tqdm.auto import tqdm\n",
    "\n",
    "# Wider cells\n",
    "from IPython.core.display import display, HTML\n",
    "display(HTML(\"<style>.container { width:95% !important; }</style>\"))\n",
    "\n",
    "# Make sure folder for images exist\n",
    "import os\n",
    "try:\n",
    "    os.mkdir('img/task10')\n",
    "except FileExistsError as err:\n",
    "    pass\n",
    "\n",
    "# Jupyter magic\n",
    "%reload_ext autoreload\n",
    "%autoreload 2\n",
    "%matplotlib inline\n",
    "\n",
    "# Autocompletion fix\n",
    "# %config Completer.use_jedi=False"
   ]
  },
  {
   "cell_type": "markdown",
   "metadata": {},
   "source": [
    "# T12.1 Function from the jupyter notebook is plotted with suggested number of points"
   ]
  },
  {
   "cell_type": "code",
   "execution_count": null,
   "metadata": {},
   "outputs": [],
   "source": [
    "@cp.fuse()\n",
    "def z(x):\n",
    "    return cp.sin(3*x) - 0.5\n",
    "\n",
    "@cp.fuse()\n",
    "def f(x):\n",
    "    return (cp.power(z(x),2)+cp.power(z(x),3)-200*cp.power(z(x),4))*cp.sin(1e5*(x+0.5))\n",
    "\n",
    "x = cp.linspace(0,1, int(1e7))\n",
    "y = f(x)\n",
    "f_min = y.min()\n",
    "f_max = y.max()\n",
    "delta = 0.1 * (f_max - f_min)\n",
    "print('Min: {}. Max {}.'.format(f_min, f_max))"
   ]
  },
  {
   "cell_type": "code",
   "execution_count": null,
   "metadata": {},
   "outputs": [],
   "source": [
    "plt.figure(figsize=(15, 8))\n",
    "plt.plot(x.tolist()[::10000], y.tolist()[::10000]);\n",
    "plt.hlines([np.float(f_min + i*delta) for i in range(11)], 0, 1, linestyles='dashed')"
   ]
  },
  {
   "cell_type": "markdown",
   "metadata": {},
   "source": [
    "# T12.2 Plot Histogram"
   ]
  },
  {
   "cell_type": "code",
   "execution_count": null,
   "metadata": {},
   "outputs": [],
   "source": [
    "np_y = cp.asnumpy(y)\n",
    "%timeit y[y>5]\n",
    "%timeit np_y[np_y>5]"
   ]
  },
  {
   "cell_type": "code",
   "execution_count": null,
   "metadata": {},
   "outputs": [],
   "source": [
    "res = []\n",
    "for i in range(10):\n",
    "#     cp.logical_and((f_min + (i+1)*delta) > y, y > (f_min + i*delta))\n",
    "    r = ((f_min + (i+1)*delta) > y) & (y > (f_min + i*delta))\n",
    "    r = cp.sum(r)\n",
    "    res.append(cp.asnumpy(r))\n",
    "res = np.array(res)\n",
    "plt.bar(np.arange(10),res)\n",
    "plt.title('Histogram of sums')\n",
    "plt.xlabel('Bin number')\n",
    "plt.ylabel('Number of points in the bin');"
   ]
  },
  {
   "cell_type": "markdown",
   "metadata": {},
   "source": [
    "# T12.3 Computation time of cp.sum() and np.sum() are provided\n",
    "Only those two functions, no need to include plot drawing time into it"
   ]
  },
  {
   "cell_type": "code",
   "execution_count": null,
   "metadata": {},
   "outputs": [],
   "source": [
    "# select points in the interval\n",
    "sub_y = ((f_min + delta) > y) & (y > f_min)\n",
    "np_sub_y = cp.asnumpy(sub_y)"
   ]
  },
  {
   "cell_type": "code",
   "execution_count": null,
   "metadata": {},
   "outputs": [],
   "source": [
    "%timeit -n 100 cp.sum(sub_y)"
   ]
  },
  {
   "cell_type": "code",
   "execution_count": null,
   "metadata": {},
   "outputs": [],
   "source": [
    "%timeit -n 100 np.sum(np_sub_y)"
   ]
  }
 ],
 "metadata": {
  "kernelspec": {
   "display_name": "Python 3",
   "language": "python",
   "name": "python3"
  },
  "language_info": {
   "codemirror_mode": {
    "name": "ipython",
    "version": 3
   },
   "file_extension": ".py",
   "mimetype": "text/x-python",
   "name": "python",
   "nbconvert_exporter": "python",
   "pygments_lexer": "ipython3",
   "version": "3.7.5"
  }
 },
 "nbformat": 4,
 "nbformat_minor": 2
}
