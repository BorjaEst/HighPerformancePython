{
 "cells": [
  {
   "cell_type": "code",
   "execution_count": 3,
   "metadata": {
    "ExecuteTime": {
     "end_time": "2019-12-04T20:45:43.636749Z",
     "start_time": "2019-12-04T20:43:38.886426Z"
    }
   },
   "outputs": [
    {
     "name": "stdout",
     "output_type": "stream",
     "text": [
      "Collecting cupy-cuda100\n",
      "\u001b[?25l  Downloading https://files.pythonhosted.org/packages/69/79/1f6fa507465986eb95e9a5ca99796792eb07d5e5f4003263464f2725e96e/cupy_cuda100-6.5.0-cp35-cp35m-manylinux1_x86_64.whl (380.5MB)\n",
      "\u001b[K     |████████████████████████████████| 380.5MB 143kB/s eta 0:00:01   |                                | 593kB 831kB/s eta 0:07:37     |████▎                           | 50.9MB 3.8MB/s eta 0:01:28     |███████                         | 83.7MB 3.4MB/s eta 0:01:27     |███████████████▍                | 182.6MB 2.9MB/s eta 0:01:09     |██████████████████▌             | 219.7MB 3.8MB/s eta 0:00:42     |██████████████████▊             | 223.3MB 4.4MB/s eta 0:00:36     |████████████████████▏           | 239.7MB 1.1MB/s eta 0:02:05     |██████████████████████          | 262.8MB 7.4MB/s eta 0:00:16     |███████████████████████▋        | 280.9MB 2.7MB/s eta 0:00:37     |████████████████████████▎       | 288.4MB 3.5MB/s eta 0:00:27     |█████████████████████████████▋  | 352.1MB 1.2MB/s eta 0:00:25\n",
      "\u001b[?25hRequirement already satisfied: numpy>=1.9.0 in /usr/local/lib/python3.5/dist-packages (from cupy-cuda100) (1.17.2)\n",
      "Requirement already satisfied: six>=1.9.0 in /home/emil/.local/lib/python3.5/site-packages (from cupy-cuda100) (1.12.0)\n",
      "Collecting fastrlock>=0.3 (from cupy-cuda100)\n",
      "  Downloading https://files.pythonhosted.org/packages/de/b9/3344231d8f76b8524468f88bf0337b8d673f452f617b40fba3f0c34776a2/fastrlock-0.4-cp35-cp35m-manylinux1_x86_64.whl\n",
      "Installing collected packages: fastrlock, cupy-cuda100\n",
      "Successfully installed cupy-cuda100-6.5.0 fastrlock-0.4\n",
      "\u001b[33mWARNING: You are using pip version 19.2.3, however version 19.3.1 is available.\n",
      "You should consider upgrading via the 'pip install --upgrade pip' command.\u001b[0m\n"
     ]
    }
   ],
   "source": [
    "!pip install cupy-cuda100 --user"
   ]
  },
  {
   "cell_type": "code",
   "execution_count": 1,
   "metadata": {
    "ExecuteTime": {
     "end_time": "2019-12-04T20:43:28.698525Z",
     "start_time": "2019-12-04T20:43:28.614634Z"
    }
   },
   "outputs": [
    {
     "ename": "ImportError",
     "evalue": "No module named 'cupy'",
     "output_type": "error",
     "traceback": [
      "\u001b[0;31m---------------------------------------------------------------------------\u001b[0m",
      "\u001b[0;31mImportError\u001b[0m                               Traceback (most recent call last)",
      "\u001b[0;32m<ipython-input-1-e011b0e859cc>\u001b[0m in \u001b[0;36m<module>\u001b[0;34m\u001b[0m\n\u001b[0;32m----> 1\u001b[0;31m \u001b[0;32mimport\u001b[0m \u001b[0mcupy\u001b[0m \u001b[0;32mas\u001b[0m \u001b[0mcp\u001b[0m\u001b[0;34m\u001b[0m\u001b[0m\n\u001b[0m",
      "\u001b[0;31mImportError\u001b[0m: No module named 'cupy'"
     ]
    }
   ],
   "source": [
    "import cupy as cp"
   ]
  },
  {
   "cell_type": "markdown",
   "metadata": {},
   "source": [
    "## [High performance with <u><i><strong>CUDA</strong></i></u>](https://cupy.chainer.org/)\n",
    "<u><i><strong>CuPy</strong></i></u> is an open-source matrix library accelerated with <u><i><strong>NVIDIA CUDA</strong></i></u>. <u><i><strong>CuPy</strong></i></u> provides GPU accelerated computing with Python. CuPy uses CUDA-related libraries including <u><i><strong>cuBLAS</strong></i></u>, <u><i><strong>cuDNN</strong></i></u>, <u><i><strong>cuRand</strong></i></u>, <u><i><strong>cuSolver</strong></i></u>, <u><i><strong>cuSPARSE</strong></i></u>, <u><i><strong>cuFFT</strong></i></u> and <u><i><strong>NCCL</strong></i></u> to make full use of the <u><i><strong>GPU</strong></i></u> architecture.\n",
    "The figure shows <u><i><strong>CuPy</strong></i></u> speedup over NumPy. Most of them perform well on a <u><i><strong>GPU</strong></i></u> using CuPy out of the box. <u><i><strong>CuPy</strong></i></u> speeds up some operations more than 100X. You can read original benchmark article in [Single-<u><i><strong>GPU</strong></i></u> <u><i><strong>CuPy</strong></i></u> Speedups (RAPIDS AI)](https://medium.com/rapids-ai/single-gpu-cupy-speedups-ea99cbbb0cbb).\n",
    "\n",
    "![CuPy speedup over NumPy](CuPy_Performance.png)"
   ]
  },
  {
   "cell_type": "markdown",
   "metadata": {},
   "source": [
    "## [Highly compatible with <u><i><strong>NumPy</strong></i></u>](https://cupy.chainer.org/)\n",
    "<u><i><strong>CuPy</strong></i></u>'s interface is highly compatible with <u><i><strong>NumPy</strong></i></u>; in most cases it can be used as a <strong><i><u>drop-in replacement</u></i></strong>. <i><u>All you need to do</u></i> is just <strong><i><u>replace numpy with cupy</u></i></strong> in your Python code. [Basics of <u><i><strong>CuPy</strong></i></u> (Tutorial)](https://docs-cupy.chainer.org/en/stable/tutorial/basic.html) is usefull to learn first step of <u><i><strong>CuPy</strong></i></u>.\n",
    "<u><i><strong>CuPy</strong></i></u> supports various methods, indexing, data types, broadcasting and more. [Comparison Table (Reference Manual)](https://docs-cupy.chainer.org/en/stable/reference/comparison.html) shows a list of NumPy / <u><i><strong>SciPy</strong></i></u> APIs and its corresponding <u><i><strong>CuPy</strong></i></u> implementations."
   ]
  },
  {
   "cell_type": "code",
   "execution_count": 6,
   "metadata": {},
   "outputs": [
    {
     "name": "stdout",
     "output_type": "stream",
     "text": [
      "x =\n",
      " [[0. 1. 2.]\n",
      " [3. 4. 5.]]\n",
      "\n",
      "sum =  [ 3. 12.]\n"
     ]
    }
   ],
   "source": [
    "x = cp.arange(6).reshape(2, 3).astype('f')\n",
    "print(\"x =\\n\", x)\n",
    "\n",
    "sum_result = x.sum(axis=1)\n",
    "print(\"\\nsum = \",sum_result)"
   ]
  },
  {
   "cell_type": "markdown",
   "metadata": {},
   "source": [
    "## [Easy to write a custom kernel](https://cupy.chainer.org/)\n",
    "You can easily make a custom <u><i><strong>CUDA</strong></i></u> kernel if you want to make your code run faster, requiring only a small code snippet of <u><i><strong>C++</strong></i></u>. <u><i><strong>CuPy</strong></i></u> automatically wraps and compiles it to make a <u><i><strong>CUDA</strong></i></u> binary. Compiled binaries are cached and reused in subsequent runs. Please read [User-Defined Kernels (Tutorial)](https://docs-cupy.chainer.org/en/latest/tutorial/kernel.html).\n",
    "And, you can also use raw <u><i><strong>CUDA</strong></i></u> kernel via [Raw modules (Tutorial)](https://docs-cupy.chainer.org/en/latest/tutorial/kernel.html#raw-modules).\n"
   ]
  },
  {
   "cell_type": "code",
   "execution_count": 7,
   "metadata": {},
   "outputs": [
    {
     "name": "stdout",
     "output_type": "stream",
     "text": [
      "Input x = \n",
      " [[0. 1. 2.]\n",
      " [3. 4. 5.]]\n",
      "\n",
      "Input y = \n",
      " [0. 1. 2.]\n",
      "\n",
      "result of the kernel =\n",
      " [[ 0.  2.  4.]\n",
      " [ 0.  4. 10.]]\n"
     ]
    }
   ],
   "source": [
    "x=cp.arange(6, dtype='f').reshape(2, 3)\n",
    "y=cp.arange(3, dtype='f')\n",
    "kernel=cp.ElementwiseKernel(\n",
    "    'float32 x,float32 y','float32 z',\n",
    "        '''if(x-2>y){\n",
    "        z=x*y;\n",
    "        }else{\n",
    "        z=x+y;\n",
    "        }''',\n",
    "    'my_kernel')\n",
    "\n",
    "print(\"Input x = \\n\", x)\n",
    "print(\"\\nInput y = \\n\", y)\n",
    "\n",
    "result = kernel(x, y)\n",
    "\n",
    "print(\"\\nresult of the kernel =\\n\", result)"
   ]
  },
  {
   "cell_type": "markdown",
   "metadata": {},
   "source": [
    "## Task 10. Saxpy\n",
    "\n",
    "By using <u><i><strong>CuPy</strong></i></u>, implement SAXPY function. The function is described in the picture.\n",
    "\n",
    "![saxpy](saxpy.jpg)"
   ]
  },
  {
   "cell_type": "markdown",
   "metadata": {},
   "source": [
    "## Task 11. CuPy-based Bifurcation map\n",
    "\n",
    "By using <u><i><strong>CuPy</strong></i></u>, reimplement bifurcation map (Task 1)."
   ]
  },
  {
   "cell_type": "markdown",
   "metadata": {},
   "source": [
    "## Task 12. Histogram\n",
    "\n",
    "\n",
    "<u>By using <i><strong>CuPy</strong></i>:</u>\n",
    "* Implement the suggested function:\n",
    "$$\n",
    " f(x) = (z^2(x) + z^3(x) - 200 \\,\\, z^4(x) )\\,\\,\\sin(\\,\\,100000\\,\\,(x + 0.5)\\,\\,),\n",
    " \\\\\n",
    " \\text{where    }\\:\\:\\: z(x) = \\sin(3\\,\\,x)-0.5\n",
    "$$\n",
    "* Plot function on the $x$ interval $[0,\\,\\, 1]$. Number of points = 10000000.\n",
    "* Get minimal and maximal values of function on the interval $[0,\\,\\, 1]$: $f_{min}$ and $f_{max}$.\n",
    "* Divide $y=f(x), \\: (x \\in [0,\\,\\, 1]) \\:$ interval $[f_{min}, f_{max}]$ into $10$ $y=f(x)$ subintervals of length $\\delta$ equal to $0.1 \\,\\, (f_{max}-f_{min})$: $[f_{min},\\,\\, f_{min} + \\delta],\\,\\, [f_{min}+ \\delta,\\,\\, f_{min} + 2 \\,\\, \\delta],\\,\\, \\dots,\\,\\, [f_{max}- \\delta,\\,\\, f_{max}]$.\n",
    "* Compute number of $y=f(x), \\: (x \\in [0,\\,\\, 1]) \\:$ values in each subinterval. Use $\\operatorname{cp.sum(\\dots)}$\n",
    "* Plot histogram. <strong>[Hint: how to represent the histogram](https://cdn.datamentor.io/wp-content/uploads/2017/11/r-histogram.png)</strong>\n",
    "\n",
    "<strong >Hint about function $f(x)$ appearance:</strong>\n",
    "    ![Hint](Hint.png)"
   ]
  },
  {
   "cell_type": "markdown",
   "metadata": {},
   "source": [
    "## Task 13. Image blur\n",
    "\n",
    "\n",
    "<u>By using <i><strong>CuPy</strong></i>:</u>\n",
    "* Implement the gpu version of the image blur algorithm. What you need to do is calculate convolution some image and some blur filter on every pixel. You should compute convolutions in parallel for every pixel using gpu cores.\n",
    "* Take any 100x100 image and \n",
    "\n",
    "<strong >Example of a blurred image:</strong>\n",
    "    ![Blur](blur.jpg)"
   ]
  },
  {
   "cell_type": "code",
   "execution_count": null,
   "metadata": {},
   "outputs": [],
   "source": []
  }
 ],
 "metadata": {
  "kernelspec": {
   "display_name": "Python 3",
   "language": "python",
   "name": "python3"
  },
  "language_info": {
   "codemirror_mode": {
    "name": "ipython",
    "version": 3
   },
   "file_extension": ".py",
   "mimetype": "text/x-python",
   "name": "python",
   "nbconvert_exporter": "python",
   "pygments_lexer": "ipython3",
   "version": "3.5.2"
  }
 },
 "nbformat": 4,
 "nbformat_minor": 2
}
