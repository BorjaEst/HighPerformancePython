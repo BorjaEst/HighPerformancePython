{
 "cells": [
  {
   "cell_type": "markdown",
   "metadata": {},
   "source": [
    "# Task 5. Matrix multiplication (matmul)\n",
    "\n",
    "* Launch all cells of the task, write down (in this markdown) the time ratio (according to cProfile results) between computational times (expended on matmuls based on loops and numpy) explain why cProfile gives faster the same results for numpy code than for loop code."
   ]
  },
  {
   "cell_type": "markdown",
   "metadata": {},
   "source": [
    "## Import libraries"
   ]
  },
  {
   "cell_type": "code",
   "execution_count": 1,
   "metadata": {},
   "outputs": [
    {
     "name": "stdout",
     "output_type": "stream",
     "text": [
      "Populating the interactive namespace from numpy and matplotlib\n"
     ]
    }
   ],
   "source": [
    "import cProfile\n",
    "%pylab inline"
   ]
  },
  {
   "cell_type": "code",
   "execution_count": 2,
   "metadata": {},
   "outputs": [],
   "source": [
    "def matmul(A, B):    \n",
    "    C = [[0 for row in range(len(A))] for col in range(len(B[0]))]\n",
    "    for i in range(len(A)):\n",
    "        for j in range(len(B[0])):\n",
    "            for k in range(len(B)):\n",
    "                C[i][j] += A[i][k]*B[k][j]\n",
    "    return C\n",
    "\n",
    "\n",
    "def prepare_A_B(n, m):\n",
    "    A = np.arange(n * m).reshape(n, m)\n",
    "    B = 0.1 * A[::-1].T\n",
    "    return A, B\n",
    "\n",
    "\n",
    "def repeat_loops(m = 100):\n",
    "    for n in range(10, 50):\n",
    "        A, B = prepare_A_B(n, m)\n",
    "        matmul(A, B)\n",
    "\n",
    "        \n",
    "def repat_numpy(m = 100):    \n",
    "    for n in range(10, 50):\n",
    "        A, B = prepare_A_B(n, m)\n",
    "        np.dot(A, B)"
   ]
  },
  {
   "cell_type": "code",
   "execution_count": 3,
   "metadata": {},
   "outputs": [
    {
     "name": "stdout",
     "output_type": "stream",
     "text": [
      "         43924 function calls in 9.849 seconds\n",
      "\n",
      "   Ordered by: standard name\n",
      "\n",
      "   ncalls  tottime  percall  cumtime  percall filename:lineno(function)\n",
      "       40    9.844    0.246    9.847    0.246 <ipython-input-2-397387939e50>:1(matmul)\n",
      "       40    0.001    0.000    0.001    0.000 <ipython-input-2-397387939e50>:10(prepare_A_B)\n",
      "        1    0.002    0.002    9.850    9.850 <ipython-input-2-397387939e50>:16(repeat_loops)\n",
      "     1180    0.001    0.000    0.001    0.000 <ipython-input-2-397387939e50>:2(<listcomp>)\n",
      "        1    0.000    0.000    9.850    9.850 <string>:1(<module>)\n",
      "        1    0.000    0.000    9.850    9.850 {built-in method builtins.exec}\n",
      "    42580    0.002    0.000    0.002    0.000 {built-in method builtins.len}\n",
      "       40    0.000    0.000    0.000    0.000 {built-in method numpy.arange}\n",
      "        1    0.000    0.000    0.000    0.000 {method 'disable' of '_lsprof.Profiler' objects}\n",
      "       40    0.000    0.000    0.000    0.000 {method 'reshape' of 'numpy.ndarray' objects}\n",
      "\n",
      "\n"
     ]
    }
   ],
   "source": [
    "m_given = 100\n",
    "\n",
    "cProfile.run('repeat_loops(m = ' + str(m_given) + ')' )"
   ]
  },
  {
   "cell_type": "code",
   "execution_count": 4,
   "metadata": {},
   "outputs": [
    {
     "name": "stdout",
     "output_type": "stream",
     "text": [
      "         244 function calls in 0.002 seconds\n",
      "\n",
      "   Ordered by: standard name\n",
      "\n",
      "   ncalls  tottime  percall  cumtime  percall filename:lineno(function)\n",
      "       40    0.000    0.000    0.001    0.000 <__array_function__ internals>:2(dot)\n",
      "       40    0.000    0.000    0.001    0.000 <ipython-input-2-397387939e50>:10(prepare_A_B)\n",
      "        1    0.000    0.000    0.001    0.001 <ipython-input-2-397387939e50>:22(repat_numpy)\n",
      "        1    0.000    0.000    0.001    0.001 <string>:1(<module>)\n",
      "       40    0.000    0.000    0.000    0.000 multiarray.py:707(dot)\n",
      "        1    0.000    0.000    0.002    0.002 {built-in method builtins.exec}\n",
      "       40    0.000    0.000    0.000    0.000 {built-in method numpy.arange}\n",
      "       40    0.001    0.000    0.001    0.000 {built-in method numpy.core._multiarray_umath.implement_array_function}\n",
      "        1    0.000    0.000    0.000    0.000 {method 'disable' of '_lsprof.Profiler' objects}\n",
      "       40    0.000    0.000    0.000    0.000 {method 'reshape' of 'numpy.ndarray' objects}\n",
      "\n",
      "\n"
     ]
    }
   ],
   "source": [
    "cProfile.run('repat_numpy(m = ' + str(m_given) + ')' )"
   ]
  }
 ],
 "metadata": {
  "kernelspec": {
   "display_name": "Python 3",
   "language": "python",
   "name": "python3"
  },
  "language_info": {
   "codemirror_mode": {
    "name": "ipython",
    "version": 3
   },
   "file_extension": ".py",
   "mimetype": "text/x-python",
   "name": "python",
   "nbconvert_exporter": "python",
   "pygments_lexer": "ipython3",
   "version": "3.7.5"
  }
 },
 "nbformat": 4,
 "nbformat_minor": 2
}
