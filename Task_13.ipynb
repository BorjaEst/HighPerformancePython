{
  "nbformat": 4,
  "nbformat_minor": 0,
  "metadata": {
    "kernelspec": {
      "name": "python3",
      "display_name": "Python 3"
    },
    "language_info": {
      "codemirror_mode": {
        "name": "ipython",
        "version": 3
      },
      "file_extension": ".py",
      "mimetype": "text/x-python",
      "name": "python",
      "nbconvert_exporter": "python",
      "pygments_lexer": "ipython3",
      "version": "3.7.5"
    },
    "colab": {
      "name": "Task_13.ipynb",
      "provenance": []
    },
    "accelerator": "GPU"
  },
  "cells": [
    {
      "cell_type": "code",
      "metadata": {
        "id": "puQF6aEGJSYq",
        "colab_type": "code",
        "colab": {}
      },
      "source": [
        "!pip install cupy-cuda100 -user"
      ],
      "execution_count": 0,
      "outputs": []
    },
    {
      "cell_type": "markdown",
      "metadata": {
        "id": "y7REQiWDJSYz",
        "colab_type": "text"
      },
      "source": [
        "# Imports"
      ]
    },
    {
      "cell_type": "code",
      "metadata": {
        "ExecuteTime": {
          "end_time": "2019-12-17T22:34:49.463446Z",
          "start_time": "2019-12-17T22:34:49.318803Z"
        },
        "id": "_JZVjlIAJSY4",
        "colab_type": "code",
        "colab": {
          "base_uri": "https://localhost:8080/",
          "height": 17
        },
        "outputId": "dfc63504-524a-4a85-a5e5-0d482434ed25"
      },
      "source": [
        "import cupy as cp\n",
        "import numpy as np\n",
        "import matplotlib.pyplot as plt\n",
        "from tqdm.auto import tqdm\n",
        "\n",
        "# Wider cells\n",
        "from IPython.core.display import display, HTML\n",
        "display(HTML(\"<style>.container { width:95% !important; }</style>\"))\n",
        "\n",
        "# Make sure folder for images exist\n",
        "import os\n",
        "# try:\n",
        "#     os.mkdir('img/task13')\n",
        "# except FileExistsError as err:\n",
        "#     pass\n",
        "\n",
        "# Jupyter magic\n",
        "%reload_ext autoreload\n",
        "%autoreload 2\n",
        "%matplotlib inline\n",
        "\n",
        "# Autocompletion fix\n",
        "# %config Completer.use_jedi=False"
      ],
      "execution_count": 1,
      "outputs": [
        {
          "output_type": "display_data",
          "data": {
            "text/html": [
              "<style>.container { width:95% !important; }</style>"
            ],
            "text/plain": [
              "<IPython.core.display.HTML object>"
            ]
          },
          "metadata": {
            "tags": []
          }
        }
      ]
    },
    {
      "cell_type": "markdown",
      "metadata": {
        "id": "thSrftlZJSZA",
        "colab_type": "text"
      },
      "source": [
        "# Task 13. Image blur\n",
        "\n",
        "\n",
        "<u>By using <i><strong>CuPy</strong></i>:</u>\n",
        "* Implement the gpu version of the image blur algorithm. What you need to do is calculate convolution some image and some blur filter on every pixel. You should compute convolutions in parallel for every pixel using gpu cores.\n",
        "* Take any 100x100 image and \n",
        "\n",
        "<strong >Example of a blurred image:</strong>\n",
        "![Blur](https://github.com/zakajd/HighPerformancePython/blob/master/img/misc/blur.jpg?raw=1)"
      ]
    },
    {
      "cell_type": "markdown",
      "metadata": {
        "id": "xmSbXtpYJSZB",
        "colab_type": "text"
      },
      "source": [
        "# T13.1 Before and after pictures are given (any 100x100 image)"
      ]
    },
    {
      "cell_type": "code",
      "metadata": {
        "ExecuteTime": {
          "end_time": "2019-12-17T22:42:12.099029Z",
          "start_time": "2019-12-17T22:42:11.239461Z"
        },
        "id": "h8kxG_LjJSZC",
        "colab_type": "code",
        "colab": {}
      },
      "source": [
        "!wget -P img/task13/ -q https://quintagroup.com/cms/python/images/opencv-logo.png/@@images/image.png"
      ],
      "execution_count": 0,
      "outputs": []
    },
    {
      "cell_type": "code",
      "metadata": {
        "id": "ddG5IhqdJSZG",
        "colab_type": "code",
        "colab": {}
      },
      "source": [
        "from PIL import Image\n",
        "im_s = 100\n",
        "fname = \"img/task13/image.png\"\n",
        "pil_img = Image.open(fname).resize((im_s,im_s)).convert('L')\n",
        "img = np.array(pil_img)\n",
        "k_hs = 3\n",
        "k_s = 2 * k_hs + 1\n",
        "kernel = np.ones((k_s,k_s))\n",
        "kernel /= kernel.sum()\n",
        "cp_img = cp.array(img)\n",
        "cp_kernel = cp.array(kernel)"
      ],
      "execution_count": 0,
      "outputs": []
    },
    {
      "cell_type": "code",
      "metadata": {
        "id": "MuFVQN79JSZJ",
        "colab_type": "code",
        "colab": {}
      },
      "source": [
        ""
      ],
      "execution_count": 0,
      "outputs": []
    },
    {
      "cell_type": "code",
      "metadata": {
        "id": "nFRKPhZMJSZM",
        "colab_type": "code",
        "colab": {}
      },
      "source": [
        "def np_blur_loop(img, kernel):\n",
        "    res = np.empty_like(img)\n",
        "    for i in range(k_hs, im_s-k_hs):\n",
        "        for j in range(k_hs, im_s-k_hs):\n",
        "            res[i, j] = (img[i-k_hs:i+k_hs+1, j-k_hs:j+k_hs+1] * kernel).sum()\n",
        "\n",
        "def np_blur(big_img, kernel):\n",
        "    f_kernel = np.ravel(kernel)\n",
        "    res = np.dot(big_img, f_kernel)\n",
        "    return np.reshape(res, (im_s, im_s))\n",
        "\n",
        "def cp_blur(big_img, kernel):\n",
        "    f_kernel = cp.ravel(kernel)\n",
        "    res = cp.dot(big_img, f_kernel)\n",
        "    return cp.reshape(res, (im_s, im_s))\n",
        "\n",
        "def cp_blur_loop(img, kernel):\n",
        "    res = cp.empty_like(img)\n",
        "    for i in range(k_hs, im_s-k_hs):\n",
        "        for j in range(k_hs, im_s-k_hs):\n",
        "              res[i, j] = (img[i-k_hs:i+k_hs+1, j-k_hs:j+k_hs+1] * kernel).sum()\n",
        "\n",
        "    "
      ],
      "execution_count": 0,
      "outputs": []
    },
    {
      "cell_type": "code",
      "metadata": {
        "id": "KD8sl758JSZO",
        "colab_type": "code",
        "colab": {}
      },
      "source": [
        "big_img = np.empty((im_s*im_s, k_s*k_s), dtype='float32')\n",
        "for i in range(k_hs, im_s-k_hs):\n",
        "    for j in range(k_hs, im_s-k_hs):\n",
        "        big_img[i*im_s + j] = img[i-k_hs:i+k_hs+1, j-k_hs:j+k_hs+1].flatten()\n",
        "        \n",
        "np_res = np_blur(big_img, kernel)\n",
        "\n",
        "cp_big_img = cp.array(big_img)          \n",
        "cp_res = cp_blur(cp_big_img, cp_kernel)\n",
        "cp_res = cp.asnumpy(cp_res)"
      ],
      "execution_count": 0,
      "outputs": []
    },
    {
      "cell_type": "markdown",
      "metadata": {
        "id": "GGNwFRoiJSZQ",
        "colab_type": "text"
      },
      "source": [
        "# T13.2\tMeasure CuPy implementation time"
      ]
    },
    {
      "cell_type": "code",
      "metadata": {
        "id": "g9t_eFYAJSZR",
        "colab_type": "code",
        "colab": {
          "base_uri": "https://localhost:8080/",
          "height": 51
        },
        "outputId": "486a34d9-009b-4ed6-a484-e59e9c1f7078"
      },
      "source": [
        "%timeit -n 100 cp_blur(cp_big_img, cp_kernel)\n",
        "cp_blur_loop(cp_img, cp_kernel)\n",
        "%timeit -n 10 cp_blur_loop(cp_img, cp_kernel)"
      ],
      "execution_count": 8,
      "outputs": [
        {
          "output_type": "stream",
          "text": [
            "100 loops, best of 3: 51.9 µs per loop\n",
            "10 loops, best of 3: 459 ms per loop\n"
          ],
          "name": "stdout"
        }
      ]
    },
    {
      "cell_type": "markdown",
      "metadata": {
        "id": "Ms7AjygJJSZS",
        "colab_type": "text"
      },
      "source": [
        "# T13.3 Measure NumPy implementation time"
      ]
    },
    {
      "cell_type": "code",
      "metadata": {
        "id": "SC3nnbo9JSZT",
        "colab_type": "code",
        "colab": {
          "base_uri": "https://localhost:8080/",
          "height": 51
        },
        "outputId": "4a132adc-c4d6-470c-e5a3-15fb7a237663"
      },
      "source": [
        "%timeit -n 10 np_blur(big_img, kernel)\n",
        "%timeit -n 10 np_blur_loop(img, kernel)"
      ],
      "execution_count": 9,
      "outputs": [
        {
          "output_type": "stream",
          "text": [
            "10 loops, best of 3: 1.02 ms per loop\n",
            "10 loops, best of 3: 40.6 ms per loop\n"
          ],
          "name": "stdout"
        }
      ]
    },
    {
      "cell_type": "code",
      "metadata": {
        "id": "mA5lG0NTJSZX",
        "colab_type": "code",
        "colab": {
          "base_uri": "https://localhost:8080/",
          "height": 770
        },
        "outputId": "608a52d7-48bb-42af-ab58-dae1b8a88211"
      },
      "source": [
        "plt.imshow(img, cmap='gray')\n",
        "plt.show()\n",
        "plt.imshow(np_res.astype(np.uint8), cmap='gray')\n",
        "plt.show()\n",
        "plt.imshow(cp_res.astype(np.uint8), cmap='gray');"
      ],
      "execution_count": 10,
      "outputs": [
        {
          "output_type": "display_data",
          "data": {
            "image/png": "[encoded data removed]",
            "text/plain": [
              "<Figure size 432x288 with 1 Axes>"
            ]
          },
          "metadata": {
            "tags": []
          }
        },
        {
          "output_type": "display_data",
          "data": {
            "image/png": "[encoded data removed]",
            "text/plain": [
              "<Figure size 432x288 with 1 Axes>"
            ]
          },
          "metadata": {
            "tags": []
          }
        },
        {
          "output_type": "display_data",
          "data": {
            "image/png": "[encoded data removed]",
            "text/plain": [
              "<Figure size 432x288 with 1 Axes>"
            ]
          },
          "metadata": {
            "tags": []
          }
        }
      ]
    },
    {
      "cell_type": "code",
      "metadata": {
        "id": "57LSbwi4Jw4z",
        "colab_type": "code",
        "colab": {}
      },
      "source": [
        ""
      ],
      "execution_count": 0,
      "outputs": []
    }
  ]
}