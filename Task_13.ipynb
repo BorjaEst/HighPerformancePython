{
 "cells": [
  {
   "cell_type": "code",
   "execution_count": null,
   "metadata": {},
   "outputs": [],
   "source": [
    "!pip install cupy-cuda100 -user"
   ]
  },
  {
   "cell_type": "markdown",
   "metadata": {},
   "source": [
    "# Imports"
   ]
  },
  {
   "cell_type": "code",
   "execution_count": 1,
   "metadata": {
    "ExecuteTime": {
     "end_time": "2019-12-17T22:34:49.463446Z",
     "start_time": "2019-12-17T22:34:49.318803Z"
    }
   },
   "outputs": [
    {
     "ename": "ModuleNotFoundError",
     "evalue": "No module named 'cupy'",
     "output_type": "error",
     "traceback": [
      "\u001b[0;31m---------------------------------------------------------------------------\u001b[0m",
      "\u001b[0;31mModuleNotFoundError\u001b[0m                       Traceback (most recent call last)",
      "\u001b[0;32m<ipython-input-1-2e8732c5e33d>\u001b[0m in \u001b[0;36m<module>\u001b[0;34m\u001b[0m\n\u001b[0;32m----> 1\u001b[0;31m \u001b[0;32mimport\u001b[0m \u001b[0mcupy\u001b[0m \u001b[0;32mas\u001b[0m \u001b[0mcp\u001b[0m\u001b[0;34m\u001b[0m\u001b[0;34m\u001b[0m\u001b[0m\n\u001b[0m\u001b[1;32m      2\u001b[0m \u001b[0;32mimport\u001b[0m \u001b[0mnumpy\u001b[0m \u001b[0;32mas\u001b[0m \u001b[0mnp\u001b[0m\u001b[0;34m\u001b[0m\u001b[0;34m\u001b[0m\u001b[0m\n\u001b[1;32m      3\u001b[0m \u001b[0;32mimport\u001b[0m \u001b[0mmatplotlib\u001b[0m\u001b[0;34m.\u001b[0m\u001b[0mpyplot\u001b[0m \u001b[0;32mas\u001b[0m \u001b[0mplt\u001b[0m\u001b[0;34m\u001b[0m\u001b[0;34m\u001b[0m\u001b[0m\n\u001b[1;32m      4\u001b[0m \u001b[0;32mfrom\u001b[0m \u001b[0mtqdm\u001b[0m\u001b[0;34m.\u001b[0m\u001b[0mauto\u001b[0m \u001b[0;32mimport\u001b[0m \u001b[0mtqdm\u001b[0m\u001b[0;34m\u001b[0m\u001b[0;34m\u001b[0m\u001b[0m\n\u001b[1;32m      5\u001b[0m \u001b[0;34m\u001b[0m\u001b[0m\n",
      "\u001b[0;31mModuleNotFoundError\u001b[0m: No module named 'cupy'"
     ]
    }
   ],
   "source": [
    "import cupy as cp\n",
    "import numpy as np\n",
    "import matplotlib.pyplot as plt\n",
    "from tqdm.auto import tqdm\n",
    "\n",
    "# Wider cells\n",
    "from IPython.core.display import display, HTML\n",
    "display(HTML(\"<style>.container { width:95% !important; }</style>\"))\n",
    "\n",
    "# Make sure folder for images exist\n",
    "import os\n",
    "try:\n",
    "    os.mkdir('img/task10')\n",
    "except FileExistsError as err:\n",
    "    pass\n",
    "\n",
    "# Jupyter magic\n",
    "%reload_ext autoreload\n",
    "%autoreload 2\n",
    "%matplotlib inline\n",
    "\n",
    "# Autocompletion fix\n",
    "# %config Completer.use_jedi=False"
   ]
  },
  {
   "cell_type": "markdown",
   "metadata": {},
   "source": [
    "# Task 13. Image blur\n",
    "\n",
    "\n",
    "<u>By using <i><strong>CuPy</strong></i>:</u>\n",
    "* Implement the gpu version of the image blur algorithm. What you need to do is calculate convolution some image and some blur filter on every pixel. You should compute convolutions in parallel for every pixel using gpu cores.\n",
    "* Take any 100x100 image and \n",
    "\n",
    "<strong >Example of a blurred image:</strong>\n",
    "![Blur](img/misc/blur.jpg)"
   ]
  },
  {
   "cell_type": "markdown",
   "metadata": {},
   "source": [
    "# T13.1 Before and after pictures are given (any 100x100 image)"
   ]
  },
  {
   "cell_type": "code",
   "execution_count": 4,
   "metadata": {
    "ExecuteTime": {
     "end_time": "2019-12-17T22:42:12.099029Z",
     "start_time": "2019-12-17T22:42:11.239461Z"
    }
   },
   "outputs": [
    {
     "name": "stdout",
     "output_type": "stream",
     "text": [
      "Warning: Failed to set locale category LC_NUMERIC to en_RU.\r\n",
      "Warning: Failed to set locale category LC_TIME to en_RU.\r\n",
      "Warning: Failed to set locale category LC_COLLATE to en_RU.\r\n",
      "Warning: Failed to set locale category LC_MONETARY to en_RU.\r\n",
      "Warning: Failed to set locale category LC_MESSAGES to en_RU.\r\n"
     ]
    }
   ],
   "source": [
    "# !wget -P img/task13/ -q https://quintagroup.com/cms/python/images/opencv-logo.png/@@images/image.png"
   ]
  },
  {
   "cell_type": "code",
   "execution_count": null,
   "metadata": {},
   "outputs": [],
   "source": [
    "from PIL import Image\n",
    "im_s = 100\n",
    "fname = \"img/task13/image.png\"\n",
    "pil_img = Image.open(fname).resize((im_s,im_s)).convert('L')\n",
    "img = np.array(pil_img)\n",
    "k_hs = 3\n",
    "k_s = 2 * k_hs + 1\n",
    "kernel = np.ones((k_s,k_s))\n",
    "kernel /= kernel.sum()\n",
    "cp_img = cp.array(img)\n",
    "cp_kernel = cp.array(kernel)"
   ]
  },
  {
   "cell_type": "code",
   "execution_count": null,
   "metadata": {},
   "outputs": [],
   "source": [
    "big_img = np.empty((im_s*im_s, k_s*k_s), dtype='float32')\n",
    "for i in range(k_hs, im_s-k_hs):\n",
    "    for j in range(k_hs, im_s-k_hs):\n",
    "        big_img[i*im_s + j] = img[i-k_hs:i+k_hs+1, j-k_hs:j+k_hs+1].flatten()"
   ]
  },
  {
   "cell_type": "code",
   "execution_count": null,
   "metadata": {},
   "outputs": [],
   "source": [
    "def np_blur_loop(img, kernel):\n",
    "    res = np.empty_like(img)\n",
    "    for i in range(k_hs, im_s-k_hs):\n",
    "        for j in range(k_hs, im_s-k_hs):\n",
    "            res[i, j] = (img[i-k_hs:i+k_hs+1, j-k_hs:j+k_hs+1] * kernel).sum()\n",
    "\n",
    "def np_blur(big_img, kernel):\n",
    "    f_kernel = np.ravel(kernel)\n",
    "    res = np.dot(big_img, f_kernel)\n",
    "    return np.reshape(res, (im_s, im_s))\n",
    "\n",
    "def cp_blur(big_img, kernel):\n",
    "    f_kernel = cp.ravel(kernel)\n",
    "    res = cp.dot(big_img, f_kernel)\n",
    "    return cp.reshape(res, (im_s, im_s))\n",
    "\n",
    "def cp_blur_loop(img, kernel):\n",
    "    res = cp.empty_like(img)\n",
    "    for i in range(k_hs, im_s-k_hs):\n",
    "        for j in range(k_hs, im_s-k_hs):\n",
    "              res[i, j] = (img[i-k_hs:i+k_hs+1, j-k_hs:j+k_hs+1] * kernel).sum()\n",
    "\n",
    "    "
   ]
  },
  {
   "cell_type": "code",
   "execution_count": null,
   "metadata": {},
   "outputs": [],
   "source": [
    "np_res = np_blur(big_img, kernel)\n",
    "\n",
    "cp_big_img = cp.array(big_img)          \n",
    "cp_res = cp_blur(cp_big_img, cp_kernel)\n",
    "cp_res = cp.asnumpy(cp_res)"
   ]
  },
  {
   "cell_type": "markdown",
   "metadata": {},
   "source": [
    "# T13.2\tMeasure CuPy implementation time"
   ]
  },
  {
   "cell_type": "code",
   "execution_count": null,
   "metadata": {},
   "outputs": [],
   "source": [
    "%timeit -n 100 cp_blur(cp_big_img, cp_kernel)\n",
    "cp_blur_loop(cp_img, cp_kernel)\n",
    "%timeit cp_blur_loop(cp_img, cp_kernel)"
   ]
  },
  {
   "cell_type": "markdown",
   "metadata": {},
   "source": [
    "# T13.3 Measure NumPy implementation time"
   ]
  },
  {
   "cell_type": "code",
   "execution_count": null,
   "metadata": {},
   "outputs": [],
   "source": [
    "%timeit np_blur(big_img, kernel)\n",
    "%timeit np_blur_loop(img, kernel)"
   ]
  },
  {
   "cell_type": "code",
   "execution_count": null,
   "metadata": {},
   "outputs": [],
   "source": [
    "plt.imshow(img, cmap='gray')\n",
    "plt.show()\n",
    "plt.imshow(np_res.astype(np.uint8), cmap='gray')\n",
    "plt.show()\n",
    "plt.imshow(cp_res.astype(np.uint8), cmap='gray');"
   ]
  }
 ],
 "metadata": {
  "kernelspec": {
   "display_name": "Python 3",
   "language": "python",
   "name": "python3"
  },
  "language_info": {
   "codemirror_mode": {
    "name": "ipython",
    "version": 3
   },
   "file_extension": ".py",
   "mimetype": "text/x-python",
   "name": "python",
   "nbconvert_exporter": "python",
   "pygments_lexer": "ipython3",
   "version": "3.7.5"
  }
 },
 "nbformat": 4,
 "nbformat_minor": 2
}
